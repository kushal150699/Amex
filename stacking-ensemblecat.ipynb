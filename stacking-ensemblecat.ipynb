{
 "cells": [
  {
   "cell_type": "code",
   "execution_count": 1,
   "id": "70ef8c52",
   "metadata": {
    "_cell_guid": "b1076dfc-b9ad-4769-8c92-a6c4dae69d19",
    "_uuid": "8f2839f25d086af736a60e9eeb907d3b93b6e0e5",
    "execution": {
     "iopub.execute_input": "2022-08-15T14:12:04.668705Z",
     "iopub.status.busy": "2022-08-15T14:12:04.668091Z",
     "iopub.status.idle": "2022-08-15T14:12:07.730700Z",
     "shell.execute_reply": "2022-08-15T14:12:07.729312Z"
    },
    "papermill": {
     "duration": 3.073871,
     "end_time": "2022-08-15T14:12:07.734319",
     "exception": false,
     "start_time": "2022-08-15T14:12:04.660448",
     "status": "completed"
    },
    "tags": []
   },
   "outputs": [
    {
     "data": {
      "text/html": [
       "<style type='text/css'>\n",
       ".datatable table.frame { margin-bottom: 0; }\n",
       ".datatable table.frame thead { border-bottom: none; }\n",
       ".datatable table.frame tr.coltypes td {  color: #FFFFFF;  line-height: 6px;  padding: 0 0.5em;}\n",
       ".datatable .bool    { background: #DDDD99; }\n",
       ".datatable .object  { background: #565656; }\n",
       ".datatable .int     { background: #5D9E5D; }\n",
       ".datatable .float   { background: #4040CC; }\n",
       ".datatable .str     { background: #CC4040; }\n",
       ".datatable .time    { background: #40CC40; }\n",
       ".datatable .row_index {  background: var(--jp-border-color3);  border-right: 1px solid var(--jp-border-color0);  color: var(--jp-ui-font-color3);  font-size: 9px;}\n",
       ".datatable .frame tbody td { text-align: left; }\n",
       ".datatable .frame tr.coltypes .row_index {  background: var(--jp-border-color0);}\n",
       ".datatable th:nth-child(2) { padding-left: 12px; }\n",
       ".datatable .hellipsis {  color: var(--jp-cell-editor-border-color);}\n",
       ".datatable .vellipsis {  background: var(--jp-layout-color0);  color: var(--jp-cell-editor-border-color);}\n",
       ".datatable .na {  color: var(--jp-cell-editor-border-color);  font-size: 80%;}\n",
       ".datatable .sp {  opacity: 0.25;}\n",
       ".datatable .footer { font-size: 9px; }\n",
       ".datatable .frame_dimensions {  background: var(--jp-border-color3);  border-top: 1px solid var(--jp-border-color0);  color: var(--jp-ui-font-color3);  display: inline-block;  opacity: 0.6;  padding: 1px 10px 1px 5px;}\n",
       "</style>\n"
      ],
      "text/plain": [
       "<IPython.core.display.HTML object>"
      ]
     },
     "metadata": {},
     "output_type": "display_data"
    }
   ],
   "source": [
    "import pandas as pd\n",
    "import numpy as np\n",
    "import gc\n",
    "from sklearn.model_selection import StratifiedKFold,KFold\n",
    "from sklearn.linear_model import LogisticRegression\n",
    "from catboost import CatBoostClassifier\n",
    "from scipy import stats\n",
    "import pickle \n",
    "from pickle import load,dump\n",
    "from sklearn.preprocessing import StandardScaler\n",
    "from lightgbm import LGBMClassifier, log_evaluation\n",
    "import warnings\n",
    "import joblib"
   ]
  },
  {
   "cell_type": "code",
   "execution_count": 2,
   "id": "3e83fee5",
   "metadata": {
    "execution": {
     "iopub.execute_input": "2022-08-15T14:12:07.747083Z",
     "iopub.status.busy": "2022-08-15T14:12:07.746623Z",
     "iopub.status.idle": "2022-08-15T14:12:14.751605Z",
     "shell.execute_reply": "2022-08-15T14:12:14.750003Z"
    },
    "papermill": {
     "duration": 7.015158,
     "end_time": "2022-08-15T14:12:14.754667",
     "exception": false,
     "start_time": "2022-08-15T14:12:07.739509",
     "status": "completed"
    },
    "tags": []
   },
   "outputs": [],
   "source": [
    "oof_xgb = pd.read_csv('../input/fork-of-amex-finalxgb/oof_transfer_learning.csv')\n",
    "oof_xgbpy = pd.read_csv('../input/amex-fe-pyramid/oof_xgb_v1.csv') \n",
    "oof_automl = pd.read_csv('../input/amex-lightautoml/AutoML_oof.csv')\n",
    "oof_automl43 = pd.read_csv('../input/amex-lightautoml43/AutoML_oof.csv')\n",
    "oof_cat = pd.read_csv('../input/amex-catboost770/oof_cat_v1.csv')\n",
    "oof_cat41 = pd.read_csv('../input/amex-catboost770-seed41/oof_cat_seed41.csv')\n",
    "oof_lgbm = pd.read_csv('../input/lgbm770/oof_lgbm_v1(1).csv')\n",
    "oof_lgbmquick = pd.read_csv('../input/amexlightgbmquickstart2seed/oof_lgbmquick.csv')\n",
    "oof_transfer1 = pd.read_csv('../input/amextransferlearning/oof_transfer_learning.csv')\n",
    "oof_transfer2 = pd.read_csv('../input/amextransferlearningresnet/oof_transfer_learning.csv')\n",
    "oof_cnn = pd.read_csv('../input/amex-keras-1d-cnn/oof_CNN1D.csv')"
   ]
  },
  {
   "cell_type": "code",
   "execution_count": 3,
   "id": "004ae4e2",
   "metadata": {
    "execution": {
     "iopub.execute_input": "2022-08-15T14:12:14.766076Z",
     "iopub.status.busy": "2022-08-15T14:12:14.765588Z",
     "iopub.status.idle": "2022-08-15T14:12:14.789504Z",
     "shell.execute_reply": "2022-08-15T14:12:14.787732Z"
    },
    "papermill": {
     "duration": 0.033237,
     "end_time": "2022-08-15T14:12:14.792587",
     "exception": false,
     "start_time": "2022-08-15T14:12:14.759350",
     "status": "completed"
    },
    "tags": []
   },
   "outputs": [],
   "source": [
    "oof_cat['oof_pred_cat'] = (oof_cat['oof_pred_cat'] + oof_cat41['oof_pred_cat'])/2"
   ]
  },
  {
   "cell_type": "code",
   "execution_count": 4,
   "id": "506497bf",
   "metadata": {
    "execution": {
     "iopub.execute_input": "2022-08-15T14:12:14.803490Z",
     "iopub.status.busy": "2022-08-15T14:12:14.803070Z",
     "iopub.status.idle": "2022-08-15T14:12:14.814572Z",
     "shell.execute_reply": "2022-08-15T14:12:14.812593Z"
    },
    "papermill": {
     "duration": 0.020681,
     "end_time": "2022-08-15T14:12:14.817832",
     "exception": false,
     "start_time": "2022-08-15T14:12:14.797151",
     "status": "completed"
    },
    "tags": []
   },
   "outputs": [],
   "source": [
    "oof_automl['oof_pred'] = (oof_automl['oof_pred'] + oof_automl43['oof_pred'])/2"
   ]
  },
  {
   "cell_type": "code",
   "execution_count": 5,
   "id": "de591646",
   "metadata": {
    "execution": {
     "iopub.execute_input": "2022-08-15T14:12:14.829464Z",
     "iopub.status.busy": "2022-08-15T14:12:14.829007Z",
     "iopub.status.idle": "2022-08-15T14:12:14.846881Z",
     "shell.execute_reply": "2022-08-15T14:12:14.845449Z"
    },
    "papermill": {
     "duration": 0.0274,
     "end_time": "2022-08-15T14:12:14.850234",
     "exception": false,
     "start_time": "2022-08-15T14:12:14.822834",
     "status": "completed"
    },
    "tags": []
   },
   "outputs": [],
   "source": [
    "oof_xgb.rename(columns={'oof_pred':'test_preds_xgb'},inplace=True)\n",
    "oof_xgbpy.rename(columns={'oof_pred':'test_preds_xgbpy'},inplace=True)\n",
    "oof_cat.rename(columns={'oof_pred_cat':'test_preds_cat'},inplace=True)\n",
    "oof_automl.rename(columns={'oof_pred':'test_preds_automl'},inplace=True)\n",
    "oof_transfer1.rename(columns={'oof_pred':'test_preds_transfer1'},inplace=True)\n",
    "oof_transfer2.rename(columns={'oof_pred':'test_preds_transfer2'},inplace=True)\n",
    "oof_cnn.rename(columns={'oof_pred':'test_preds_cnn'},inplace=True)\n",
    "oof_lgbm.rename(columns={'oof_pred_lgbm':'test_preds_lgbm'},inplace=True)\n",
    "oof_lgbmquick.rename(columns={'oof_pred':'test_preds_lgbmquick'},inplace=True)"
   ]
  },
  {
   "cell_type": "code",
   "execution_count": 6,
   "id": "4daddbfb",
   "metadata": {
    "execution": {
     "iopub.execute_input": "2022-08-15T14:12:14.861439Z",
     "iopub.status.busy": "2022-08-15T14:12:14.860971Z",
     "iopub.status.idle": "2022-08-15T14:12:14.938923Z",
     "shell.execute_reply": "2022-08-15T14:12:14.937541Z"
    },
    "papermill": {
     "duration": 0.087205,
     "end_time": "2022-08-15T14:12:14.942128",
     "exception": false,
     "start_time": "2022-08-15T14:12:14.854923",
     "status": "completed"
    },
    "tags": []
   },
   "outputs": [],
   "source": [
    "oof_df = pd.concat([oof_xgb,oof_automl.test_preds_automl,oof_lgbm.test_preds_lgbm,oof_xgbpy.test_preds_xgbpy,oof_cat.test_preds_cat,oof_lgbmquick.test_preds_lgbmquick,oof_cnn.test_preds_cnn,oof_transfer1.test_preds_transfer1,oof_transfer2.test_preds_transfer2],axis=1)"
   ]
  },
  {
   "cell_type": "code",
   "execution_count": 7,
   "id": "4daa907c",
   "metadata": {
    "execution": {
     "iopub.execute_input": "2022-08-15T14:12:14.953615Z",
     "iopub.status.busy": "2022-08-15T14:12:14.952813Z",
     "iopub.status.idle": "2022-08-15T14:12:14.982298Z",
     "shell.execute_reply": "2022-08-15T14:12:14.980630Z"
    },
    "papermill": {
     "duration": 0.038452,
     "end_time": "2022-08-15T14:12:14.985170",
     "exception": false,
     "start_time": "2022-08-15T14:12:14.946718",
     "status": "completed"
    },
    "tags": []
   },
   "outputs": [
    {
     "data": {
      "text/html": [
       "<div>\n",
       "<style scoped>\n",
       "    .dataframe tbody tr th:only-of-type {\n",
       "        vertical-align: middle;\n",
       "    }\n",
       "\n",
       "    .dataframe tbody tr th {\n",
       "        vertical-align: top;\n",
       "    }\n",
       "\n",
       "    .dataframe thead th {\n",
       "        text-align: right;\n",
       "    }\n",
       "</style>\n",
       "<table border=\"1\" class=\"dataframe\">\n",
       "  <thead>\n",
       "    <tr style=\"text-align: right;\">\n",
       "      <th></th>\n",
       "      <th>target</th>\n",
       "      <th>test_preds_xgb</th>\n",
       "      <th>test_preds_automl</th>\n",
       "      <th>test_preds_lgbm</th>\n",
       "      <th>test_preds_xgbpy</th>\n",
       "      <th>test_preds_cat</th>\n",
       "      <th>test_preds_lgbmquick</th>\n",
       "      <th>test_preds_cnn</th>\n",
       "      <th>test_preds_transfer1</th>\n",
       "      <th>test_preds_transfer2</th>\n",
       "    </tr>\n",
       "  </thead>\n",
       "  <tbody>\n",
       "    <tr>\n",
       "      <th>0</th>\n",
       "      <td>1</td>\n",
       "      <td>1.154194</td>\n",
       "      <td>0.782662</td>\n",
       "      <td>1.056450</td>\n",
       "      <td>1.028873</td>\n",
       "      <td>0.708636</td>\n",
       "      <td>1.310415</td>\n",
       "      <td>0.611922</td>\n",
       "      <td>0.760796</td>\n",
       "      <td>0.664672</td>\n",
       "    </tr>\n",
       "    <tr>\n",
       "      <th>1</th>\n",
       "      <td>0</td>\n",
       "      <td>-7.939376</td>\n",
       "      <td>0.000712</td>\n",
       "      <td>0.000387</td>\n",
       "      <td>-8.107467</td>\n",
       "      <td>0.000534</td>\n",
       "      <td>-7.767016</td>\n",
       "      <td>0.049239</td>\n",
       "      <td>0.000401</td>\n",
       "      <td>0.000582</td>\n",
       "    </tr>\n",
       "    <tr>\n",
       "      <th>2</th>\n",
       "      <td>0</td>\n",
       "      <td>-6.199133</td>\n",
       "      <td>0.001576</td>\n",
       "      <td>0.001538</td>\n",
       "      <td>-6.588468</td>\n",
       "      <td>0.000739</td>\n",
       "      <td>-6.753305</td>\n",
       "      <td>0.069256</td>\n",
       "      <td>0.001334</td>\n",
       "      <td>0.001924</td>\n",
       "    </tr>\n",
       "    <tr>\n",
       "      <th>3</th>\n",
       "      <td>0</td>\n",
       "      <td>-3.873612</td>\n",
       "      <td>0.019122</td>\n",
       "      <td>0.022494</td>\n",
       "      <td>-3.595696</td>\n",
       "      <td>0.027202</td>\n",
       "      <td>-3.918158</td>\n",
       "      <td>0.184326</td>\n",
       "      <td>0.021304</td>\n",
       "      <td>0.030478</td>\n",
       "    </tr>\n",
       "    <tr>\n",
       "      <th>4</th>\n",
       "      <td>1</td>\n",
       "      <td>1.994368</td>\n",
       "      <td>0.918872</td>\n",
       "      <td>2.121106</td>\n",
       "      <td>2.096829</td>\n",
       "      <td>0.921224</td>\n",
       "      <td>1.792675</td>\n",
       "      <td>0.626901</td>\n",
       "      <td>0.852713</td>\n",
       "      <td>0.859151</td>\n",
       "    </tr>\n",
       "  </tbody>\n",
       "</table>\n",
       "</div>"
      ],
      "text/plain": [
       "   target  test_preds_xgb  test_preds_automl  test_preds_lgbm  \\\n",
       "0       1        1.154194           0.782662         1.056450   \n",
       "1       0       -7.939376           0.000712         0.000387   \n",
       "2       0       -6.199133           0.001576         0.001538   \n",
       "3       0       -3.873612           0.019122         0.022494   \n",
       "4       1        1.994368           0.918872         2.121106   \n",
       "\n",
       "   test_preds_xgbpy  test_preds_cat  test_preds_lgbmquick  test_preds_cnn  \\\n",
       "0          1.028873        0.708636              1.310415        0.611922   \n",
       "1         -8.107467        0.000534             -7.767016        0.049239   \n",
       "2         -6.588468        0.000739             -6.753305        0.069256   \n",
       "3         -3.595696        0.027202             -3.918158        0.184326   \n",
       "4          2.096829        0.921224              1.792675        0.626901   \n",
       "\n",
       "   test_preds_transfer1  test_preds_transfer2  \n",
       "0              0.760796              0.664672  \n",
       "1              0.000401              0.000582  \n",
       "2              0.001334              0.001924  \n",
       "3              0.021304              0.030478  \n",
       "4              0.852713              0.859151  "
      ]
     },
     "execution_count": 7,
     "metadata": {},
     "output_type": "execute_result"
    }
   ],
   "source": [
    "oof_df.head(5)"
   ]
  },
  {
   "cell_type": "code",
   "execution_count": 8,
   "id": "b7f7d3ee",
   "metadata": {
    "execution": {
     "iopub.execute_input": "2022-08-15T14:12:14.998124Z",
     "iopub.status.busy": "2022-08-15T14:12:14.997595Z",
     "iopub.status.idle": "2022-08-15T14:12:15.010412Z",
     "shell.execute_reply": "2022-08-15T14:12:15.009111Z"
    },
    "papermill": {
     "duration": 0.022915,
     "end_time": "2022-08-15T14:12:15.013415",
     "exception": false,
     "start_time": "2022-08-15T14:12:14.990500",
     "status": "completed"
    },
    "tags": []
   },
   "outputs": [],
   "source": [
    "def amex_metric_mod(y_true, y_pred):\n",
    "\n",
    "    labels     = np.transpose(np.array([y_true, y_pred]))\n",
    "    labels     = labels[labels[:, 1].argsort()[::-1]]\n",
    "    weights    = np.where(labels[:,0]==0, 20, 1)\n",
    "    cut_vals   = labels[np.cumsum(weights) <= int(0.04 * np.sum(weights))]\n",
    "    top_four   = np.sum(cut_vals[:,0]) / np.sum(labels[:,0])\n",
    "\n",
    "    gini = [0,0]\n",
    "    for i in [1,0]:\n",
    "        labels         = np.transpose(np.array([y_true, y_pred]))\n",
    "        labels         = labels[labels[:, i].argsort()[::-1]]\n",
    "        weight         = np.where(labels[:,0]==0, 20, 1)\n",
    "        weight_random  = np.cumsum(weight / np.sum(weight))\n",
    "        total_pos      = np.sum(labels[:, 0] *  weight)\n",
    "        cum_pos_found  = np.cumsum(labels[:, 0] * weight)\n",
    "        lorentz        = cum_pos_found / total_pos\n",
    "        gini[i]        = np.sum((lorentz - weight_random) * weight)\n",
    "\n",
    "    return 0.5 * (gini[1]/gini[0] + top_four)"
   ]
  },
  {
   "cell_type": "code",
   "execution_count": 9,
   "id": "34ed801c",
   "metadata": {
    "execution": {
     "iopub.execute_input": "2022-08-15T14:12:15.026299Z",
     "iopub.status.busy": "2022-08-15T14:12:15.025878Z",
     "iopub.status.idle": "2022-08-15T14:12:15.036881Z",
     "shell.execute_reply": "2022-08-15T14:12:15.035647Z"
    },
    "papermill": {
     "duration": 0.021503,
     "end_time": "2022-08-15T14:12:15.040782",
     "exception": false,
     "start_time": "2022-08-15T14:12:15.019279",
     "status": "completed"
    },
    "tags": []
   },
   "outputs": [],
   "source": [
    "def amex_metric(y_true: np.array, y_pred: np.array) -> float:\n",
    "\n",
    "    # count of positives and negatives\n",
    "    n_pos = y_true.sum()\n",
    "    n_neg = y_true.shape[0] - n_pos\n",
    "\n",
    "    # sorting by descring prediction values\n",
    "    indices = np.argsort(y_pred)[::-1]\n",
    "    preds, target = y_pred[indices], y_true[indices]\n",
    "\n",
    "    # filter the top 4% by cumulative row weights\n",
    "    weight = 20.0 - target * 19.0\n",
    "    cum_norm_weight = (weight / weight.sum()).cumsum()\n",
    "    four_pct_filter = cum_norm_weight <= 0.04\n",
    "\n",
    "    # default rate captured at 4%\n",
    "    d = target[four_pct_filter].sum() / n_pos\n",
    "\n",
    "    # weighted gini coefficient\n",
    "    lorentz = (target / n_pos).cumsum()\n",
    "    gini = ((lorentz - cum_norm_weight) * weight).sum()\n",
    "\n",
    "    # max weighted gini coefficient\n",
    "    gini_max = 10 * n_neg * (1 - 19 / (n_pos + 20 * n_neg))\n",
    "\n",
    "    # normalized weighted gini coefficient\n",
    "    g = gini / gini_max\n",
    "\n",
    "    return 0.5 * (g + d)\n",
    "\n",
    "def lgb_amex_metric(y_true, y_pred):\n",
    "    \"\"\"The competition metric with lightgbm's calling convention\"\"\"\n",
    "    return ('amex',\n",
    "            amex_metric(y_true, y_pred),\n",
    "            True)"
   ]
  },
  {
   "cell_type": "code",
   "execution_count": 10,
   "id": "7627bd5c",
   "metadata": {
    "execution": {
     "iopub.execute_input": "2022-08-15T14:12:15.054298Z",
     "iopub.status.busy": "2022-08-15T14:12:15.053850Z",
     "iopub.status.idle": "2022-08-15T14:12:15.060992Z",
     "shell.execute_reply": "2022-08-15T14:12:15.059190Z"
    },
    "papermill": {
     "duration": 0.018961,
     "end_time": "2022-08-15T14:12:15.065641",
     "exception": false,
     "start_time": "2022-08-15T14:12:15.046680",
     "status": "completed"
    },
    "tags": []
   },
   "outputs": [],
   "source": [
    "oofCols = [col for col in oof_df.columns if 'test_preds' in col]"
   ]
  },
  {
   "cell_type": "code",
   "execution_count": 11,
   "id": "c6db502b",
   "metadata": {
    "execution": {
     "iopub.execute_input": "2022-08-15T14:12:15.081217Z",
     "iopub.status.busy": "2022-08-15T14:12:15.080736Z",
     "iopub.status.idle": "2022-08-15T14:15:20.054143Z",
     "shell.execute_reply": "2022-08-15T14:15:20.052740Z"
    },
    "papermill": {
     "duration": 184.985193,
     "end_time": "2022-08-15T14:15:20.056705",
     "exception": false,
     "start_time": "2022-08-15T14:12:15.071512",
     "status": "completed"
    },
    "tags": []
   },
   "outputs": [
    {
     "name": "stdout",
     "output_type": "stream",
     "text": [
      "******* Fold 0 ******* \n",
      "0:\tlearn: 0.6435303\ttest: 0.6438022\tbest: 0.6438022 (0)\ttotal: 132ms\tremaining: 34m 7s\n",
      "100:\tlearn: 0.2138984\ttest: 0.2141819\tbest: 0.2141819 (100)\ttotal: 6.42s\tremaining: 16m 19s\n",
      "200:\tlearn: 0.2128113\ttest: 0.2133147\tbest: 0.2133147 (200)\ttotal: 12.5s\tremaining: 15m 53s\n",
      "300:\tlearn: 0.2123918\ttest: 0.2132580\tbest: 0.2132558 (289)\ttotal: 18.4s\tremaining: 15m 30s\n",
      "400:\tlearn: 0.2119818\ttest: 0.2132550\tbest: 0.2132465 (375)\ttotal: 24.4s\tremaining: 15m 18s\n",
      "500:\tlearn: 0.2113660\ttest: 0.2132893\tbest: 0.2132465 (375)\ttotal: 30.6s\tremaining: 15m 16s\n",
      "Stopped by overfitting detector  (200 iterations wait)\n",
      "\n",
      "bestTest = 0.2132465262\n",
      "bestIteration = 375\n",
      "\n",
      "Shrink model to first 376 iterations.\n",
      "Kaggle Metric = 0.79688237874649 \n",
      "\n",
      "******* Fold 1 ******* \n",
      "0:\tlearn: 0.6477317\ttest: 0.6476353\tbest: 0.6476353 (0)\ttotal: 64.1ms\tremaining: 16m 33s\n",
      "100:\tlearn: 0.2138422\ttest: 0.2143378\tbest: 0.2143378 (100)\ttotal: 6.61s\tremaining: 16m 47s\n",
      "200:\tlearn: 0.2127008\ttest: 0.2136572\tbest: 0.2136572 (200)\ttotal: 12.5s\tremaining: 15m 54s\n",
      "300:\tlearn: 0.2122616\ttest: 0.2136275\tbest: 0.2136238 (236)\ttotal: 18.4s\tremaining: 15m 31s\n",
      "400:\tlearn: 0.2118624\ttest: 0.2136206\tbest: 0.2136200 (395)\ttotal: 24.4s\tremaining: 15m 20s\n",
      "500:\tlearn: 0.2112933\ttest: 0.2136546\tbest: 0.2136194 (402)\ttotal: 30.5s\tremaining: 15m 11s\n",
      "600:\tlearn: 0.2106432\ttest: 0.2136875\tbest: 0.2136194 (402)\ttotal: 36.4s\tremaining: 15m 1s\n",
      "Stopped by overfitting detector  (200 iterations wait)\n",
      "\n",
      "bestTest = 0.2136194382\n",
      "bestIteration = 402\n",
      "\n",
      "Shrink model to first 403 iterations.\n",
      "Kaggle Metric = 0.7990273149597996 \n",
      "\n",
      "******* Fold 2 ******* \n",
      "0:\tlearn: 0.6431222\ttest: 0.6434849\tbest: 0.6434849 (0)\ttotal: 56.7ms\tremaining: 14m 39s\n",
      "100:\tlearn: 0.2138531\ttest: 0.2142801\tbest: 0.2142801 (100)\ttotal: 6.03s\tremaining: 15m 20s\n",
      "200:\tlearn: 0.2127828\ttest: 0.2133588\tbest: 0.2133588 (200)\ttotal: 11.9s\tremaining: 15m 2s\n",
      "300:\tlearn: 0.2123480\ttest: 0.2132536\tbest: 0.2132536 (300)\ttotal: 17.9s\tremaining: 15m 3s\n",
      "400:\tlearn: 0.2119501\ttest: 0.2132302\tbest: 0.2132282 (354)\ttotal: 23.9s\tremaining: 14m 59s\n",
      "500:\tlearn: 0.2113993\ttest: 0.2132463\tbest: 0.2132208 (414)\ttotal: 30.2s\tremaining: 15m 3s\n",
      "600:\tlearn: 0.2107590\ttest: 0.2132876\tbest: 0.2132208 (414)\ttotal: 36s\tremaining: 14m 53s\n",
      "Stopped by overfitting detector  (200 iterations wait)\n",
      "\n",
      "bestTest = 0.2132208327\n",
      "bestIteration = 414\n",
      "\n",
      "Shrink model to first 415 iterations.\n",
      "Kaggle Metric = 0.799677012080632 \n",
      "\n",
      "******* Fold 3 ******* \n",
      "0:\tlearn: 0.6424967\ttest: 0.6426642\tbest: 0.6426642 (0)\ttotal: 54.2ms\tremaining: 14m\n",
      "100:\tlearn: 0.2136318\ttest: 0.2149508\tbest: 0.2149508 (100)\ttotal: 5.86s\tremaining: 14m 53s\n",
      "200:\tlearn: 0.2126069\ttest: 0.2142131\tbest: 0.2142131 (200)\ttotal: 11.8s\tremaining: 14m 54s\n",
      "300:\tlearn: 0.2122069\ttest: 0.2141750\tbest: 0.2141737 (295)\ttotal: 17.7s\tremaining: 14m 53s\n",
      "400:\tlearn: 0.2118095\ttest: 0.2141717\tbest: 0.2141603 (359)\ttotal: 23.8s\tremaining: 14m 57s\n",
      "500:\tlearn: 0.2112291\ttest: 0.2142172\tbest: 0.2141603 (359)\ttotal: 29.6s\tremaining: 14m 44s\n",
      "Stopped by overfitting detector  (200 iterations wait)\n",
      "\n",
      "bestTest = 0.2141603479\n",
      "bestIteration = 359\n",
      "\n",
      "Shrink model to first 360 iterations.\n",
      "Kaggle Metric = 0.7999431778168069 \n",
      "\n",
      "******* Fold 4 ******* \n",
      "0:\tlearn: 0.6427911\ttest: 0.6426571\tbest: 0.6426571 (0)\ttotal: 53.8ms\tremaining: 13m 54s\n",
      "100:\tlearn: 0.2142075\ttest: 0.2127363\tbest: 0.2127363 (100)\ttotal: 5.98s\tremaining: 15m 11s\n",
      "200:\tlearn: 0.2131645\ttest: 0.2119090\tbest: 0.2119090 (200)\ttotal: 12s\tremaining: 15m 12s\n",
      "300:\tlearn: 0.2127679\ttest: 0.2118030\tbest: 0.2118030 (300)\ttotal: 17.9s\tremaining: 15m 4s\n",
      "400:\tlearn: 0.2123513\ttest: 0.2118128\tbest: 0.2118018 (305)\ttotal: 23.8s\tremaining: 14m 57s\n",
      "500:\tlearn: 0.2118085\ttest: 0.2118163\tbest: 0.2118000 (470)\ttotal: 29.6s\tremaining: 14m 47s\n",
      "600:\tlearn: 0.2111734\ttest: 0.2118452\tbest: 0.2118000 (470)\ttotal: 35.6s\tremaining: 14m 41s\n",
      "Stopped by overfitting detector  (200 iterations wait)\n",
      "\n",
      "bestTest = 0.2117999845\n",
      "bestIteration = 470\n",
      "\n",
      "Shrink model to first 471 iterations.\n",
      "Kaggle Metric = 0.8002687084276991 \n",
      "\n",
      "#########################\n",
      "Amex metric: 0.7991733627355267\n"
     ]
    }
   ],
   "source": [
    "FOLDS = 5\n",
    "SEED = 42\n",
    "skf = StratifiedKFold(n_splits=FOLDS, shuffle=True, random_state=SEED)\n",
    "ix=0\n",
    "params = {'objective': 'CrossEntropy', 'colsample_bylevel': 0.5, 'bootstrap_type': 'Bernoulli', \n",
    " 'max_depth': 7, 'l2_leaf_reg': 37, 'random_strength': 0.9, 'subsample': 0.9}\n",
    "oof_catstack42 = np.zeros((len(oof_df)))\n",
    "for train_ind, val_ind in skf.split(oof_df, oof_df.target):\n",
    "    \n",
    "    print(f\"******* Fold {ix} ******* \")\n",
    "    tr_x, val_x = (\n",
    "        oof_df[oofCols].iloc[train_ind].reset_index(drop=True),\n",
    "        oof_df[oofCols].iloc[val_ind].reset_index(drop=True),\n",
    "    )\n",
    "    tr_y, val_y = (\n",
    "        oof_df.target.iloc[train_ind].reset_index(drop=True),\n",
    "        oof_df.target.iloc[val_ind].reset_index(drop=True),\n",
    "    )\n",
    "\n",
    "    clf = CatBoostClassifier(**params, iterations= 15500,  random_state=SEED ,allow_writing_files=False)\n",
    "    clf.fit(tr_x, tr_y, eval_set=[(val_x, val_y)], verbose=100,early_stopping_rounds=200)\n",
    "    clf.save_model(f'cat_stacked_fold{ix}_seed{SEED}')\n",
    "    clf.load_model(f'./cat_stacked_fold{ix}_seed{SEED}')  \n",
    "    preds = clf.predict_proba(val_x)[:,1]\n",
    "    acc = amex_metric_mod(val_y.values, preds)\n",
    "    print('Kaggle Metric =',acc,'\\n')\n",
    "    \n",
    "    # SAVE OOF\n",
    "    oof_catstack42[val_ind] = preds \n",
    "    \n",
    "    del clf, tr_x, val_x, tr_y, val_y\n",
    "    _ = gc.collect()\n",
    "    \n",
    "    ix = ix + 1\n",
    "    \n",
    "print('#'*25)\n",
    "val_score = amex_metric_mod(oof_df.target, oof_catstack42)\n",
    "print(f\"Amex metric: {val_score}\")"
   ]
  },
  {
   "cell_type": "code",
   "execution_count": 12,
   "id": "b47b03d0",
   "metadata": {
    "execution": {
     "iopub.execute_input": "2022-08-15T14:15:20.073564Z",
     "iopub.status.busy": "2022-08-15T14:15:20.072675Z",
     "iopub.status.idle": "2022-08-15T14:15:20.078545Z",
     "shell.execute_reply": "2022-08-15T14:15:20.077348Z"
    },
    "papermill": {
     "duration": 0.016529,
     "end_time": "2022-08-15T14:15:20.080726",
     "exception": false,
     "start_time": "2022-08-15T14:15:20.064197",
     "status": "completed"
    },
    "tags": []
   },
   "outputs": [],
   "source": [
    "oof_catstack = pd.DataFrame(oof_catstack42,columns=['oof_catstack42'])"
   ]
  },
  {
   "cell_type": "code",
   "execution_count": 13,
   "id": "31edfa6e",
   "metadata": {
    "execution": {
     "iopub.execute_input": "2022-08-15T14:15:20.098507Z",
     "iopub.status.busy": "2022-08-15T14:15:20.097667Z",
     "iopub.status.idle": "2022-08-15T14:15:21.092421Z",
     "shell.execute_reply": "2022-08-15T14:15:21.091282Z"
    },
    "papermill": {
     "duration": 1.007068,
     "end_time": "2022-08-15T14:15:21.095208",
     "exception": false,
     "start_time": "2022-08-15T14:15:20.088140",
     "status": "completed"
    },
    "tags": []
   },
   "outputs": [],
   "source": [
    "oof_catstack.to_csv('oof_catstack.csv',index=False)"
   ]
  },
  {
   "cell_type": "code",
   "execution_count": null,
   "id": "a29725af",
   "metadata": {
    "papermill": {
     "duration": 0.007011,
     "end_time": "2022-08-15T14:15:21.110647",
     "exception": false,
     "start_time": "2022-08-15T14:15:21.103636",
     "status": "completed"
    },
    "tags": []
   },
   "outputs": [],
   "source": []
  }
 ],
 "metadata": {
  "kernelspec": {
   "display_name": "Python 3",
   "language": "python",
   "name": "python3"
  },
  "language_info": {
   "codemirror_mode": {
    "name": "ipython",
    "version": 3
   },
   "file_extension": ".py",
   "mimetype": "text/x-python",
   "name": "python",
   "nbconvert_exporter": "python",
   "pygments_lexer": "ipython3",
   "version": "3.7.12"
  },
  "papermill": {
   "default_parameters": {},
   "duration": 207.539916,
   "end_time": "2022-08-15T14:15:22.041341",
   "environment_variables": {},
   "exception": null,
   "input_path": "__notebook__.ipynb",
   "output_path": "__notebook__.ipynb",
   "parameters": {},
   "start_time": "2022-08-15T14:11:54.501425",
   "version": "2.3.4"
  }
 },
 "nbformat": 4,
 "nbformat_minor": 5
}
