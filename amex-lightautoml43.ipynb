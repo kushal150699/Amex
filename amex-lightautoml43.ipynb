{
 "cells": [
  {
   "cell_type": "markdown",
   "id": "d912ca65",
   "metadata": {
    "papermill": {
     "duration": 0.007737,
     "end_time": "2022-08-14T08:14:07.533956",
     "exception": false,
     "start_time": "2022-08-14T08:14:07.526219",
     "status": "completed"
    },
    "tags": []
   },
   "source": [
    "## 0. Prerequisites"
   ]
  },
  {
   "cell_type": "markdown",
   "id": "101d6d14",
   "metadata": {
    "papermill": {
     "duration": 0.006154,
     "end_time": "2022-08-14T08:14:07.546746",
     "exception": false,
     "start_time": "2022-08-14T08:14:07.540592",
     "status": "completed"
    },
    "tags": []
   },
   "source": [
    "### 0.0. install LightAutoML"
   ]
  },
  {
   "cell_type": "code",
   "execution_count": 1,
   "id": "5dc56719",
   "metadata": {
    "_kg_hide-output": true,
    "execution": {
     "iopub.execute_input": "2022-08-14T08:14:07.562184Z",
     "iopub.status.busy": "2022-08-14T08:14:07.561379Z",
     "iopub.status.idle": "2022-08-14T08:16:08.648794Z",
     "shell.execute_reply": "2022-08-14T08:16:08.647456Z"
    },
    "papermill": {
     "duration": 121.098634,
     "end_time": "2022-08-14T08:16:08.651790",
     "exception": false,
     "start_time": "2022-08-14T08:14:07.553156",
     "status": "completed"
    },
    "scrolled": true,
    "tags": []
   },
   "outputs": [],
   "source": [
    "%%capture\n",
    "!pip3 install -U lightautoml\n",
    "\n",
    "# QUICK WORKAROUND FOR PROBLEM WITH PANDAS\n",
    "!pip3 install -U pandas"
   ]
  },
  {
   "cell_type": "markdown",
   "id": "75a6de83",
   "metadata": {
    "papermill": {
     "duration": 0.006077,
     "end_time": "2022-08-14T08:16:08.664821",
     "exception": false,
     "start_time": "2022-08-14T08:16:08.658744",
     "status": "completed"
    },
    "tags": []
   },
   "source": [
    "### 0.1. Import libraries\n",
    "\n",
    "Here we will import the libraries we use in this kernel:\n",
    "- Standard python libraries for timing, working with OS etc.\n",
    "- Essential python DS libraries like numpy, pandas, scikit-learn and torch (the last we will use in the next cell)\n",
    "- LightAutoML modules: `TabularAutoML` preset for AutoML model creation and Task class to setup what kind of ML problem we solve (binary/multiclass classification or regression)"
   ]
  },
  {
   "cell_type": "code",
   "execution_count": 2,
   "id": "926621f6",
   "metadata": {
    "execution": {
     "iopub.execute_input": "2022-08-14T08:16:08.679850Z",
     "iopub.status.busy": "2022-08-14T08:16:08.679121Z",
     "iopub.status.idle": "2022-08-14T08:16:11.177492Z",
     "shell.execute_reply": "2022-08-14T08:16:11.176597Z"
    },
    "papermill": {
     "duration": 2.509036,
     "end_time": "2022-08-14T08:16:11.180115",
     "exception": false,
     "start_time": "2022-08-14T08:16:08.671079",
     "status": "completed"
    },
    "tags": []
   },
   "outputs": [
    {
     "data": {
      "text/html": [
       "<style type='text/css'>\n",
       ".datatable table.frame { margin-bottom: 0; }\n",
       ".datatable table.frame thead { border-bottom: none; }\n",
       ".datatable table.frame tr.coltypes td {  color: #FFFFFF;  line-height: 6px;  padding: 0 0.5em;}\n",
       ".datatable .bool    { background: #DDDD99; }\n",
       ".datatable .object  { background: #565656; }\n",
       ".datatable .int     { background: #5D9E5D; }\n",
       ".datatable .float   { background: #4040CC; }\n",
       ".datatable .str     { background: #CC4040; }\n",
       ".datatable .time    { background: #40CC40; }\n",
       ".datatable .row_index {  background: var(--jp-border-color3);  border-right: 1px solid var(--jp-border-color0);  color: var(--jp-ui-font-color3);  font-size: 9px;}\n",
       ".datatable .frame tbody td { text-align: left; }\n",
       ".datatable .frame tr.coltypes .row_index {  background: var(--jp-border-color0);}\n",
       ".datatable th:nth-child(2) { padding-left: 12px; }\n",
       ".datatable .hellipsis {  color: var(--jp-cell-editor-border-color);}\n",
       ".datatable .vellipsis {  background: var(--jp-layout-color0);  color: var(--jp-cell-editor-border-color);}\n",
       ".datatable .na {  color: var(--jp-cell-editor-border-color);  font-size: 80%;}\n",
       ".datatable .sp {  opacity: 0.25;}\n",
       ".datatable .footer { font-size: 9px; }\n",
       ".datatable .frame_dimensions {  background: var(--jp-border-color3);  border-top: 1px solid var(--jp-border-color0);  color: var(--jp-ui-font-color3);  display: inline-block;  opacity: 0.6;  padding: 1px 10px 1px 5px;}\n",
       "</style>\n"
      ],
      "text/plain": [
       "<IPython.core.display.HTML object>"
      ]
     },
     "metadata": {},
     "output_type": "display_data"
    }
   ],
   "source": [
    "# Standard python libraries\n",
    "import os\n",
    "import time\n",
    "\n",
    "# Essential DS libraries\n",
    "import numpy as np\n",
    "import pandas as pd\n",
    "import torch\n",
    "\n",
    "# LightAutoML presets, task and report generation\n",
    "from lightautoml.automl.presets.tabular_presets import TabularAutoML\n",
    "from lightautoml.tasks import Task"
   ]
  },
  {
   "cell_type": "markdown",
   "id": "f21a87fb",
   "metadata": {
    "papermill": {
     "duration": 0.006445,
     "end_time": "2022-08-14T08:16:11.193303",
     "exception": false,
     "start_time": "2022-08-14T08:16:11.186858",
     "status": "completed"
    },
    "tags": []
   },
   "source": [
    "### 0.2. Constants\n",
    "\n",
    "Here we setup the constants to use in the kernel:\n",
    "- `N_THREADS` - number of vCPUs for LightAutoML model creation\n",
    "- `N_FOLDS` - number of folds in LightAutoML inner CV\n",
    "- `RANDOM_STATE` - random seed for better reproducibility\n",
    "- `TEST_SIZE` - houldout data part size \n",
    "- `TIMEOUT` - limit in seconds for model to train\n",
    "- `TARGET_NAME` - target column name in dataset"
   ]
  },
  {
   "cell_type": "code",
   "execution_count": 3,
   "id": "c5817a5b",
   "metadata": {
    "execution": {
     "iopub.execute_input": "2022-08-14T08:16:11.208260Z",
     "iopub.status.busy": "2022-08-14T08:16:11.207625Z",
     "iopub.status.idle": "2022-08-14T08:16:11.212017Z",
     "shell.execute_reply": "2022-08-14T08:16:11.211345Z"
    },
    "papermill": {
     "duration": 0.01414,
     "end_time": "2022-08-14T08:16:11.213955",
     "exception": false,
     "start_time": "2022-08-14T08:16:11.199815",
     "status": "completed"
    },
    "tags": []
   },
   "outputs": [],
   "source": [
    "N_THREADS = 4\n",
    "N_FOLDS = 5\n",
    "RANDOM_STATE = 43\n",
    "TEST_SIZE = 0.2\n",
    "TIMEOUT = 10 * 3600 # equal to 10 hours\n",
    "TARGET_NAME = 'target'"
   ]
  },
  {
   "cell_type": "markdown",
   "id": "30b1d9dd",
   "metadata": {
    "papermill": {
     "duration": 0.006415,
     "end_time": "2022-08-14T08:16:11.227246",
     "exception": false,
     "start_time": "2022-08-14T08:16:11.220831",
     "status": "completed"
    },
    "tags": []
   },
   "source": [
    "### 0.3. Imported models setup\n",
    "\n",
    "For better reproducibility fix numpy random seed with max number of threads for Torch (which usually try to use all the threads on server):"
   ]
  },
  {
   "cell_type": "code",
   "execution_count": 4,
   "id": "99228c14",
   "metadata": {
    "execution": {
     "iopub.execute_input": "2022-08-14T08:16:11.242646Z",
     "iopub.status.busy": "2022-08-14T08:16:11.242000Z",
     "iopub.status.idle": "2022-08-14T08:16:11.272423Z",
     "shell.execute_reply": "2022-08-14T08:16:11.266367Z"
    },
    "papermill": {
     "duration": 0.04373,
     "end_time": "2022-08-14T08:16:11.277690",
     "exception": false,
     "start_time": "2022-08-14T08:16:11.233960",
     "status": "completed"
    },
    "tags": []
   },
   "outputs": [],
   "source": [
    "np.random.seed(RANDOM_STATE)\n",
    "torch.set_num_threads(N_THREADS)"
   ]
  },
  {
   "cell_type": "markdown",
   "id": "755019a8",
   "metadata": {
    "papermill": {
     "duration": 0.006454,
     "end_time": "2022-08-14T08:16:11.291005",
     "exception": false,
     "start_time": "2022-08-14T08:16:11.284551",
     "status": "completed"
    },
    "tags": []
   },
   "source": [
    "### 0.4. Data loading\n",
    "\n",
    "For now it's time to load the data:"
   ]
  },
  {
   "cell_type": "code",
   "execution_count": 5,
   "id": "28e4d8e5",
   "metadata": {
    "execution": {
     "iopub.execute_input": "2022-08-14T08:16:11.306435Z",
     "iopub.status.busy": "2022-08-14T08:16:11.305486Z",
     "iopub.status.idle": "2022-08-14T08:16:17.270216Z",
     "shell.execute_reply": "2022-08-14T08:16:17.269175Z"
    },
    "papermill": {
     "duration": 5.975108,
     "end_time": "2022-08-14T08:16:17.272779",
     "exception": false,
     "start_time": "2022-08-14T08:16:11.297671",
     "status": "completed"
    },
    "tags": []
   },
   "outputs": [
    {
     "name": "stdout",
     "output_type": "stream",
     "text": [
      "(458913, 772)\n"
     ]
    },
    {
     "data": {
      "text/html": [
       "<div>\n",
       "<style scoped>\n",
       "    .dataframe tbody tr th:only-of-type {\n",
       "        vertical-align: middle;\n",
       "    }\n",
       "\n",
       "    .dataframe tbody tr th {\n",
       "        vertical-align: top;\n",
       "    }\n",
       "\n",
       "    .dataframe thead th {\n",
       "        text-align: right;\n",
       "    }\n",
       "</style>\n",
       "<table border=\"1\" class=\"dataframe\">\n",
       "  <thead>\n",
       "    <tr style=\"text-align: right;\">\n",
       "      <th></th>\n",
       "      <th>customer_ID</th>\n",
       "      <th>B_30_nunique</th>\n",
       "      <th>B_38_last</th>\n",
       "      <th>B_38_nunique</th>\n",
       "      <th>D_114_last</th>\n",
       "      <th>D_117_last</th>\n",
       "      <th>D_120_last</th>\n",
       "      <th>D_120_nunique</th>\n",
       "      <th>D_66_last</th>\n",
       "      <th>D_66_nunique</th>\n",
       "      <th>...</th>\n",
       "      <th>D_53_last_mean_diff</th>\n",
       "      <th>B_28_last_mean_diff</th>\n",
       "      <th>S_22_last_mean_diff</th>\n",
       "      <th>B_3_last_mean_diff</th>\n",
       "      <th>D_56_last_mean_diff</th>\n",
       "      <th>D_130_last_mean_diff</th>\n",
       "      <th>S_7_last_mean_diff</th>\n",
       "      <th>total_data_count</th>\n",
       "      <th>total_data_last</th>\n",
       "      <th>target</th>\n",
       "    </tr>\n",
       "  </thead>\n",
       "  <tbody>\n",
       "    <tr>\n",
       "      <th>0</th>\n",
       "      <td>-9223358381327749917</td>\n",
       "      <td>2</td>\n",
       "      <td>7</td>\n",
       "      <td>3</td>\n",
       "      <td>2</td>\n",
       "      <td>1</td>\n",
       "      <td>1</td>\n",
       "      <td>2</td>\n",
       "      <td>0</td>\n",
       "      <td>1</td>\n",
       "      <td>...</td>\n",
       "      <td>-0.003294</td>\n",
       "      <td>0.029327</td>\n",
       "      <td>0.028870</td>\n",
       "      <td>-0.266846</td>\n",
       "      <td>0.006329</td>\n",
       "      <td>-0.004444</td>\n",
       "      <td>-0.176514</td>\n",
       "      <td>2316.0</td>\n",
       "      <td>179.0</td>\n",
       "      <td>1</td>\n",
       "    </tr>\n",
       "    <tr>\n",
       "      <th>1</th>\n",
       "      <td>-9223193039457028513</td>\n",
       "      <td>1</td>\n",
       "      <td>1</td>\n",
       "      <td>1</td>\n",
       "      <td>2</td>\n",
       "      <td>6</td>\n",
       "      <td>1</td>\n",
       "      <td>1</td>\n",
       "      <td>0</td>\n",
       "      <td>1</td>\n",
       "      <td>...</td>\n",
       "      <td>0.000000</td>\n",
       "      <td>-0.000346</td>\n",
       "      <td>0.088196</td>\n",
       "      <td>-0.001068</td>\n",
       "      <td>-0.029099</td>\n",
       "      <td>0.000000</td>\n",
       "      <td>0.000000</td>\n",
       "      <td>2239.0</td>\n",
       "      <td>172.0</td>\n",
       "      <td>0</td>\n",
       "    </tr>\n",
       "    <tr>\n",
       "      <th>2</th>\n",
       "      <td>-9223189665817919541</td>\n",
       "      <td>1</td>\n",
       "      <td>1</td>\n",
       "      <td>1</td>\n",
       "      <td>1</td>\n",
       "      <td>5</td>\n",
       "      <td>1</td>\n",
       "      <td>1</td>\n",
       "      <td>0</td>\n",
       "      <td>1</td>\n",
       "      <td>...</td>\n",
       "      <td>0.000000</td>\n",
       "      <td>-0.011818</td>\n",
       "      <td>-0.000058</td>\n",
       "      <td>-0.000363</td>\n",
       "      <td>0.003073</td>\n",
       "      <td>0.000000</td>\n",
       "      <td>0.000000</td>\n",
       "      <td>2215.0</td>\n",
       "      <td>169.0</td>\n",
       "      <td>0</td>\n",
       "    </tr>\n",
       "    <tr>\n",
       "      <th>3</th>\n",
       "      <td>-9223188534444851899</td>\n",
       "      <td>1</td>\n",
       "      <td>1</td>\n",
       "      <td>1</td>\n",
       "      <td>1</td>\n",
       "      <td>3</td>\n",
       "      <td>1</td>\n",
       "      <td>1</td>\n",
       "      <td>0</td>\n",
       "      <td>1</td>\n",
       "      <td>...</td>\n",
       "      <td>0.000000</td>\n",
       "      <td>-0.001980</td>\n",
       "      <td>0.003124</td>\n",
       "      <td>0.003376</td>\n",
       "      <td>0.000000</td>\n",
       "      <td>0.000000</td>\n",
       "      <td>-0.000879</td>\n",
       "      <td>2130.0</td>\n",
       "      <td>163.0</td>\n",
       "      <td>0</td>\n",
       "    </tr>\n",
       "    <tr>\n",
       "      <th>4</th>\n",
       "      <td>-9223173911659837606</td>\n",
       "      <td>1</td>\n",
       "      <td>7</td>\n",
       "      <td>2</td>\n",
       "      <td>2</td>\n",
       "      <td>1</td>\n",
       "      <td>1</td>\n",
       "      <td>1</td>\n",
       "      <td>0</td>\n",
       "      <td>1</td>\n",
       "      <td>...</td>\n",
       "      <td>-0.017929</td>\n",
       "      <td>-0.002434</td>\n",
       "      <td>0.028061</td>\n",
       "      <td>0.018967</td>\n",
       "      <td>-0.000242</td>\n",
       "      <td>0.000000</td>\n",
       "      <td>0.047119</td>\n",
       "      <td>2284.0</td>\n",
       "      <td>176.0</td>\n",
       "      <td>1</td>\n",
       "    </tr>\n",
       "  </tbody>\n",
       "</table>\n",
       "<p>5 rows × 772 columns</p>\n",
       "</div>"
      ],
      "text/plain": [
       "           customer_ID  B_30_nunique  B_38_last  B_38_nunique  D_114_last  \\\n",
       "0 -9223358381327749917             2          7             3           2   \n",
       "1 -9223193039457028513             1          1             1           2   \n",
       "2 -9223189665817919541             1          1             1           1   \n",
       "3 -9223188534444851899             1          1             1           1   \n",
       "4 -9223173911659837606             1          7             2           2   \n",
       "\n",
       "   D_117_last  D_120_last  D_120_nunique  D_66_last  D_66_nunique  ...  \\\n",
       "0           1           1              2          0             1  ...   \n",
       "1           6           1              1          0             1  ...   \n",
       "2           5           1              1          0             1  ...   \n",
       "3           3           1              1          0             1  ...   \n",
       "4           1           1              1          0             1  ...   \n",
       "\n",
       "   D_53_last_mean_diff  B_28_last_mean_diff  S_22_last_mean_diff  \\\n",
       "0            -0.003294             0.029327             0.028870   \n",
       "1             0.000000            -0.000346             0.088196   \n",
       "2             0.000000            -0.011818            -0.000058   \n",
       "3             0.000000            -0.001980             0.003124   \n",
       "4            -0.017929            -0.002434             0.028061   \n",
       "\n",
       "   B_3_last_mean_diff  D_56_last_mean_diff  D_130_last_mean_diff  \\\n",
       "0           -0.266846             0.006329             -0.004444   \n",
       "1           -0.001068            -0.029099              0.000000   \n",
       "2           -0.000363             0.003073              0.000000   \n",
       "3            0.003376             0.000000              0.000000   \n",
       "4            0.018967            -0.000242              0.000000   \n",
       "\n",
       "   S_7_last_mean_diff  total_data_count  total_data_last  target  \n",
       "0           -0.176514            2316.0            179.0       1  \n",
       "1            0.000000            2239.0            172.0       0  \n",
       "2            0.000000            2215.0            169.0       0  \n",
       "3           -0.000879            2130.0            163.0       0  \n",
       "4            0.047119            2284.0            176.0       1  \n",
       "\n",
       "[5 rows x 772 columns]"
      ]
     },
     "execution_count": 5,
     "metadata": {},
     "output_type": "execute_result"
    }
   ],
   "source": [
    "train_data = pd.read_feather('../input/amexfeatureengineering/770_FE_train.feather')\n",
    "print(train_data.shape)\n",
    "train_data.head()"
   ]
  },
  {
   "cell_type": "markdown",
   "id": "2b443103",
   "metadata": {
    "papermill": {
     "duration": 0.006891,
     "end_time": "2022-08-14T08:16:17.287095",
     "exception": false,
     "start_time": "2022-08-14T08:16:17.280204",
     "status": "completed"
    },
    "tags": []
   },
   "source": [
    "# 1. Task definition"
   ]
  },
  {
   "cell_type": "markdown",
   "id": "912b7612",
   "metadata": {
    "papermill": {
     "duration": 0.006894,
     "end_time": "2022-08-14T08:16:17.301163",
     "exception": false,
     "start_time": "2022-08-14T08:16:17.294269",
     "status": "completed"
    },
    "tags": []
   },
   "source": [
    "### 1.1. Task type\n",
    "\n",
    "On the cell below we create Task object - the class to setup what task LightAutoML model should solve with specific loss and metric if necessary (more info can be found [here](https://lightautoml.readthedocs.io/en/latest/pages/modules/generated/lightautoml.tasks.base.Task.html#lightautoml.tasks.base.Task) in our documentation):"
   ]
  },
  {
   "cell_type": "code",
   "execution_count": 6,
   "id": "64841895",
   "metadata": {
    "execution": {
     "iopub.execute_input": "2022-08-14T08:16:17.317919Z",
     "iopub.status.busy": "2022-08-14T08:16:17.317172Z",
     "iopub.status.idle": "2022-08-14T08:16:17.327978Z",
     "shell.execute_reply": "2022-08-14T08:16:17.326716Z"
    },
    "papermill": {
     "duration": 0.021393,
     "end_time": "2022-08-14T08:16:17.330051",
     "exception": false,
     "start_time": "2022-08-14T08:16:17.308658",
     "status": "completed"
    },
    "tags": []
   },
   "outputs": [],
   "source": [
    "# COMPETITION METRIC FROM Konstantin Yakovlev\n",
    "# https://www.kaggle.com/kyakovlev\n",
    "# https://www.kaggle.com/competitions/amex-default-prediction/discussion/327534\n",
    "def amex_metric_mod(y_true, y_pred):\n",
    "\n",
    "    labels     = np.transpose(np.array([y_true, y_pred]))\n",
    "    labels     = labels[labels[:, 1].argsort()[::-1]]\n",
    "    weights    = np.where(labels[:,0]==0, 20, 1)\n",
    "    cut_vals   = labels[np.cumsum(weights) <= int(0.04 * np.sum(weights))]\n",
    "    top_four   = np.sum(cut_vals[:,0]) / np.sum(labels[:,0])\n",
    "\n",
    "    gini = [0,0]\n",
    "    for i in [1,0]:\n",
    "        labels         = np.transpose(np.array([y_true, y_pred]))\n",
    "        labels         = labels[labels[:, i].argsort()[::-1]]\n",
    "        weight         = np.where(labels[:,0]==0, 20, 1)\n",
    "        weight_random  = np.cumsum(weight / np.sum(weight))\n",
    "        total_pos      = np.sum(labels[:, 0] *  weight)\n",
    "        cum_pos_found  = np.cumsum(labels[:, 0] * weight)\n",
    "        lorentz        = cum_pos_found / total_pos\n",
    "        gini[i]        = np.sum((lorentz - weight_random) * weight)\n",
    "\n",
    "    return 0.5 * (gini[1]/gini[0] + top_four)"
   ]
  },
  {
   "cell_type": "code",
   "execution_count": 7,
   "id": "11c0606c",
   "metadata": {
    "execution": {
     "iopub.execute_input": "2022-08-14T08:16:17.346453Z",
     "iopub.status.busy": "2022-08-14T08:16:17.346039Z",
     "iopub.status.idle": "2022-08-14T08:16:17.355520Z",
     "shell.execute_reply": "2022-08-14T08:16:17.354565Z"
    },
    "papermill": {
     "duration": 0.020169,
     "end_time": "2022-08-14T08:16:17.357663",
     "exception": false,
     "start_time": "2022-08-14T08:16:17.337494",
     "status": "completed"
    },
    "tags": []
   },
   "outputs": [],
   "source": [
    "task = Task('binary', )"
   ]
  },
  {
   "cell_type": "markdown",
   "id": "69f28203",
   "metadata": {
    "papermill": {
     "duration": 0.007019,
     "end_time": "2022-08-14T08:16:17.372171",
     "exception": false,
     "start_time": "2022-08-14T08:16:17.365152",
     "status": "completed"
    },
    "tags": []
   },
   "source": [
    "### 1.2. Feature roles setup"
   ]
  },
  {
   "cell_type": "markdown",
   "id": "25e26e08",
   "metadata": {
    "papermill": {
     "duration": 0.007005,
     "end_time": "2022-08-14T08:16:17.386563",
     "exception": false,
     "start_time": "2022-08-14T08:16:17.379558",
     "status": "completed"
    },
    "tags": []
   },
   "source": [
    "To solve the task, we need to setup columns roles. The **only role you must setup is target role**, everything else (drop, numeric, categorical, group, weights etc.) is up to user - LightAutoML models have automatic columns typization inside:"
   ]
  },
  {
   "cell_type": "code",
   "execution_count": 8,
   "id": "40162b80",
   "metadata": {
    "execution": {
     "iopub.execute_input": "2022-08-14T08:16:17.402879Z",
     "iopub.status.busy": "2022-08-14T08:16:17.402450Z",
     "iopub.status.idle": "2022-08-14T08:16:17.407681Z",
     "shell.execute_reply": "2022-08-14T08:16:17.406742Z"
    },
    "papermill": {
     "duration": 0.015773,
     "end_time": "2022-08-14T08:16:17.409696",
     "exception": false,
     "start_time": "2022-08-14T08:16:17.393923",
     "status": "completed"
    },
    "tags": []
   },
   "outputs": [],
   "source": [
    "roles = {\n",
    "    'target': TARGET_NAME,\n",
    "    'drop': ['customer_ID']\n",
    "}"
   ]
  },
  {
   "cell_type": "markdown",
   "id": "6604cd98",
   "metadata": {
    "papermill": {
     "duration": 0.007095,
     "end_time": "2022-08-14T08:16:17.424247",
     "exception": false,
     "start_time": "2022-08-14T08:16:17.417152",
     "status": "completed"
    },
    "tags": []
   },
   "source": [
    "### 1.3. LightAutoML model creation - TabularAutoML preset"
   ]
  },
  {
   "cell_type": "code",
   "execution_count": 9,
   "id": "0293b864",
   "metadata": {
    "execution": {
     "iopub.execute_input": "2022-08-14T08:16:17.440492Z",
     "iopub.status.busy": "2022-08-14T08:16:17.440053Z",
     "iopub.status.idle": "2022-08-14T08:16:17.464729Z",
     "shell.execute_reply": "2022-08-14T08:16:17.463773Z"
    },
    "papermill": {
     "duration": 0.035332,
     "end_time": "2022-08-14T08:16:17.467003",
     "exception": false,
     "start_time": "2022-08-14T08:16:17.431671",
     "status": "completed"
    },
    "tags": []
   },
   "outputs": [],
   "source": [
    "automl = TabularAutoML(\n",
    "    task = task, \n",
    "    timeout = TIMEOUT,\n",
    "    cpu_limit = N_THREADS,\n",
    "    general_params = {'use_algos': [['linear_l2', 'lgb', 'cb']]},\n",
    "    reader_params = {'n_jobs': 1, 'cv': N_FOLDS, 'random_state': RANDOM_STATE},\n",
    "    selection_params = {'mode': 0}\n",
    ")"
   ]
  },
  {
   "cell_type": "markdown",
   "id": "8e677977",
   "metadata": {
    "papermill": {
     "duration": 0.007212,
     "end_time": "2022-08-14T08:16:17.481788",
     "exception": false,
     "start_time": "2022-08-14T08:16:17.474576",
     "status": "completed"
    },
    "tags": []
   },
   "source": [
    "# 2. AutoML training"
   ]
  },
  {
   "cell_type": "markdown",
   "id": "eba96f6f",
   "metadata": {
    "papermill": {
     "duration": 0.007109,
     "end_time": "2022-08-14T08:16:17.496277",
     "exception": false,
     "start_time": "2022-08-14T08:16:17.489168",
     "status": "completed"
    },
    "tags": []
   },
   "source": [
    "To run autoML training use fit_predict method:\n",
    "- `train_data` - Dataset to train.\n",
    "- `roles` - Roles dict.\n",
    "- `verbose` - Controls the verbosity: the higher, the more messages.\n",
    "        <1  : messages are not displayed;\n",
    "        >=1 : the computation process for layers is displayed;\n",
    "        >=2 : the information about folds processing is also displayed;\n",
    "        >=3 : the hyperparameters optimization process is also displayed;\n",
    "        >=4 : the training process for every algorithm is displayed;\n",
    "\n",
    "Note: out-of-fold prediction is calculated during training and returned from the fit_predict method"
   ]
  },
  {
   "cell_type": "code",
   "execution_count": 10,
   "id": "fb9e2317",
   "metadata": {
    "_kg_hide-output": true,
    "execution": {
     "iopub.execute_input": "2022-08-14T08:16:17.513462Z",
     "iopub.status.busy": "2022-08-14T08:16:17.512712Z",
     "iopub.status.idle": "2022-08-14T11:57:22.988011Z",
     "shell.execute_reply": "2022-08-14T11:57:22.986840Z"
    },
    "papermill": {
     "duration": 13265.488231,
     "end_time": "2022-08-14T11:57:22.992057",
     "exception": false,
     "start_time": "2022-08-14T08:16:17.503826",
     "status": "completed"
    },
    "scrolled": true,
    "tags": []
   },
   "outputs": [
    {
     "name": "stdout",
     "output_type": "stream",
     "text": [
      "[08:16:17] Stdout logging level is INFO3.\n",
      "[08:16:17] Task: binary\n",
      "\n",
      "[08:16:17] Start automl preset with listed constraints:\n",
      "[08:16:17] - time: 36000.00 seconds\n",
      "[08:16:17] - CPU: 4 cores\n",
      "[08:16:17] - memory: 16 GB\n",
      "\n",
      "[08:16:17] \u001b[1mTrain data shape: (458913, 772)\u001b[0m\n",
      "\n",
      "[08:19:11] Feats was rejected during automatic roles guess: []\n",
      "[08:19:14] Layer \u001b[1m1\u001b[0m train process start. Time left 35822.75 secs\n",
      "[08:20:31] Start fitting \u001b[1mLvl_0_Pipe_0_Mod_0_LinearL2\u001b[0m ...\n",
      "[08:20:32] ===== Start working with \u001b[1mfold 0\u001b[0m for \u001b[1mLvl_0_Pipe_0_Mod_0_LinearL2\u001b[0m =====\n",
      "[08:20:54] Linear model: C = 1e-05 score = 0.9564378119151646\n",
      "[08:21:05] Linear model: C = 5e-05 score = 0.9579282028154668\n",
      "[08:21:16] Linear model: C = 0.0001 score = 0.9582217455571208\n",
      "[08:21:33] Linear model: C = 0.0005 score = 0.9585511452651018\n",
      "[08:21:52] Linear model: C = 0.001 score = 0.9585868590200812\n",
      "[08:21:53] Linear model: C = 0.005 score = 0.9585871009018812\n",
      "[08:21:54] Linear model: C = 0.01 score = 0.9585879310946578\n",
      "[08:22:34] Linear model: C = 0.05 score = 0.9584421852469865\n",
      "[08:22:34] Linear model: C = 0.1 score = 0.9584421852469865\n",
      "[08:22:36] ===== Start working with \u001b[1mfold 1\u001b[0m for \u001b[1mLvl_0_Pipe_0_Mod_0_LinearL2\u001b[0m =====\n",
      "[08:22:58] Linear model: C = 1e-05 score = 0.9566858753108032\n",
      "[08:23:09] Linear model: C = 5e-05 score = 0.9580872070026213\n",
      "[08:23:20] Linear model: C = 0.0001 score = 0.958367723079304\n",
      "[08:23:40] Linear model: C = 0.0005 score = 0.9586801220847596\n",
      "[08:23:54] Linear model: C = 0.001 score = 0.9587294650440285\n",
      "[08:24:21] Linear model: C = 0.005 score = 0.9587387474900881\n",
      "[08:24:21] Linear model: C = 0.01 score = 0.9587387474900881\n",
      "[08:24:22] Linear model: C = 0.05 score = 0.9587387474900881\n",
      "[08:24:24] ===== Start working with \u001b[1mfold 2\u001b[0m for \u001b[1mLvl_0_Pipe_0_Mod_0_LinearL2\u001b[0m =====\n",
      "[08:24:47] Linear model: C = 1e-05 score = 0.9567511564866851\n",
      "[08:25:00] Linear model: C = 5e-05 score = 0.9581605448220394\n",
      "[08:25:12] Linear model: C = 0.0001 score = 0.9584397107528687\n",
      "[08:25:30] Linear model: C = 0.0005 score = 0.9587414437607413\n",
      "[08:25:31] Linear model: C = 0.001 score = 0.9587411700198294\n",
      "[08:26:00] Linear model: C = 0.005 score = 0.9588404498169555\n",
      "[08:26:00] Linear model: C = 0.01 score = 0.9588404498169555\n",
      "[08:26:00] Linear model: C = 0.05 score = 0.9588404498169555\n",
      "[08:26:02] ===== Start working with \u001b[1mfold 3\u001b[0m for \u001b[1mLvl_0_Pipe_0_Mod_0_LinearL2\u001b[0m =====\n",
      "[08:26:24] Linear model: C = 1e-05 score = 0.9572883669220192\n",
      "[08:26:35] Linear model: C = 5e-05 score = 0.9586366684773404\n",
      "[08:26:46] Linear model: C = 0.0001 score = 0.9588969130039616\n",
      "[08:27:05] Linear model: C = 0.0005 score = 0.9591827368339533\n",
      "[08:27:20] Linear model: C = 0.001 score = 0.9592151271596587\n",
      "[08:27:21] Linear model: C = 0.005 score = 0.959214979302414\n",
      "[08:27:22] Linear model: C = 0.01 score = 0.9592154995866944\n",
      "[08:27:57] Linear model: C = 0.05 score = 0.9591441120673038\n",
      "[08:27:58] Linear model: C = 0.1 score = 0.9591441120673038\n",
      "[08:27:59] ===== Start working with \u001b[1mfold 4\u001b[0m for \u001b[1mLvl_0_Pipe_0_Mod_0_LinearL2\u001b[0m =====\n",
      "[08:28:22] Linear model: C = 1e-05 score = 0.9582020838647469\n",
      "[08:28:36] Linear model: C = 5e-05 score = 0.9594974324202764\n",
      "[08:28:47] Linear model: C = 0.0001 score = 0.9597517852378096\n",
      "[08:29:03] Linear model: C = 0.0005 score = 0.9600702957266464\n",
      "[08:29:19] Linear model: C = 0.001 score = 0.9601363009948617\n",
      "[08:29:19] Linear model: C = 0.005 score = 0.9601362747022554\n",
      "[08:29:21] Linear model: C = 0.01 score = 0.960136216239872\n",
      "[08:29:21] Fitting \u001b[1mLvl_0_Pipe_0_Mod_0_LinearL2\u001b[0m finished. score = \u001b[1m0.9590984845953361\u001b[0m\n",
      "[08:29:21] \u001b[1mLvl_0_Pipe_0_Mod_0_LinearL2\u001b[0m fitting and predicting completed\n",
      "[08:29:21] Time left 35215.89 secs\n",
      "\n",
      "[08:30:19] Start fitting \u001b[1mLvl_0_Pipe_1_Mod_0_LightGBM\u001b[0m ...\n",
      "[08:30:20] ===== Start working with \u001b[1mfold 0\u001b[0m for \u001b[1mLvl_0_Pipe_1_Mod_0_LightGBM\u001b[0m =====\n",
      "[08:30:44] Training until validation scores don't improve for 100 rounds\n",
      "[08:47:35] ===== Start working with \u001b[1mfold 1\u001b[0m for \u001b[1mLvl_0_Pipe_1_Mod_0_LightGBM\u001b[0m =====\n",
      "[08:48:04] Training until validation scores don't improve for 100 rounds\n",
      "[09:16:35] ===== Start working with \u001b[1mfold 2\u001b[0m for \u001b[1mLvl_0_Pipe_1_Mod_0_LightGBM\u001b[0m =====\n",
      "[09:17:07] Training until validation scores don't improve for 100 rounds\n",
      "[09:31:55] ===== Start working with \u001b[1mfold 3\u001b[0m for \u001b[1mLvl_0_Pipe_1_Mod_0_LightGBM\u001b[0m =====\n",
      "[09:32:26] Training until validation scores don't improve for 100 rounds\n",
      "[09:45:11] ===== Start working with \u001b[1mfold 4\u001b[0m for \u001b[1mLvl_0_Pipe_1_Mod_0_LightGBM\u001b[0m =====\n",
      "[09:45:43] Training until validation scores don't improve for 100 rounds\n",
      "[09:55:43] Fitting \u001b[1mLvl_0_Pipe_1_Mod_0_LightGBM\u001b[0m finished. score = \u001b[1m0.9611711066335618\u001b[0m\n",
      "[09:55:43] \u001b[1mLvl_0_Pipe_1_Mod_0_LightGBM\u001b[0m fitting and predicting completed\n",
      "[09:55:46] Start fitting \u001b[1mLvl_0_Pipe_1_Mod_1_CatBoost\u001b[0m ...\n",
      "[09:55:47] ===== Start working with \u001b[1mfold 0\u001b[0m for \u001b[1mLvl_0_Pipe_1_Mod_1_CatBoost\u001b[0m =====\n",
      "[09:56:01] 0:\ttest: 0.9214119\tbest: 0.9214119 (0)\ttotal: 713ms\tremaining: 35m 37s\n",
      "[10:22:25] bestTest = 0.9613561477\n",
      "[10:22:25] bestIteration = 2984\n",
      "[10:22:25] Shrink model to first 2985 iterations.\n",
      "[10:22:27] ===== Start working with \u001b[1mfold 1\u001b[0m for \u001b[1mLvl_0_Pipe_1_Mod_1_CatBoost\u001b[0m =====\n",
      "[10:22:39] 0:\ttest: 0.9181517\tbest: 0.9181517 (0)\ttotal: 674ms\tremaining: 33m 40s\n",
      "[10:48:50] bestTest = 0.9614877666\n",
      "[10:48:50] bestIteration = 2999\n",
      "[10:48:52] ===== Start working with \u001b[1mfold 2\u001b[0m for \u001b[1mLvl_0_Pipe_1_Mod_1_CatBoost\u001b[0m =====\n",
      "[10:49:03] 0:\ttest: 0.9259185\tbest: 0.9259185 (0)\ttotal: 684ms\tremaining: 34m 11s\n",
      "[11:15:24] bestTest = 0.9615925212\n",
      "[11:15:24] bestIteration = 2990\n",
      "[11:15:24] Shrink model to first 2991 iterations.\n",
      "[11:15:26] ===== Start working with \u001b[1mfold 3\u001b[0m for \u001b[1mLvl_0_Pipe_1_Mod_1_CatBoost\u001b[0m =====\n",
      "[11:15:38] 0:\ttest: 0.9122458\tbest: 0.9122458 (0)\ttotal: 551ms\tremaining: 27m 31s\n",
      "[11:36:05] Stopped by overfitting detector  (100 iterations wait)\n",
      "[11:36:05] bestTest = 0.961734923\n",
      "[11:36:05] bestIteration = 2226\n",
      "[11:36:05] Shrink model to first 2227 iterations.\n",
      "[11:36:07] ===== Start working with \u001b[1mfold 4\u001b[0m for \u001b[1mLvl_0_Pipe_1_Mod_1_CatBoost\u001b[0m =====\n",
      "[11:36:18] 0:\ttest: 0.9250307\tbest: 0.9250307 (0)\ttotal: 699ms\tremaining: 34m 57s\n",
      "[11:57:06] Stopped by overfitting detector  (100 iterations wait)\n",
      "[11:57:06] bestTest = 0.9624830231\n",
      "[11:57:06] bestIteration = 2251\n",
      "[11:57:06] Shrink model to first 2252 iterations.\n",
      "[11:57:07] Fitting \u001b[1mLvl_0_Pipe_1_Mod_1_CatBoost\u001b[0m finished. score = \u001b[1m0.9617246402902094\u001b[0m\n",
      "[11:57:07] \u001b[1mLvl_0_Pipe_1_Mod_1_CatBoost\u001b[0m fitting and predicting completed\n",
      "[11:57:07] Time left 22750.50 secs\n",
      "\n",
      "[11:57:07] \u001b[1mLayer 1 training completed.\u001b[0m\n",
      "\n",
      "[11:57:07] Blending: optimization starts with equal weights and score \u001b[1m0.9620515463107\u001b[0m\n",
      "[11:57:11] Blending: iteration \u001b[1m0\u001b[0m: score = \u001b[1m0.9622687925487237\u001b[0m, weights = \u001b[1m[0.09864857 0.39726046 0.504091  ]\u001b[0m\n",
      "[11:57:15] Blending: iteration \u001b[1m1\u001b[0m: score = \u001b[1m0.9622696596384289\u001b[0m, weights = \u001b[1m[0.08267687 0.4057207  0.51160246]\u001b[0m\n",
      "[11:57:19] Blending: iteration \u001b[1m2\u001b[0m: score = \u001b[1m0.9622696614943309\u001b[0m, weights = \u001b[1m[0.08289794 0.4056229  0.51147914]\u001b[0m\n",
      "[11:57:22] Blending: iteration \u001b[1m3\u001b[0m: score = \u001b[1m0.9622696614943309\u001b[0m, weights = \u001b[1m[0.08289794 0.4056229  0.51147914]\u001b[0m\n",
      "[11:57:22] Blending: no score update. Terminated\n",
      "\n",
      "[11:57:22] \u001b[1mAutoml preset training completed in 13265.46 seconds\u001b[0m\n",
      "\n",
      "[11:57:22] Model description:\n",
      "Final prediction for new objects (level 0) = \n",
      "\t 0.08290 * (5 averaged models Lvl_0_Pipe_0_Mod_0_LinearL2) +\n",
      "\t 0.40562 * (5 averaged models Lvl_0_Pipe_1_Mod_0_LightGBM) +\n",
      "\t 0.51148 * (5 averaged models Lvl_0_Pipe_1_Mod_1_CatBoost) \n",
      "\n",
      "CPU times: user 13h 56min 3s, sys: 7min 21s, total: 14h 3min 25s\n",
      "Wall time: 3h 41min 5s\n"
     ]
    }
   ],
   "source": [
    "%%time \n",
    "oof_pred = automl.fit_predict(train_data, roles = roles, verbose = 3)"
   ]
  },
  {
   "cell_type": "code",
   "execution_count": 11,
   "id": "0fc95b4b",
   "metadata": {
    "execution": {
     "iopub.execute_input": "2022-08-14T11:57:23.025628Z",
     "iopub.status.busy": "2022-08-14T11:57:23.025003Z",
     "iopub.status.idle": "2022-08-14T11:57:23.032334Z",
     "shell.execute_reply": "2022-08-14T11:57:23.031323Z"
    },
    "papermill": {
     "duration": 0.027617,
     "end_time": "2022-08-14T11:57:23.034525",
     "exception": false,
     "start_time": "2022-08-14T11:57:23.006908",
     "status": "completed"
    },
    "tags": []
   },
   "outputs": [
    {
     "name": "stdout",
     "output_type": "stream",
     "text": [
      "Final prediction for new objects (level 0) = \n",
      "\t 0.08290 * (5 averaged models Lvl_0_Pipe_0_Mod_0_LinearL2) +\n",
      "\t 0.40562 * (5 averaged models Lvl_0_Pipe_1_Mod_0_LightGBM) +\n",
      "\t 0.51148 * (5 averaged models Lvl_0_Pipe_1_Mod_1_CatBoost) \n"
     ]
    }
   ],
   "source": [
    "print(automl.create_model_str_desc())"
   ]
  },
  {
   "cell_type": "code",
   "execution_count": 12,
   "id": "f5e2e451",
   "metadata": {
    "execution": {
     "iopub.execute_input": "2022-08-14T11:57:23.065847Z",
     "iopub.status.busy": "2022-08-14T11:57:23.065418Z",
     "iopub.status.idle": "2022-08-14T11:57:23.275994Z",
     "shell.execute_reply": "2022-08-14T11:57:23.275128Z"
    },
    "papermill": {
     "duration": 0.229203,
     "end_time": "2022-08-14T11:57:23.278175",
     "exception": false,
     "start_time": "2022-08-14T11:57:23.048972",
     "status": "completed"
    },
    "tags": []
   },
   "outputs": [
    {
     "name": "stdout",
     "output_type": "stream",
     "text": [
      "OOF score: 0.7957810454554726\n"
     ]
    }
   ],
   "source": [
    "print(f'OOF score: {amex_metric_mod(train_data[TARGET_NAME].values, oof_pred.data[:, 0])}')"
   ]
  },
  {
   "cell_type": "code",
   "execution_count": 13,
   "id": "1d2a8ec2",
   "metadata": {
    "execution": {
     "iopub.execute_input": "2022-08-14T11:57:23.309581Z",
     "iopub.status.busy": "2022-08-14T11:57:23.308748Z",
     "iopub.status.idle": "2022-08-14T11:57:29.082469Z",
     "shell.execute_reply": "2022-08-14T11:57:29.081533Z"
    },
    "papermill": {
     "duration": 5.791436,
     "end_time": "2022-08-14T11:57:29.084550",
     "exception": false,
     "start_time": "2022-08-14T11:57:23.293114",
     "status": "completed"
    },
    "tags": []
   },
   "outputs": [
    {
     "data": {
      "text/plain": [
       "['automl.pkl']"
      ]
     },
     "execution_count": 13,
     "metadata": {},
     "output_type": "execute_result"
    }
   ],
   "source": [
    "import joblib\n",
    "joblib.dump(automl,'automl.pkl')"
   ]
  },
  {
   "cell_type": "code",
   "execution_count": 14,
   "id": "522f1890",
   "metadata": {
    "execution": {
     "iopub.execute_input": "2022-08-14T11:57:29.116328Z",
     "iopub.status.busy": "2022-08-14T11:57:29.115881Z",
     "iopub.status.idle": "2022-08-14T11:57:30.468132Z",
     "shell.execute_reply": "2022-08-14T11:57:30.467101Z"
    },
    "papermill": {
     "duration": 1.370964,
     "end_time": "2022-08-14T11:57:30.470470",
     "exception": false,
     "start_time": "2022-08-14T11:57:29.099506",
     "status": "completed"
    },
    "tags": []
   },
   "outputs": [
    {
     "data": {
      "text/plain": [
       "<lightautoml.automl.presets.tabular_presets.TabularAutoML at 0x7f3553039390>"
      ]
     },
     "execution_count": 14,
     "metadata": {},
     "output_type": "execute_result"
    }
   ],
   "source": [
    "automl_model = joblib.load('./automl.pkl')\n",
    "automl_model"
   ]
  },
  {
   "cell_type": "code",
   "execution_count": 15,
   "id": "e024d84c",
   "metadata": {
    "execution": {
     "iopub.execute_input": "2022-08-14T11:57:30.503594Z",
     "iopub.status.busy": "2022-08-14T11:57:30.502738Z",
     "iopub.status.idle": "2022-08-14T11:57:30.514719Z",
     "shell.execute_reply": "2022-08-14T11:57:30.513912Z"
    },
    "papermill": {
     "duration": 0.031009,
     "end_time": "2022-08-14T11:57:30.517052",
     "exception": false,
     "start_time": "2022-08-14T11:57:30.486043",
     "status": "completed"
    },
    "tags": []
   },
   "outputs": [],
   "source": [
    "oof = pd.DataFrame({\"customer_ID\":train_data.customer_ID,'target':train_data[TARGET_NAME],'oof_pred':oof_pred.data[:, 0]})"
   ]
  },
  {
   "cell_type": "code",
   "execution_count": 16,
   "id": "7a94e2d3",
   "metadata": {
    "execution": {
     "iopub.execute_input": "2022-08-14T11:57:30.550158Z",
     "iopub.status.busy": "2022-08-14T11:57:30.549437Z",
     "iopub.status.idle": "2022-08-14T11:57:30.560336Z",
     "shell.execute_reply": "2022-08-14T11:57:30.559342Z"
    },
    "papermill": {
     "duration": 0.029878,
     "end_time": "2022-08-14T11:57:30.562538",
     "exception": false,
     "start_time": "2022-08-14T11:57:30.532660",
     "status": "completed"
    },
    "tags": []
   },
   "outputs": [
    {
     "data": {
      "text/html": [
       "<div>\n",
       "<style scoped>\n",
       "    .dataframe tbody tr th:only-of-type {\n",
       "        vertical-align: middle;\n",
       "    }\n",
       "\n",
       "    .dataframe tbody tr th {\n",
       "        vertical-align: top;\n",
       "    }\n",
       "\n",
       "    .dataframe thead th {\n",
       "        text-align: right;\n",
       "    }\n",
       "</style>\n",
       "<table border=\"1\" class=\"dataframe\">\n",
       "  <thead>\n",
       "    <tr style=\"text-align: right;\">\n",
       "      <th></th>\n",
       "      <th>customer_ID</th>\n",
       "      <th>target</th>\n",
       "      <th>oof_pred</th>\n",
       "    </tr>\n",
       "  </thead>\n",
       "  <tbody>\n",
       "    <tr>\n",
       "      <th>0</th>\n",
       "      <td>-9223358381327749917</td>\n",
       "      <td>1</td>\n",
       "      <td>0.804635</td>\n",
       "    </tr>\n",
       "    <tr>\n",
       "      <th>1</th>\n",
       "      <td>-9223193039457028513</td>\n",
       "      <td>0</td>\n",
       "      <td>0.000752</td>\n",
       "    </tr>\n",
       "    <tr>\n",
       "      <th>2</th>\n",
       "      <td>-9223189665817919541</td>\n",
       "      <td>0</td>\n",
       "      <td>0.001777</td>\n",
       "    </tr>\n",
       "    <tr>\n",
       "      <th>3</th>\n",
       "      <td>-9223188534444851899</td>\n",
       "      <td>0</td>\n",
       "      <td>0.019148</td>\n",
       "    </tr>\n",
       "    <tr>\n",
       "      <th>4</th>\n",
       "      <td>-9223173911659837606</td>\n",
       "      <td>1</td>\n",
       "      <td>0.921409</td>\n",
       "    </tr>\n",
       "  </tbody>\n",
       "</table>\n",
       "</div>"
      ],
      "text/plain": [
       "           customer_ID  target  oof_pred\n",
       "0 -9223358381327749917       1  0.804635\n",
       "1 -9223193039457028513       0  0.000752\n",
       "2 -9223189665817919541       0  0.001777\n",
       "3 -9223188534444851899       0  0.019148\n",
       "4 -9223173911659837606       1  0.921409"
      ]
     },
     "execution_count": 16,
     "metadata": {},
     "output_type": "execute_result"
    }
   ],
   "source": [
    "oof.head()"
   ]
  },
  {
   "cell_type": "code",
   "execution_count": 17,
   "id": "a4d3f67f",
   "metadata": {
    "execution": {
     "iopub.execute_input": "2022-08-14T11:57:30.595094Z",
     "iopub.status.busy": "2022-08-14T11:57:30.594647Z",
     "iopub.status.idle": "2022-08-14T11:57:31.647950Z",
     "shell.execute_reply": "2022-08-14T11:57:31.646737Z"
    },
    "papermill": {
     "duration": 1.072681,
     "end_time": "2022-08-14T11:57:31.650624",
     "exception": false,
     "start_time": "2022-08-14T11:57:30.577943",
     "status": "completed"
    },
    "tags": []
   },
   "outputs": [],
   "source": [
    "oof.to_csv('AutoML_oof.csv',index=False)"
   ]
  },
  {
   "cell_type": "code",
   "execution_count": 18,
   "id": "3328d20f",
   "metadata": {
    "execution": {
     "iopub.execute_input": "2022-08-14T11:57:31.684033Z",
     "iopub.status.busy": "2022-08-14T11:57:31.683070Z",
     "iopub.status.idle": "2022-08-14T11:57:31.843246Z",
     "shell.execute_reply": "2022-08-14T11:57:31.842188Z"
    },
    "papermill": {
     "duration": 0.178783,
     "end_time": "2022-08-14T11:57:31.845322",
     "exception": false,
     "start_time": "2022-08-14T11:57:31.666539",
     "status": "completed"
    },
    "tags": []
   },
   "outputs": [
    {
     "data": {
      "text/plain": [
       "84"
      ]
     },
     "execution_count": 18,
     "metadata": {},
     "output_type": "execute_result"
    }
   ],
   "source": [
    "import gc\n",
    "del train_data\n",
    "gc.collect()"
   ]
  },
  {
   "cell_type": "markdown",
   "id": "7dc75beb",
   "metadata": {
    "execution": {
     "iopub.execute_input": "2022-06-06T14:48:54.748266Z",
     "iopub.status.busy": "2022-06-06T14:48:54.747515Z",
     "iopub.status.idle": "2022-06-06T14:54:32.987928Z",
     "shell.execute_reply": "2022-06-06T14:54:32.986503Z",
     "shell.execute_reply.started": "2022-06-06T14:48:54.748229Z"
    },
    "papermill": {
     "duration": 0.015411,
     "end_time": "2022-08-14T11:57:31.876541",
     "exception": false,
     "start_time": "2022-08-14T11:57:31.861130",
     "status": "completed"
    },
    "tags": []
   },
   "source": [
    "test_predictions = []\n",
    "for i in range(10):\n",
    "    data = pd.read_pickle('../input/amexaggdatapicklef32/test_agg_f32_part_{}.pkl'.format(i), compression=\"gzip\")\n",
    "    chris_xgb_test = data['customer_ID'].map(test_mapper['prediction']).values\n",
    "    for col in data.columns:\n",
    "        if data[col].dtype=='float16':\n",
    "            data[col] = data[col].astype('float32').round(decimals=2).astype('float16')\n",
    "    print(i, data.shape)\n",
    "    test_pred = automl.predict(data)\n",
    "    test_predictions += list(best_w * test_pred.data[:, 0] + (1-best_w)*chris_xgb_test)"
   ]
  },
  {
   "cell_type": "markdown",
   "id": "50aa2c95",
   "metadata": {
    "execution": {
     "iopub.execute_input": "2022-06-06T14:54:32.990394Z",
     "iopub.status.busy": "2022-06-06T14:54:32.989895Z",
     "iopub.status.idle": "2022-06-06T14:54:34.960677Z",
     "shell.execute_reply": "2022-06-06T14:54:34.959921Z",
     "shell.execute_reply.started": "2022-06-06T14:54:32.990343Z"
    },
    "papermill": {
     "duration": 0.015353,
     "end_time": "2022-08-14T11:57:31.907594",
     "exception": false,
     "start_time": "2022-08-14T11:57:31.892241",
     "status": "completed"
    },
    "tags": []
   },
   "source": [
    "submission = pd.read_csv('../input/amex-default-prediction/sample_submission.csv')\n",
    "print(submission.shape)\n",
    "submission.head()"
   ]
  },
  {
   "cell_type": "markdown",
   "id": "1f1a1535",
   "metadata": {
    "execution": {
     "iopub.execute_input": "2022-06-06T14:54:34.962514Z",
     "iopub.status.busy": "2022-06-06T14:54:34.961972Z",
     "iopub.status.idle": "2022-06-06T14:54:40.251942Z",
     "shell.execute_reply": "2022-06-06T14:54:40.250904Z",
     "shell.execute_reply.started": "2022-06-06T14:54:34.96248Z"
    },
    "papermill": {
     "duration": 0.015194,
     "end_time": "2022-08-14T11:57:31.938357",
     "exception": false,
     "start_time": "2022-08-14T11:57:31.923163",
     "status": "completed"
    },
    "tags": []
   },
   "source": [
    "submission['prediction'] = test_predictions\n",
    "submission.to_csv('lightautoml_tabularautoml.csv', index = False)\n",
    "submission"
   ]
  }
 ],
 "metadata": {
  "kernelspec": {
   "display_name": "Python 3",
   "language": "python",
   "name": "python3"
  },
  "language_info": {
   "codemirror_mode": {
    "name": "ipython",
    "version": 3
   },
   "file_extension": ".py",
   "mimetype": "text/x-python",
   "name": "python",
   "nbconvert_exporter": "python",
   "pygments_lexer": "ipython3",
   "version": "3.7.12"
  },
  "papermill": {
   "default_parameters": {},
   "duration": 13416.837089,
   "end_time": "2022-08-14T11:57:35.102881",
   "environment_variables": {},
   "exception": null,
   "input_path": "__notebook__.ipynb",
   "output_path": "__notebook__.ipynb",
   "parameters": {},
   "start_time": "2022-08-14T08:13:58.265792",
   "version": "2.3.4"
  }
 },
 "nbformat": 4,
 "nbformat_minor": 5
}
