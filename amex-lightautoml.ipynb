{
 "cells": [
  {
   "cell_type": "markdown",
   "id": "85771a71",
   "metadata": {
    "papermill": {
     "duration": 0.006619,
     "end_time": "2022-07-31T16:39:19.266787",
     "exception": false,
     "start_time": "2022-07-31T16:39:19.260168",
     "status": "completed"
    },
    "tags": []
   },
   "source": [
    "## 0. Prerequisites"
   ]
  },
  {
   "cell_type": "markdown",
   "id": "d179fa3e",
   "metadata": {
    "papermill": {
     "duration": 0.00526,
     "end_time": "2022-07-31T16:39:19.277649",
     "exception": false,
     "start_time": "2022-07-31T16:39:19.272389",
     "status": "completed"
    },
    "tags": []
   },
   "source": [
    "### 0.0. install LightAutoML"
   ]
  },
  {
   "cell_type": "code",
   "execution_count": 1,
   "id": "fba46e98",
   "metadata": {
    "_kg_hide-output": true,
    "execution": {
     "iopub.execute_input": "2022-07-31T16:39:19.291228Z",
     "iopub.status.busy": "2022-07-31T16:39:19.290593Z",
     "iopub.status.idle": "2022-07-31T16:41:29.606026Z",
     "shell.execute_reply": "2022-07-31T16:41:29.602779Z"
    },
    "papermill": {
     "duration": 130.329199,
     "end_time": "2022-07-31T16:41:29.612454",
     "exception": false,
     "start_time": "2022-07-31T16:39:19.283255",
     "status": "completed"
    },
    "scrolled": true,
    "tags": []
   },
   "outputs": [],
   "source": [
    "%%capture\n",
    "!pip3 install -U lightautoml\n",
    "\n",
    "# QUICK WORKAROUND FOR PROBLEM WITH PANDAS\n",
    "!pip3 install -U pandas"
   ]
  },
  {
   "cell_type": "markdown",
   "id": "55e3fcfe",
   "metadata": {
    "papermill": {
     "duration": 0.006283,
     "end_time": "2022-07-31T16:41:29.628008",
     "exception": false,
     "start_time": "2022-07-31T16:41:29.621725",
     "status": "completed"
    },
    "tags": []
   },
   "source": [
    "### 0.1. Import libraries\n",
    "\n",
    "Here we will import the libraries we use in this kernel:\n",
    "- Standard python libraries for timing, working with OS etc.\n",
    "- Essential python DS libraries like numpy, pandas, scikit-learn and torch (the last we will use in the next cell)\n",
    "- LightAutoML modules: `TabularAutoML` preset for AutoML model creation and Task class to setup what kind of ML problem we solve (binary/multiclass classification or regression)"
   ]
  },
  {
   "cell_type": "code",
   "execution_count": 2,
   "id": "8b090609",
   "metadata": {
    "execution": {
     "iopub.execute_input": "2022-07-31T16:41:29.644422Z",
     "iopub.status.busy": "2022-07-31T16:41:29.643867Z",
     "iopub.status.idle": "2022-07-31T16:41:32.663846Z",
     "shell.execute_reply": "2022-07-31T16:41:32.662890Z"
    },
    "papermill": {
     "duration": 3.031969,
     "end_time": "2022-07-31T16:41:32.666696",
     "exception": false,
     "start_time": "2022-07-31T16:41:29.634727",
     "status": "completed"
    },
    "tags": []
   },
   "outputs": [
    {
     "data": {
      "text/html": [
       "<style type='text/css'>\n",
       ".datatable table.frame { margin-bottom: 0; }\n",
       ".datatable table.frame thead { border-bottom: none; }\n",
       ".datatable table.frame tr.coltypes td {  color: #FFFFFF;  line-height: 6px;  padding: 0 0.5em;}\n",
       ".datatable .bool    { background: #DDDD99; }\n",
       ".datatable .object  { background: #565656; }\n",
       ".datatable .int     { background: #5D9E5D; }\n",
       ".datatable .float   { background: #4040CC; }\n",
       ".datatable .str     { background: #CC4040; }\n",
       ".datatable .time    { background: #40CC40; }\n",
       ".datatable .row_index {  background: var(--jp-border-color3);  border-right: 1px solid var(--jp-border-color0);  color: var(--jp-ui-font-color3);  font-size: 9px;}\n",
       ".datatable .frame tbody td { text-align: left; }\n",
       ".datatable .frame tr.coltypes .row_index {  background: var(--jp-border-color0);}\n",
       ".datatable th:nth-child(2) { padding-left: 12px; }\n",
       ".datatable .hellipsis {  color: var(--jp-cell-editor-border-color);}\n",
       ".datatable .vellipsis {  background: var(--jp-layout-color0);  color: var(--jp-cell-editor-border-color);}\n",
       ".datatable .na {  color: var(--jp-cell-editor-border-color);  font-size: 80%;}\n",
       ".datatable .sp {  opacity: 0.25;}\n",
       ".datatable .footer { font-size: 9px; }\n",
       ".datatable .frame_dimensions {  background: var(--jp-border-color3);  border-top: 1px solid var(--jp-border-color0);  color: var(--jp-ui-font-color3);  display: inline-block;  opacity: 0.6;  padding: 1px 10px 1px 5px;}\n",
       "</style>\n"
      ],
      "text/plain": [
       "<IPython.core.display.HTML object>"
      ]
     },
     "metadata": {},
     "output_type": "display_data"
    }
   ],
   "source": [
    "# Standard python libraries\n",
    "import os\n",
    "import time\n",
    "\n",
    "# Essential DS libraries\n",
    "import numpy as np\n",
    "import pandas as pd\n",
    "import torch\n",
    "\n",
    "# LightAutoML presets, task and report generation\n",
    "from lightautoml.automl.presets.tabular_presets import TabularAutoML\n",
    "from lightautoml.tasks import Task"
   ]
  },
  {
   "cell_type": "markdown",
   "id": "61176422",
   "metadata": {
    "papermill": {
     "duration": 0.005836,
     "end_time": "2022-07-31T16:41:32.678746",
     "exception": false,
     "start_time": "2022-07-31T16:41:32.672910",
     "status": "completed"
    },
    "tags": []
   },
   "source": [
    "### 0.2. Constants\n",
    "\n",
    "Here we setup the constants to use in the kernel:\n",
    "- `N_THREADS` - number of vCPUs for LightAutoML model creation\n",
    "- `N_FOLDS` - number of folds in LightAutoML inner CV\n",
    "- `RANDOM_STATE` - random seed for better reproducibility\n",
    "- `TEST_SIZE` - houldout data part size \n",
    "- `TIMEOUT` - limit in seconds for model to train\n",
    "- `TARGET_NAME` - target column name in dataset"
   ]
  },
  {
   "cell_type": "code",
   "execution_count": 3,
   "id": "96faa305",
   "metadata": {
    "execution": {
     "iopub.execute_input": "2022-07-31T16:41:32.692425Z",
     "iopub.status.busy": "2022-07-31T16:41:32.691611Z",
     "iopub.status.idle": "2022-07-31T16:41:32.695782Z",
     "shell.execute_reply": "2022-07-31T16:41:32.695166Z"
    },
    "papermill": {
     "duration": 0.013245,
     "end_time": "2022-07-31T16:41:32.697706",
     "exception": false,
     "start_time": "2022-07-31T16:41:32.684461",
     "status": "completed"
    },
    "tags": []
   },
   "outputs": [],
   "source": [
    "N_THREADS = 4\n",
    "N_FOLDS = 5\n",
    "RANDOM_STATE = 42\n",
    "TEST_SIZE = 0.2\n",
    "TIMEOUT = 10 * 3600 # equal to 10 hours\n",
    "TARGET_NAME = 'target'"
   ]
  },
  {
   "cell_type": "markdown",
   "id": "a98abb8e",
   "metadata": {
    "papermill": {
     "duration": 0.005505,
     "end_time": "2022-07-31T16:41:32.709254",
     "exception": false,
     "start_time": "2022-07-31T16:41:32.703749",
     "status": "completed"
    },
    "tags": []
   },
   "source": [
    "### 0.3. Imported models setup\n",
    "\n",
    "For better reproducibility fix numpy random seed with max number of threads for Torch (which usually try to use all the threads on server):"
   ]
  },
  {
   "cell_type": "code",
   "execution_count": 4,
   "id": "bf1928ef",
   "metadata": {
    "execution": {
     "iopub.execute_input": "2022-07-31T16:41:32.722935Z",
     "iopub.status.busy": "2022-07-31T16:41:32.722398Z",
     "iopub.status.idle": "2022-07-31T16:41:32.748226Z",
     "shell.execute_reply": "2022-07-31T16:41:32.747326Z"
    },
    "papermill": {
     "duration": 0.035485,
     "end_time": "2022-07-31T16:41:32.750792",
     "exception": false,
     "start_time": "2022-07-31T16:41:32.715307",
     "status": "completed"
    },
    "tags": []
   },
   "outputs": [],
   "source": [
    "np.random.seed(RANDOM_STATE)\n",
    "torch.set_num_threads(N_THREADS)"
   ]
  },
  {
   "cell_type": "markdown",
   "id": "c85fc957",
   "metadata": {
    "papermill": {
     "duration": 0.006783,
     "end_time": "2022-07-31T16:41:32.765010",
     "exception": false,
     "start_time": "2022-07-31T16:41:32.758227",
     "status": "completed"
    },
    "tags": []
   },
   "source": [
    "### 0.4. Data loading\n",
    "\n",
    "For now it's time to load the data:"
   ]
  },
  {
   "cell_type": "code",
   "execution_count": 5,
   "id": "0b94e6b6",
   "metadata": {
    "execution": {
     "iopub.execute_input": "2022-07-31T16:41:32.778245Z",
     "iopub.status.busy": "2022-07-31T16:41:32.777801Z",
     "iopub.status.idle": "2022-07-31T16:41:38.327351Z",
     "shell.execute_reply": "2022-07-31T16:41:38.326142Z"
    },
    "papermill": {
     "duration": 5.558998,
     "end_time": "2022-07-31T16:41:38.329820",
     "exception": false,
     "start_time": "2022-07-31T16:41:32.770822",
     "status": "completed"
    },
    "tags": []
   },
   "outputs": [
    {
     "name": "stdout",
     "output_type": "stream",
     "text": [
      "(458913, 772)\n"
     ]
    },
    {
     "data": {
      "text/html": [
       "<div>\n",
       "<style scoped>\n",
       "    .dataframe tbody tr th:only-of-type {\n",
       "        vertical-align: middle;\n",
       "    }\n",
       "\n",
       "    .dataframe tbody tr th {\n",
       "        vertical-align: top;\n",
       "    }\n",
       "\n",
       "    .dataframe thead th {\n",
       "        text-align: right;\n",
       "    }\n",
       "</style>\n",
       "<table border=\"1\" class=\"dataframe\">\n",
       "  <thead>\n",
       "    <tr style=\"text-align: right;\">\n",
       "      <th></th>\n",
       "      <th>customer_ID</th>\n",
       "      <th>B_30_nunique</th>\n",
       "      <th>B_38_last</th>\n",
       "      <th>B_38_nunique</th>\n",
       "      <th>D_114_last</th>\n",
       "      <th>D_117_last</th>\n",
       "      <th>D_120_last</th>\n",
       "      <th>D_120_nunique</th>\n",
       "      <th>D_66_last</th>\n",
       "      <th>D_66_nunique</th>\n",
       "      <th>...</th>\n",
       "      <th>D_53_last_mean_diff</th>\n",
       "      <th>B_28_last_mean_diff</th>\n",
       "      <th>S_22_last_mean_diff</th>\n",
       "      <th>B_3_last_mean_diff</th>\n",
       "      <th>D_56_last_mean_diff</th>\n",
       "      <th>D_130_last_mean_diff</th>\n",
       "      <th>S_7_last_mean_diff</th>\n",
       "      <th>total_data_count</th>\n",
       "      <th>total_data_last</th>\n",
       "      <th>target</th>\n",
       "    </tr>\n",
       "  </thead>\n",
       "  <tbody>\n",
       "    <tr>\n",
       "      <th>0</th>\n",
       "      <td>-9223358381327749917</td>\n",
       "      <td>2</td>\n",
       "      <td>7</td>\n",
       "      <td>3</td>\n",
       "      <td>2</td>\n",
       "      <td>1</td>\n",
       "      <td>1</td>\n",
       "      <td>2</td>\n",
       "      <td>0</td>\n",
       "      <td>1</td>\n",
       "      <td>...</td>\n",
       "      <td>-0.003294</td>\n",
       "      <td>0.029327</td>\n",
       "      <td>0.028870</td>\n",
       "      <td>-0.266846</td>\n",
       "      <td>0.006329</td>\n",
       "      <td>-0.004444</td>\n",
       "      <td>-0.176514</td>\n",
       "      <td>2316.0</td>\n",
       "      <td>179.0</td>\n",
       "      <td>1</td>\n",
       "    </tr>\n",
       "    <tr>\n",
       "      <th>1</th>\n",
       "      <td>-9223193039457028513</td>\n",
       "      <td>1</td>\n",
       "      <td>1</td>\n",
       "      <td>1</td>\n",
       "      <td>2</td>\n",
       "      <td>6</td>\n",
       "      <td>1</td>\n",
       "      <td>1</td>\n",
       "      <td>0</td>\n",
       "      <td>1</td>\n",
       "      <td>...</td>\n",
       "      <td>0.000000</td>\n",
       "      <td>-0.000346</td>\n",
       "      <td>0.088196</td>\n",
       "      <td>-0.001068</td>\n",
       "      <td>-0.029099</td>\n",
       "      <td>0.000000</td>\n",
       "      <td>0.000000</td>\n",
       "      <td>2239.0</td>\n",
       "      <td>172.0</td>\n",
       "      <td>0</td>\n",
       "    </tr>\n",
       "    <tr>\n",
       "      <th>2</th>\n",
       "      <td>-9223189665817919541</td>\n",
       "      <td>1</td>\n",
       "      <td>1</td>\n",
       "      <td>1</td>\n",
       "      <td>1</td>\n",
       "      <td>5</td>\n",
       "      <td>1</td>\n",
       "      <td>1</td>\n",
       "      <td>0</td>\n",
       "      <td>1</td>\n",
       "      <td>...</td>\n",
       "      <td>0.000000</td>\n",
       "      <td>-0.011818</td>\n",
       "      <td>-0.000058</td>\n",
       "      <td>-0.000363</td>\n",
       "      <td>0.003073</td>\n",
       "      <td>0.000000</td>\n",
       "      <td>0.000000</td>\n",
       "      <td>2215.0</td>\n",
       "      <td>169.0</td>\n",
       "      <td>0</td>\n",
       "    </tr>\n",
       "    <tr>\n",
       "      <th>3</th>\n",
       "      <td>-9223188534444851899</td>\n",
       "      <td>1</td>\n",
       "      <td>1</td>\n",
       "      <td>1</td>\n",
       "      <td>1</td>\n",
       "      <td>3</td>\n",
       "      <td>1</td>\n",
       "      <td>1</td>\n",
       "      <td>0</td>\n",
       "      <td>1</td>\n",
       "      <td>...</td>\n",
       "      <td>0.000000</td>\n",
       "      <td>-0.001980</td>\n",
       "      <td>0.003124</td>\n",
       "      <td>0.003376</td>\n",
       "      <td>0.000000</td>\n",
       "      <td>0.000000</td>\n",
       "      <td>-0.000879</td>\n",
       "      <td>2130.0</td>\n",
       "      <td>163.0</td>\n",
       "      <td>0</td>\n",
       "    </tr>\n",
       "    <tr>\n",
       "      <th>4</th>\n",
       "      <td>-9223173911659837606</td>\n",
       "      <td>1</td>\n",
       "      <td>7</td>\n",
       "      <td>2</td>\n",
       "      <td>2</td>\n",
       "      <td>1</td>\n",
       "      <td>1</td>\n",
       "      <td>1</td>\n",
       "      <td>0</td>\n",
       "      <td>1</td>\n",
       "      <td>...</td>\n",
       "      <td>-0.017929</td>\n",
       "      <td>-0.002434</td>\n",
       "      <td>0.028061</td>\n",
       "      <td>0.018967</td>\n",
       "      <td>-0.000242</td>\n",
       "      <td>0.000000</td>\n",
       "      <td>0.047119</td>\n",
       "      <td>2284.0</td>\n",
       "      <td>176.0</td>\n",
       "      <td>1</td>\n",
       "    </tr>\n",
       "  </tbody>\n",
       "</table>\n",
       "<p>5 rows × 772 columns</p>\n",
       "</div>"
      ],
      "text/plain": [
       "           customer_ID  B_30_nunique  B_38_last  B_38_nunique  D_114_last  \\\n",
       "0 -9223358381327749917             2          7             3           2   \n",
       "1 -9223193039457028513             1          1             1           2   \n",
       "2 -9223189665817919541             1          1             1           1   \n",
       "3 -9223188534444851899             1          1             1           1   \n",
       "4 -9223173911659837606             1          7             2           2   \n",
       "\n",
       "   D_117_last  D_120_last  D_120_nunique  D_66_last  D_66_nunique  ...  \\\n",
       "0           1           1              2          0             1  ...   \n",
       "1           6           1              1          0             1  ...   \n",
       "2           5           1              1          0             1  ...   \n",
       "3           3           1              1          0             1  ...   \n",
       "4           1           1              1          0             1  ...   \n",
       "\n",
       "   D_53_last_mean_diff  B_28_last_mean_diff  S_22_last_mean_diff  \\\n",
       "0            -0.003294             0.029327             0.028870   \n",
       "1             0.000000            -0.000346             0.088196   \n",
       "2             0.000000            -0.011818            -0.000058   \n",
       "3             0.000000            -0.001980             0.003124   \n",
       "4            -0.017929            -0.002434             0.028061   \n",
       "\n",
       "   B_3_last_mean_diff  D_56_last_mean_diff  D_130_last_mean_diff  \\\n",
       "0           -0.266846             0.006329             -0.004444   \n",
       "1           -0.001068            -0.029099              0.000000   \n",
       "2           -0.000363             0.003073              0.000000   \n",
       "3            0.003376             0.000000              0.000000   \n",
       "4            0.018967            -0.000242              0.000000   \n",
       "\n",
       "   S_7_last_mean_diff  total_data_count  total_data_last  target  \n",
       "0           -0.176514            2316.0            179.0       1  \n",
       "1            0.000000            2239.0            172.0       0  \n",
       "2            0.000000            2215.0            169.0       0  \n",
       "3           -0.000879            2130.0            163.0       0  \n",
       "4            0.047119            2284.0            176.0       1  \n",
       "\n",
       "[5 rows x 772 columns]"
      ]
     },
     "execution_count": 5,
     "metadata": {},
     "output_type": "execute_result"
    }
   ],
   "source": [
    "train_data = pd.read_feather('../input/amexfeatureengineering/770_FE_train.feather')\n",
    "print(train_data.shape)\n",
    "train_data.head()"
   ]
  },
  {
   "cell_type": "markdown",
   "id": "92c61e74",
   "metadata": {
    "papermill": {
     "duration": 0.005847,
     "end_time": "2022-07-31T16:41:38.342066",
     "exception": false,
     "start_time": "2022-07-31T16:41:38.336219",
     "status": "completed"
    },
    "tags": []
   },
   "source": [
    "# 1. Task definition"
   ]
  },
  {
   "cell_type": "markdown",
   "id": "5b46e21b",
   "metadata": {
    "papermill": {
     "duration": 0.005713,
     "end_time": "2022-07-31T16:41:38.353883",
     "exception": false,
     "start_time": "2022-07-31T16:41:38.348170",
     "status": "completed"
    },
    "tags": []
   },
   "source": [
    "### 1.1. Task type\n",
    "\n",
    "On the cell below we create Task object - the class to setup what task LightAutoML model should solve with specific loss and metric if necessary (more info can be found [here](https://lightautoml.readthedocs.io/en/latest/pages/modules/generated/lightautoml.tasks.base.Task.html#lightautoml.tasks.base.Task) in our documentation):"
   ]
  },
  {
   "cell_type": "code",
   "execution_count": 6,
   "id": "5e89680d",
   "metadata": {
    "execution": {
     "iopub.execute_input": "2022-07-31T16:41:38.367979Z",
     "iopub.status.busy": "2022-07-31T16:41:38.367609Z",
     "iopub.status.idle": "2022-07-31T16:41:38.377295Z",
     "shell.execute_reply": "2022-07-31T16:41:38.376239Z"
    },
    "papermill": {
     "duration": 0.019063,
     "end_time": "2022-07-31T16:41:38.379293",
     "exception": false,
     "start_time": "2022-07-31T16:41:38.360230",
     "status": "completed"
    },
    "tags": []
   },
   "outputs": [],
   "source": [
    "# COMPETITION METRIC FROM Konstantin Yakovlev\n",
    "# https://www.kaggle.com/kyakovlev\n",
    "# https://www.kaggle.com/competitions/amex-default-prediction/discussion/327534\n",
    "def amex_metric_mod(y_true, y_pred):\n",
    "\n",
    "    labels     = np.transpose(np.array([y_true, y_pred]))\n",
    "    labels     = labels[labels[:, 1].argsort()[::-1]]\n",
    "    weights    = np.where(labels[:,0]==0, 20, 1)\n",
    "    cut_vals   = labels[np.cumsum(weights) <= int(0.04 * np.sum(weights))]\n",
    "    top_four   = np.sum(cut_vals[:,0]) / np.sum(labels[:,0])\n",
    "\n",
    "    gini = [0,0]\n",
    "    for i in [1,0]:\n",
    "        labels         = np.transpose(np.array([y_true, y_pred]))\n",
    "        labels         = labels[labels[:, i].argsort()[::-1]]\n",
    "        weight         = np.where(labels[:,0]==0, 20, 1)\n",
    "        weight_random  = np.cumsum(weight / np.sum(weight))\n",
    "        total_pos      = np.sum(labels[:, 0] *  weight)\n",
    "        cum_pos_found  = np.cumsum(labels[:, 0] * weight)\n",
    "        lorentz        = cum_pos_found / total_pos\n",
    "        gini[i]        = np.sum((lorentz - weight_random) * weight)\n",
    "\n",
    "    return 0.5 * (gini[1]/gini[0] + top_four)"
   ]
  },
  {
   "cell_type": "code",
   "execution_count": 7,
   "id": "c6cdd776",
   "metadata": {
    "execution": {
     "iopub.execute_input": "2022-07-31T16:41:38.393560Z",
     "iopub.status.busy": "2022-07-31T16:41:38.393172Z",
     "iopub.status.idle": "2022-07-31T16:41:38.402512Z",
     "shell.execute_reply": "2022-07-31T16:41:38.401502Z"
    },
    "papermill": {
     "duration": 0.019064,
     "end_time": "2022-07-31T16:41:38.404648",
     "exception": false,
     "start_time": "2022-07-31T16:41:38.385584",
     "status": "completed"
    },
    "tags": []
   },
   "outputs": [],
   "source": [
    "task = Task('binary', )"
   ]
  },
  {
   "cell_type": "markdown",
   "id": "f68276df",
   "metadata": {
    "papermill": {
     "duration": 0.005998,
     "end_time": "2022-07-31T16:41:38.417184",
     "exception": false,
     "start_time": "2022-07-31T16:41:38.411186",
     "status": "completed"
    },
    "tags": []
   },
   "source": [
    "### 1.2. Feature roles setup"
   ]
  },
  {
   "cell_type": "markdown",
   "id": "f528e219",
   "metadata": {
    "papermill": {
     "duration": 0.006066,
     "end_time": "2022-07-31T16:41:38.429647",
     "exception": false,
     "start_time": "2022-07-31T16:41:38.423581",
     "status": "completed"
    },
    "tags": []
   },
   "source": [
    "To solve the task, we need to setup columns roles. The **only role you must setup is target role**, everything else (drop, numeric, categorical, group, weights etc.) is up to user - LightAutoML models have automatic columns typization inside:"
   ]
  },
  {
   "cell_type": "code",
   "execution_count": 8,
   "id": "a0a7ea4c",
   "metadata": {
    "execution": {
     "iopub.execute_input": "2022-07-31T16:41:38.444567Z",
     "iopub.status.busy": "2022-07-31T16:41:38.443471Z",
     "iopub.status.idle": "2022-07-31T16:41:38.448607Z",
     "shell.execute_reply": "2022-07-31T16:41:38.447377Z"
    },
    "papermill": {
     "duration": 0.014936,
     "end_time": "2022-07-31T16:41:38.450669",
     "exception": false,
     "start_time": "2022-07-31T16:41:38.435733",
     "status": "completed"
    },
    "tags": []
   },
   "outputs": [],
   "source": [
    "roles = {\n",
    "    'target': TARGET_NAME,\n",
    "    'drop': ['customer_ID']\n",
    "}"
   ]
  },
  {
   "cell_type": "markdown",
   "id": "bfea45a5",
   "metadata": {
    "papermill": {
     "duration": 0.006661,
     "end_time": "2022-07-31T16:41:38.463621",
     "exception": false,
     "start_time": "2022-07-31T16:41:38.456960",
     "status": "completed"
    },
    "tags": []
   },
   "source": [
    "### 1.3. LightAutoML model creation - TabularAutoML preset"
   ]
  },
  {
   "cell_type": "code",
   "execution_count": 9,
   "id": "bf246f6e",
   "metadata": {
    "execution": {
     "iopub.execute_input": "2022-07-31T16:41:38.477718Z",
     "iopub.status.busy": "2022-07-31T16:41:38.477335Z",
     "iopub.status.idle": "2022-07-31T16:41:38.499118Z",
     "shell.execute_reply": "2022-07-31T16:41:38.498116Z"
    },
    "papermill": {
     "duration": 0.031306,
     "end_time": "2022-07-31T16:41:38.501199",
     "exception": false,
     "start_time": "2022-07-31T16:41:38.469893",
     "status": "completed"
    },
    "tags": []
   },
   "outputs": [],
   "source": [
    "automl = TabularAutoML(\n",
    "    task = task, \n",
    "    timeout = TIMEOUT,\n",
    "    cpu_limit = N_THREADS,\n",
    "    general_params = {'use_algos': [['linear_l2', 'lgb', 'cb']]},\n",
    "    reader_params = {'n_jobs': 1, 'cv': N_FOLDS, 'random_state': RANDOM_STATE},\n",
    "    selection_params = {'mode': 0}\n",
    ")"
   ]
  },
  {
   "cell_type": "markdown",
   "id": "40d5c6e0",
   "metadata": {
    "papermill": {
     "duration": 0.006146,
     "end_time": "2022-07-31T16:41:38.513988",
     "exception": false,
     "start_time": "2022-07-31T16:41:38.507842",
     "status": "completed"
    },
    "tags": []
   },
   "source": [
    "# 2. AutoML training"
   ]
  },
  {
   "cell_type": "markdown",
   "id": "4c74f8be",
   "metadata": {
    "papermill": {
     "duration": 0.005917,
     "end_time": "2022-07-31T16:41:38.526301",
     "exception": false,
     "start_time": "2022-07-31T16:41:38.520384",
     "status": "completed"
    },
    "tags": []
   },
   "source": [
    "To run autoML training use fit_predict method:\n",
    "- `train_data` - Dataset to train.\n",
    "- `roles` - Roles dict.\n",
    "- `verbose` - Controls the verbosity: the higher, the more messages.\n",
    "        <1  : messages are not displayed;\n",
    "        >=1 : the computation process for layers is displayed;\n",
    "        >=2 : the information about folds processing is also displayed;\n",
    "        >=3 : the hyperparameters optimization process is also displayed;\n",
    "        >=4 : the training process for every algorithm is displayed;\n",
    "\n",
    "Note: out-of-fold prediction is calculated during training and returned from the fit_predict method"
   ]
  },
  {
   "cell_type": "code",
   "execution_count": 10,
   "id": "72fb1ea7",
   "metadata": {
    "_kg_hide-output": true,
    "execution": {
     "iopub.execute_input": "2022-07-31T16:41:38.540694Z",
     "iopub.status.busy": "2022-07-31T16:41:38.540248Z",
     "iopub.status.idle": "2022-07-31T19:35:31.491474Z",
     "shell.execute_reply": "2022-07-31T19:35:31.490470Z"
    },
    "papermill": {
     "duration": 10432.961733,
     "end_time": "2022-07-31T19:35:31.494391",
     "exception": false,
     "start_time": "2022-07-31T16:41:38.532658",
     "status": "completed"
    },
    "scrolled": true,
    "tags": []
   },
   "outputs": [
    {
     "name": "stdout",
     "output_type": "stream",
     "text": [
      "[16:41:38] Stdout logging level is INFO3.\n",
      "[16:41:38] Task: binary\n",
      "\n",
      "[16:41:38] Start automl preset with listed constraints:\n",
      "[16:41:38] - time: 36000.00 seconds\n",
      "[16:41:38] - CPU: 4 cores\n",
      "[16:41:38] - memory: 16 GB\n",
      "\n",
      "[16:41:38] \u001b[1mTrain data shape: (458913, 772)\u001b[0m\n",
      "\n",
      "[16:44:35] Feats was rejected during automatic roles guess: []\n",
      "[16:44:39] Layer \u001b[1m1\u001b[0m train process start. Time left 35819.22 secs\n",
      "[16:46:01] Start fitting \u001b[1mLvl_0_Pipe_0_Mod_0_LinearL2\u001b[0m ...\n",
      "[16:46:02] ===== Start working with \u001b[1mfold 0\u001b[0m for \u001b[1mLvl_0_Pipe_0_Mod_0_LinearL2\u001b[0m =====\n",
      "[16:46:22] Linear model: C = 1e-05 score = 0.9571133271575156\n",
      "[16:46:37] Linear model: C = 5e-05 score = 0.9585801494292806\n",
      "[16:46:49] Linear model: C = 0.0001 score = 0.9588950606648894\n",
      "[16:47:08] Linear model: C = 0.0005 score = 0.9592434948002484\n",
      "[16:47:08] Linear model: C = 0.001 score = 0.9592436333719189\n",
      "[16:47:37] Linear model: C = 0.005 score = 0.9593279966091908\n",
      "[16:47:37] Linear model: C = 0.01 score = 0.9593279966091908\n",
      "[16:47:38] Linear model: C = 0.05 score = 0.9593279966091908\n",
      "[16:47:40] ===== Start working with \u001b[1mfold 1\u001b[0m for \u001b[1mLvl_0_Pipe_0_Mod_0_LinearL2\u001b[0m =====\n",
      "[16:48:02] Linear model: C = 1e-05 score = 0.9567588039107563\n",
      "[16:48:17] Linear model: C = 5e-05 score = 0.9582774427079728\n",
      "[16:48:29] Linear model: C = 0.0001 score = 0.9585802218082337\n",
      "[16:48:49] Linear model: C = 0.0005 score = 0.9589215535268507\n",
      "[16:48:51] Linear model: C = 0.001 score = 0.9589214956855507\n",
      "[16:49:19] Linear model: C = 0.005 score = 0.9589929074206096\n",
      "[16:49:20] Linear model: C = 0.01 score = 0.9589929074206096\n",
      "[16:49:20] Linear model: C = 0.05 score = 0.9589929074206096\n",
      "[16:49:23] ===== Start working with \u001b[1mfold 2\u001b[0m for \u001b[1mLvl_0_Pipe_0_Mod_0_LinearL2\u001b[0m =====\n",
      "[16:49:44] Linear model: C = 1e-05 score = 0.956871611457913\n",
      "[16:49:58] Linear model: C = 5e-05 score = 0.9582750724519196\n",
      "[16:50:08] Linear model: C = 0.0001 score = 0.9585448390168423\n",
      "[16:50:30] Linear model: C = 0.0005 score = 0.9588854345734593\n",
      "[16:50:44] Linear model: C = 0.001 score = 0.9589292822999159\n",
      "[16:51:07] Linear model: C = 0.005 score = 0.958980126658491\n",
      "[16:51:08] Linear model: C = 0.01 score = 0.958980359260938\n",
      "[16:51:08] Linear model: C = 0.05 score = 0.958980359260938\n",
      "[16:51:09] Linear model: C = 0.1 score = 0.958980359260938\n",
      "[16:51:11] ===== Start working with \u001b[1mfold 3\u001b[0m for \u001b[1mLvl_0_Pipe_0_Mod_0_LinearL2\u001b[0m =====\n",
      "[16:51:43] Linear model: C = 1e-05 score = 0.9565854996690673\n",
      "[16:51:56] Linear model: C = 5e-05 score = 0.9579574379681401\n",
      "[16:52:08] Linear model: C = 0.0001 score = 0.9582275598536412\n",
      "[16:52:28] Linear model: C = 0.0005 score = 0.9585478449387419\n",
      "[16:52:44] Linear model: C = 0.001 score = 0.9585798588161898\n",
      "[16:53:09] Linear model: C = 0.005 score = 0.9585441819146951\n",
      "[16:53:10] Linear model: C = 0.01 score = 0.9585441819146951\n",
      "[16:53:12] ===== Start working with \u001b[1mfold 4\u001b[0m for \u001b[1mLvl_0_Pipe_0_Mod_0_LinearL2\u001b[0m =====\n",
      "[16:53:36] Linear model: C = 1e-05 score = 0.9578209459342939\n",
      "[16:53:49] Linear model: C = 5e-05 score = 0.9590913347639872\n",
      "[16:54:00] Linear model: C = 0.0001 score = 0.9593279372883355\n",
      "[16:54:18] Linear model: C = 0.0005 score = 0.959570754456842\n",
      "[16:54:32] Linear model: C = 0.001 score = 0.9596068777139944\n",
      "[16:54:55] Linear model: C = 0.005 score = 0.9596271019867711\n",
      "[16:54:56] Linear model: C = 0.01 score = 0.9596271019867711\n",
      "[16:54:56] Linear model: C = 0.05 score = 0.9596271019867711\n",
      "[16:54:57] Fitting \u001b[1mLvl_0_Pipe_0_Mod_0_LinearL2\u001b[0m finished. score = \u001b[1m0.9590994892321117\u001b[0m\n",
      "[16:54:57] \u001b[1mLvl_0_Pipe_0_Mod_0_LinearL2\u001b[0m fitting and predicting completed\n",
      "[16:54:57] Time left 35201.16 secs\n",
      "\n",
      "[16:55:54] Start fitting \u001b[1mLvl_0_Pipe_1_Mod_0_LightGBM\u001b[0m ...\n",
      "[16:55:56] ===== Start working with \u001b[1mfold 0\u001b[0m for \u001b[1mLvl_0_Pipe_1_Mod_0_LightGBM\u001b[0m =====\n",
      "[16:56:20] Training until validation scores don't improve for 100 rounds\n",
      "[17:07:30] ===== Start working with \u001b[1mfold 1\u001b[0m for \u001b[1mLvl_0_Pipe_1_Mod_0_LightGBM\u001b[0m =====\n",
      "[17:07:56] Training until validation scores don't improve for 100 rounds\n",
      "[17:32:26] ===== Start working with \u001b[1mfold 2\u001b[0m for \u001b[1mLvl_0_Pipe_1_Mod_0_LightGBM\u001b[0m =====\n",
      "[17:32:57] Training until validation scores don't improve for 100 rounds\n",
      "[17:40:25] ===== Start working with \u001b[1mfold 3\u001b[0m for \u001b[1mLvl_0_Pipe_1_Mod_0_LightGBM\u001b[0m =====\n",
      "[17:40:55] Training until validation scores don't improve for 100 rounds\n",
      "[17:49:38] ===== Start working with \u001b[1mfold 4\u001b[0m for \u001b[1mLvl_0_Pipe_1_Mod_0_LightGBM\u001b[0m =====\n",
      "[17:50:09] Training until validation scores don't improve for 100 rounds\n",
      "[18:18:20] Fitting \u001b[1mLvl_0_Pipe_1_Mod_0_LightGBM\u001b[0m finished. score = \u001b[1m0.9606716892058462\u001b[0m\n",
      "[18:18:20] \u001b[1mLvl_0_Pipe_1_Mod_0_LightGBM\u001b[0m fitting and predicting completed\n",
      "[18:18:23] Start fitting \u001b[1mLvl_0_Pipe_1_Mod_1_CatBoost\u001b[0m ...\n",
      "[18:18:28] ===== Start working with \u001b[1mfold 0\u001b[0m for \u001b[1mLvl_0_Pipe_1_Mod_1_CatBoost\u001b[0m =====\n",
      "[18:18:45] 0:\ttest: 0.9211966\tbest: 0.9211966 (0)\ttotal: 459ms\tremaining: 22m 56s\n",
      "[18:34:20] bestTest = 0.9617763644\n",
      "[18:34:20] bestIteration = 2999\n",
      "[18:34:24] ===== Start working with \u001b[1mfold 1\u001b[0m for \u001b[1mLvl_0_Pipe_1_Mod_1_CatBoost\u001b[0m =====\n",
      "[18:34:39] 0:\ttest: 0.9220829\tbest: 0.9220829 (0)\ttotal: 515ms\tremaining: 25m 43s\n",
      "[18:49:02] Stopped by overfitting detector  (100 iterations wait)\n",
      "[18:49:02] bestTest = 0.9616402326\n",
      "[18:49:02] bestIteration = 2670\n",
      "[18:49:02] Shrink model to first 2671 iterations.\n",
      "[18:49:05] ===== Start working with \u001b[1mfold 2\u001b[0m for \u001b[1mLvl_0_Pipe_1_Mod_1_CatBoost\u001b[0m =====\n",
      "[18:49:17] 0:\ttest: 0.9170221\tbest: 0.9170221 (0)\ttotal: 361ms\tremaining: 18m 3s\n",
      "[19:04:48] bestTest = 0.9618178524\n",
      "[19:04:48] bestIteration = 2997\n",
      "[19:04:48] Shrink model to first 2998 iterations.\n",
      "[19:04:50] ===== Start working with \u001b[1mfold 3\u001b[0m for \u001b[1mLvl_0_Pipe_1_Mod_1_CatBoost\u001b[0m =====\n",
      "[19:05:04] 0:\ttest: 0.9226810\tbest: 0.9226810 (0)\ttotal: 398ms\tremaining: 19m 53s\n",
      "[19:19:27] Stopped by overfitting detector  (100 iterations wait)\n",
      "[19:19:27] bestTest = 0.9614317495\n",
      "[19:19:27] bestIteration = 2662\n",
      "[19:19:27] Shrink model to first 2663 iterations.\n",
      "[19:19:29] ===== Start working with \u001b[1mfold 4\u001b[0m for \u001b[1mLvl_0_Pipe_1_Mod_1_CatBoost\u001b[0m =====\n",
      "[19:19:41] 0:\ttest: 0.9213689\tbest: 0.9213689 (0)\ttotal: 316ms\tremaining: 15m 48s\n",
      "[19:35:14] bestTest = 0.9623217381\n",
      "[19:35:14] bestIteration = 2976\n",
      "[19:35:14] Shrink model to first 2977 iterations.\n",
      "[19:35:15] Fitting \u001b[1mLvl_0_Pipe_1_Mod_1_CatBoost\u001b[0m finished. score = \u001b[1m0.9617921947454462\u001b[0m\n",
      "[19:35:15] \u001b[1mLvl_0_Pipe_1_Mod_1_CatBoost\u001b[0m fitting and predicting completed\n",
      "[19:35:15] Time left 25583.14 secs\n",
      "\n",
      "[19:35:15] \u001b[1mLayer 1 training completed.\u001b[0m\n",
      "\n",
      "[19:35:15] Blending: optimization starts with equal weights and score \u001b[1m0.9620063308137015\u001b[0m\n",
      "[19:35:19] Blending: iteration \u001b[1m0\u001b[0m: score = \u001b[1m0.9622177487528898\u001b[0m, weights = \u001b[1m[0.12580557 0.31776005 0.5564344 ]\u001b[0m\n",
      "[19:35:23] Blending: iteration \u001b[1m1\u001b[0m: score = \u001b[1m0.9622232618824774\u001b[0m, weights = \u001b[1m[0.08611736 0.34110636 0.5727763 ]\u001b[0m\n",
      "[19:35:27] Blending: iteration \u001b[1m2\u001b[0m: score = \u001b[1m0.9622233058549778\u001b[0m, weights = \u001b[1m[0.08879934 0.3401053  0.57109535]\u001b[0m\n",
      "[19:35:31] Blending: iteration \u001b[1m3\u001b[0m: score = \u001b[1m0.9622233058549778\u001b[0m, weights = \u001b[1m[0.08879934 0.3401053  0.57109535]\u001b[0m\n",
      "[19:35:31] Blending: no score update. Terminated\n",
      "\n",
      "[19:35:31] \u001b[1mAutoml preset training completed in 10432.93 seconds\u001b[0m\n",
      "\n",
      "[19:35:31] Model description:\n",
      "Final prediction for new objects (level 0) = \n",
      "\t 0.08880 * (5 averaged models Lvl_0_Pipe_0_Mod_0_LinearL2) +\n",
      "\t 0.34011 * (5 averaged models Lvl_0_Pipe_1_Mod_0_LightGBM) +\n",
      "\t 0.57110 * (5 averaged models Lvl_0_Pipe_1_Mod_1_CatBoost) \n",
      "\n",
      "CPU times: user 10h 48min 6s, sys: 7min 37s, total: 10h 55min 44s\n",
      "Wall time: 2h 53min 52s\n"
     ]
    }
   ],
   "source": [
    "%%time \n",
    "oof_pred = automl.fit_predict(train_data, roles = roles, verbose = 3)"
   ]
  },
  {
   "cell_type": "code",
   "execution_count": 11,
   "id": "a276e9ee",
   "metadata": {
    "execution": {
     "iopub.execute_input": "2022-07-31T19:35:31.521845Z",
     "iopub.status.busy": "2022-07-31T19:35:31.521036Z",
     "iopub.status.idle": "2022-07-31T19:35:31.527215Z",
     "shell.execute_reply": "2022-07-31T19:35:31.526288Z"
    },
    "papermill": {
     "duration": 0.023005,
     "end_time": "2022-07-31T19:35:31.529856",
     "exception": false,
     "start_time": "2022-07-31T19:35:31.506851",
     "status": "completed"
    },
    "tags": []
   },
   "outputs": [
    {
     "name": "stdout",
     "output_type": "stream",
     "text": [
      "Final prediction for new objects (level 0) = \n",
      "\t 0.08880 * (5 averaged models Lvl_0_Pipe_0_Mod_0_LinearL2) +\n",
      "\t 0.34011 * (5 averaged models Lvl_0_Pipe_1_Mod_0_LightGBM) +\n",
      "\t 0.57110 * (5 averaged models Lvl_0_Pipe_1_Mod_1_CatBoost) \n"
     ]
    }
   ],
   "source": [
    "print(automl.create_model_str_desc())"
   ]
  },
  {
   "cell_type": "code",
   "execution_count": 12,
   "id": "d3c59372",
   "metadata": {
    "execution": {
     "iopub.execute_input": "2022-07-31T19:35:31.554828Z",
     "iopub.status.busy": "2022-07-31T19:35:31.554393Z",
     "iopub.status.idle": "2022-07-31T19:35:31.759119Z",
     "shell.execute_reply": "2022-07-31T19:35:31.757901Z"
    },
    "papermill": {
     "duration": 0.219853,
     "end_time": "2022-07-31T19:35:31.761476",
     "exception": false,
     "start_time": "2022-07-31T19:35:31.541623",
     "status": "completed"
    },
    "tags": []
   },
   "outputs": [
    {
     "name": "stdout",
     "output_type": "stream",
     "text": [
      "OOF score: 0.7957557390739294\n"
     ]
    }
   ],
   "source": [
    "print(f'OOF score: {amex_metric_mod(train_data[TARGET_NAME].values, oof_pred.data[:, 0])}')"
   ]
  },
  {
   "cell_type": "code",
   "execution_count": 13,
   "id": "d3c396d8",
   "metadata": {
    "execution": {
     "iopub.execute_input": "2022-07-31T19:35:31.786561Z",
     "iopub.status.busy": "2022-07-31T19:35:31.786157Z",
     "iopub.status.idle": "2022-07-31T19:35:37.163771Z",
     "shell.execute_reply": "2022-07-31T19:35:37.162829Z"
    },
    "papermill": {
     "duration": 5.392673,
     "end_time": "2022-07-31T19:35:37.165942",
     "exception": false,
     "start_time": "2022-07-31T19:35:31.773269",
     "status": "completed"
    },
    "tags": []
   },
   "outputs": [
    {
     "data": {
      "text/plain": [
       "['automl.pkl']"
      ]
     },
     "execution_count": 13,
     "metadata": {},
     "output_type": "execute_result"
    }
   ],
   "source": [
    "import joblib\n",
    "joblib.dump(automl,'automl.pkl')"
   ]
  },
  {
   "cell_type": "code",
   "execution_count": 14,
   "id": "4f0c2eb0",
   "metadata": {
    "execution": {
     "iopub.execute_input": "2022-07-31T19:35:37.192176Z",
     "iopub.status.busy": "2022-07-31T19:35:37.191228Z",
     "iopub.status.idle": "2022-07-31T19:35:38.506066Z",
     "shell.execute_reply": "2022-07-31T19:35:38.505119Z"
    },
    "papermill": {
     "duration": 1.330145,
     "end_time": "2022-07-31T19:35:38.508062",
     "exception": false,
     "start_time": "2022-07-31T19:35:37.177917",
     "status": "completed"
    },
    "tags": []
   },
   "outputs": [
    {
     "data": {
      "text/plain": [
       "<lightautoml.automl.presets.tabular_presets.TabularAutoML at 0x7fa53af98490>"
      ]
     },
     "execution_count": 14,
     "metadata": {},
     "output_type": "execute_result"
    }
   ],
   "source": [
    "automl_model = joblib.load('./automl.pkl')\n",
    "automl_model"
   ]
  },
  {
   "cell_type": "code",
   "execution_count": 15,
   "id": "a028aaf8",
   "metadata": {
    "execution": {
     "iopub.execute_input": "2022-07-31T19:35:38.535887Z",
     "iopub.status.busy": "2022-07-31T19:35:38.534871Z",
     "iopub.status.idle": "2022-07-31T19:35:38.547487Z",
     "shell.execute_reply": "2022-07-31T19:35:38.546472Z"
    },
    "papermill": {
     "duration": 0.0289,
     "end_time": "2022-07-31T19:35:38.549825",
     "exception": false,
     "start_time": "2022-07-31T19:35:38.520925",
     "status": "completed"
    },
    "tags": []
   },
   "outputs": [],
   "source": [
    "oof = pd.DataFrame({\"customer_ID\":train_data.customer_ID,'target':train_data[TARGET_NAME],'oof_pred':oof_pred.data[:, 0]})"
   ]
  },
  {
   "cell_type": "code",
   "execution_count": 16,
   "id": "47615668",
   "metadata": {
    "execution": {
     "iopub.execute_input": "2022-07-31T19:35:38.579859Z",
     "iopub.status.busy": "2022-07-31T19:35:38.578625Z",
     "iopub.status.idle": "2022-07-31T19:35:38.590017Z",
     "shell.execute_reply": "2022-07-31T19:35:38.589110Z"
    },
    "papermill": {
     "duration": 0.028155,
     "end_time": "2022-07-31T19:35:38.591795",
     "exception": false,
     "start_time": "2022-07-31T19:35:38.563640",
     "status": "completed"
    },
    "tags": []
   },
   "outputs": [
    {
     "data": {
      "text/html": [
       "<div>\n",
       "<style scoped>\n",
       "    .dataframe tbody tr th:only-of-type {\n",
       "        vertical-align: middle;\n",
       "    }\n",
       "\n",
       "    .dataframe tbody tr th {\n",
       "        vertical-align: top;\n",
       "    }\n",
       "\n",
       "    .dataframe thead th {\n",
       "        text-align: right;\n",
       "    }\n",
       "</style>\n",
       "<table border=\"1\" class=\"dataframe\">\n",
       "  <thead>\n",
       "    <tr style=\"text-align: right;\">\n",
       "      <th></th>\n",
       "      <th>customer_ID</th>\n",
       "      <th>target</th>\n",
       "      <th>oof_pred</th>\n",
       "    </tr>\n",
       "  </thead>\n",
       "  <tbody>\n",
       "    <tr>\n",
       "      <th>0</th>\n",
       "      <td>-9223358381327749917</td>\n",
       "      <td>1</td>\n",
       "      <td>0.760690</td>\n",
       "    </tr>\n",
       "    <tr>\n",
       "      <th>1</th>\n",
       "      <td>-9223193039457028513</td>\n",
       "      <td>0</td>\n",
       "      <td>0.000672</td>\n",
       "    </tr>\n",
       "    <tr>\n",
       "      <th>2</th>\n",
       "      <td>-9223189665817919541</td>\n",
       "      <td>0</td>\n",
       "      <td>0.001375</td>\n",
       "    </tr>\n",
       "    <tr>\n",
       "      <th>3</th>\n",
       "      <td>-9223188534444851899</td>\n",
       "      <td>0</td>\n",
       "      <td>0.019096</td>\n",
       "    </tr>\n",
       "    <tr>\n",
       "      <th>4</th>\n",
       "      <td>-9223173911659837606</td>\n",
       "      <td>1</td>\n",
       "      <td>0.916336</td>\n",
       "    </tr>\n",
       "  </tbody>\n",
       "</table>\n",
       "</div>"
      ],
      "text/plain": [
       "           customer_ID  target  oof_pred\n",
       "0 -9223358381327749917       1  0.760690\n",
       "1 -9223193039457028513       0  0.000672\n",
       "2 -9223189665817919541       0  0.001375\n",
       "3 -9223188534444851899       0  0.019096\n",
       "4 -9223173911659837606       1  0.916336"
      ]
     },
     "execution_count": 16,
     "metadata": {},
     "output_type": "execute_result"
    }
   ],
   "source": [
    "oof.head()"
   ]
  },
  {
   "cell_type": "code",
   "execution_count": 17,
   "id": "3ce6e0fc",
   "metadata": {
    "execution": {
     "iopub.execute_input": "2022-07-31T19:35:38.618559Z",
     "iopub.status.busy": "2022-07-31T19:35:38.617922Z",
     "iopub.status.idle": "2022-07-31T19:35:39.652954Z",
     "shell.execute_reply": "2022-07-31T19:35:39.651927Z"
    },
    "papermill": {
     "duration": 1.051116,
     "end_time": "2022-07-31T19:35:39.655506",
     "exception": false,
     "start_time": "2022-07-31T19:35:38.604390",
     "status": "completed"
    },
    "tags": []
   },
   "outputs": [],
   "source": [
    "oof.to_csv('AutoML_oof.csv',index=False)"
   ]
  },
  {
   "cell_type": "code",
   "execution_count": 18,
   "id": "93b664c2",
   "metadata": {
    "execution": {
     "iopub.execute_input": "2022-07-31T19:35:39.682397Z",
     "iopub.status.busy": "2022-07-31T19:35:39.681382Z",
     "iopub.status.idle": "2022-07-31T19:35:39.874989Z",
     "shell.execute_reply": "2022-07-31T19:35:39.874284Z"
    },
    "papermill": {
     "duration": 0.208997,
     "end_time": "2022-07-31T19:35:39.876880",
     "exception": false,
     "start_time": "2022-07-31T19:35:39.667883",
     "status": "completed"
    },
    "tags": []
   },
   "outputs": [
    {
     "data": {
      "text/plain": [
       "84"
      ]
     },
     "execution_count": 18,
     "metadata": {},
     "output_type": "execute_result"
    }
   ],
   "source": [
    "import gc\n",
    "del train_data\n",
    "gc.collect()"
   ]
  },
  {
   "cell_type": "markdown",
   "id": "ce5a715b",
   "metadata": {
    "execution": {
     "iopub.execute_input": "2022-06-06T14:48:54.748266Z",
     "iopub.status.busy": "2022-06-06T14:48:54.747515Z",
     "iopub.status.idle": "2022-06-06T14:54:32.987928Z",
     "shell.execute_reply": "2022-06-06T14:54:32.986503Z",
     "shell.execute_reply.started": "2022-06-06T14:48:54.748229Z"
    },
    "papermill": {
     "duration": 0.0124,
     "end_time": "2022-07-31T19:35:39.902623",
     "exception": false,
     "start_time": "2022-07-31T19:35:39.890223",
     "status": "completed"
    },
    "tags": []
   },
   "source": [
    "test_predictions = []\n",
    "for i in range(10):\n",
    "    data = pd.read_pickle('../input/amexaggdatapicklef32/test_agg_f32_part_{}.pkl'.format(i), compression=\"gzip\")\n",
    "    chris_xgb_test = data['customer_ID'].map(test_mapper['prediction']).values\n",
    "    for col in data.columns:\n",
    "        if data[col].dtype=='float16':\n",
    "            data[col] = data[col].astype('float32').round(decimals=2).astype('float16')\n",
    "    print(i, data.shape)\n",
    "    test_pred = automl.predict(data)\n",
    "    test_predictions += list(best_w * test_pred.data[:, 0] + (1-best_w)*chris_xgb_test)"
   ]
  },
  {
   "cell_type": "markdown",
   "id": "e436e9e8",
   "metadata": {
    "execution": {
     "iopub.execute_input": "2022-06-06T14:54:32.990394Z",
     "iopub.status.busy": "2022-06-06T14:54:32.989895Z",
     "iopub.status.idle": "2022-06-06T14:54:34.960677Z",
     "shell.execute_reply": "2022-06-06T14:54:34.959921Z",
     "shell.execute_reply.started": "2022-06-06T14:54:32.990343Z"
    },
    "papermill": {
     "duration": 0.012131,
     "end_time": "2022-07-31T19:35:39.927635",
     "exception": false,
     "start_time": "2022-07-31T19:35:39.915504",
     "status": "completed"
    },
    "tags": []
   },
   "source": [
    "submission = pd.read_csv('../input/amex-default-prediction/sample_submission.csv')\n",
    "print(submission.shape)\n",
    "submission.head()"
   ]
  },
  {
   "cell_type": "markdown",
   "id": "5f224814",
   "metadata": {
    "execution": {
     "iopub.execute_input": "2022-06-06T14:54:34.962514Z",
     "iopub.status.busy": "2022-06-06T14:54:34.961972Z",
     "iopub.status.idle": "2022-06-06T14:54:40.251942Z",
     "shell.execute_reply": "2022-06-06T14:54:40.250904Z",
     "shell.execute_reply.started": "2022-06-06T14:54:34.96248Z"
    },
    "papermill": {
     "duration": 0.012308,
     "end_time": "2022-07-31T19:35:39.952521",
     "exception": false,
     "start_time": "2022-07-31T19:35:39.940213",
     "status": "completed"
    },
    "tags": []
   },
   "source": [
    "submission['prediction'] = test_predictions\n",
    "submission.to_csv('lightautoml_tabularautoml.csv', index = False)\n",
    "submission"
   ]
  }
 ],
 "metadata": {
  "kernelspec": {
   "display_name": "Python 3",
   "language": "python",
   "name": "python3"
  },
  "language_info": {
   "codemirror_mode": {
    "name": "ipython",
    "version": 3
   },
   "file_extension": ".py",
   "mimetype": "text/x-python",
   "name": "python",
   "nbconvert_exporter": "python",
   "pygments_lexer": "ipython3",
   "version": "3.7.12"
  },
  "papermill": {
   "default_parameters": {},
   "duration": 10592.623876,
   "end_time": "2022-07-31T19:35:42.565967",
   "environment_variables": {},
   "exception": null,
   "input_path": "__notebook__.ipynb",
   "output_path": "__notebook__.ipynb",
   "parameters": {},
   "start_time": "2022-07-31T16:39:09.942091",
   "version": "2.3.4"
  }
 },
 "nbformat": 4,
 "nbformat_minor": 5
}
