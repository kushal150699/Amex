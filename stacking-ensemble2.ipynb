{
 "cells": [
  {
   "cell_type": "code",
   "execution_count": 1,
   "id": "1fa721bf",
   "metadata": {
    "_cell_guid": "b1076dfc-b9ad-4769-8c92-a6c4dae69d19",
    "_uuid": "8f2839f25d086af736a60e9eeb907d3b93b6e0e5",
    "execution": {
     "iopub.execute_input": "2022-08-15T02:53:30.552018Z",
     "iopub.status.busy": "2022-08-15T02:53:30.551245Z",
     "iopub.status.idle": "2022-08-15T02:53:36.617830Z",
     "shell.execute_reply": "2022-08-15T02:53:36.616875Z"
    },
    "papermill": {
     "duration": 6.08027,
     "end_time": "2022-08-15T02:53:36.620519",
     "exception": false,
     "start_time": "2022-08-15T02:53:30.540249",
     "status": "completed"
    },
    "tags": []
   },
   "outputs": [
    {
     "data": {
      "text/html": [
       "<style type='text/css'>\n",
       ".datatable table.frame { margin-bottom: 0; }\n",
       ".datatable table.frame thead { border-bottom: none; }\n",
       ".datatable table.frame tr.coltypes td {  color: #FFFFFF;  line-height: 6px;  padding: 0 0.5em;}\n",
       ".datatable .bool    { background: #DDDD99; }\n",
       ".datatable .object  { background: #565656; }\n",
       ".datatable .int     { background: #5D9E5D; }\n",
       ".datatable .float   { background: #4040CC; }\n",
       ".datatable .str     { background: #CC4040; }\n",
       ".datatable .time    { background: #40CC40; }\n",
       ".datatable .row_index {  background: var(--jp-border-color3);  border-right: 1px solid var(--jp-border-color0);  color: var(--jp-ui-font-color3);  font-size: 9px;}\n",
       ".datatable .frame tbody td { text-align: left; }\n",
       ".datatable .frame tr.coltypes .row_index {  background: var(--jp-border-color0);}\n",
       ".datatable th:nth-child(2) { padding-left: 12px; }\n",
       ".datatable .hellipsis {  color: var(--jp-cell-editor-border-color);}\n",
       ".datatable .vellipsis {  background: var(--jp-layout-color0);  color: var(--jp-cell-editor-border-color);}\n",
       ".datatable .na {  color: var(--jp-cell-editor-border-color);  font-size: 80%;}\n",
       ".datatable .sp {  opacity: 0.25;}\n",
       ".datatable .footer { font-size: 9px; }\n",
       ".datatable .frame_dimensions {  background: var(--jp-border-color3);  border-top: 1px solid var(--jp-border-color0);  color: var(--jp-ui-font-color3);  display: inline-block;  opacity: 0.6;  padding: 1px 10px 1px 5px;}\n",
       "</style>\n"
      ],
      "text/plain": [
       "<IPython.core.display.HTML object>"
      ]
     },
     "metadata": {},
     "output_type": "display_data"
    }
   ],
   "source": [
    "import pandas as pd\n",
    "import numpy as np\n",
    "import gc\n",
    "from sklearn.model_selection import StratifiedKFold,KFold\n",
    "from sklearn.linear_model import LogisticRegression\n",
    "from catboost import CatBoostClassifier\n",
    "from scipy import stats\n",
    "import pickle \n",
    "from pickle import load,dump\n",
    "from sklearn.preprocessing import StandardScaler\n",
    "import xgboost as xgb\n",
    "import cudf\n",
    "from lightgbm import LGBMClassifier, log_evaluation\n",
    "import warnings\n",
    "import joblib\n",
    "\n",
    "import torch\n",
    "import torch.nn as nn\n",
    "import torch.optim as optim\n",
    "from torch.optim.lr_scheduler import MultiStepLR\n",
    "import random"
   ]
  },
  {
   "cell_type": "code",
   "execution_count": 2,
   "id": "fed818f5",
   "metadata": {
    "execution": {
     "iopub.execute_input": "2022-08-15T02:53:36.640407Z",
     "iopub.status.busy": "2022-08-15T02:53:36.639829Z",
     "iopub.status.idle": "2022-08-15T02:53:42.481320Z",
     "shell.execute_reply": "2022-08-15T02:53:42.480361Z"
    },
    "papermill": {
     "duration": 5.853524,
     "end_time": "2022-08-15T02:53:42.483919",
     "exception": false,
     "start_time": "2022-08-15T02:53:36.630395",
     "status": "completed"
    },
    "tags": []
   },
   "outputs": [],
   "source": [
    "oof_xgb = pd.read_csv('../input/fork-of-amex-finalxgb/oof_transfer_learning.csv')\n",
    "oof_xgbpy = pd.read_csv('../input/amex-fe-pyramid/oof_xgb_v1.csv') \n",
    "oof_automl = pd.read_csv('../input/amex-lightautoml/AutoML_oof.csv')\n",
    "oof_automl43 = pd.read_csv('../input/amex-lightautoml43/AutoML_oof.csv')\n",
    "oof_cat = pd.read_csv('../input/amex-catboost770/oof_cat_v1.csv')\n",
    "oof_cat41 = pd.read_csv('../input/amex-catboost770-seed41/oof_cat_seed41.csv')\n",
    "oof_lgbm = pd.read_csv('../input/lgbm770/oof_lgbm_v1(1).csv')\n",
    "oof_lgbmquick = pd.read_csv('../input/amexlightgbmquickstart2seed/oof_lgbmquick.csv')\n",
    "oof_transfer1 = pd.read_csv('../input/amextransferlearning/oof_transfer_learning.csv')\n",
    "oof_transfer2 = pd.read_csv('../input/amextransferlearningresnet/oof_transfer_learning.csv')\n",
    "oof_cnn = pd.read_csv('../input/amex-keras-1d-cnn/oof_CNN1D.csv')"
   ]
  },
  {
   "cell_type": "code",
   "execution_count": 3,
   "id": "30a225e4",
   "metadata": {
    "execution": {
     "iopub.execute_input": "2022-08-15T02:53:42.502758Z",
     "iopub.status.busy": "2022-08-15T02:53:42.502419Z",
     "iopub.status.idle": "2022-08-15T02:53:42.515134Z",
     "shell.execute_reply": "2022-08-15T02:53:42.514297Z"
    },
    "papermill": {
     "duration": 0.024497,
     "end_time": "2022-08-15T02:53:42.517136",
     "exception": false,
     "start_time": "2022-08-15T02:53:42.492639",
     "status": "completed"
    },
    "tags": []
   },
   "outputs": [],
   "source": [
    "oof_cat['oof_pred_cat'] = (oof_cat['oof_pred_cat'] + oof_cat41['oof_pred_cat'])/2"
   ]
  },
  {
   "cell_type": "code",
   "execution_count": 4,
   "id": "90236b99",
   "metadata": {
    "execution": {
     "iopub.execute_input": "2022-08-15T02:53:42.535589Z",
     "iopub.status.busy": "2022-08-15T02:53:42.535308Z",
     "iopub.status.idle": "2022-08-15T02:53:42.542468Z",
     "shell.execute_reply": "2022-08-15T02:53:42.541648Z"
    },
    "papermill": {
     "duration": 0.01881,
     "end_time": "2022-08-15T02:53:42.544519",
     "exception": false,
     "start_time": "2022-08-15T02:53:42.525709",
     "status": "completed"
    },
    "tags": []
   },
   "outputs": [],
   "source": [
    "oof_automl['oof_pred'] = (oof_automl['oof_pred'] + oof_automl43['oof_pred'])/2"
   ]
  },
  {
   "cell_type": "code",
   "execution_count": 5,
   "id": "323b392d",
   "metadata": {
    "execution": {
     "iopub.execute_input": "2022-08-15T02:53:42.563671Z",
     "iopub.status.busy": "2022-08-15T02:53:42.563387Z",
     "iopub.status.idle": "2022-08-15T02:53:42.576228Z",
     "shell.execute_reply": "2022-08-15T02:53:42.575408Z"
    },
    "papermill": {
     "duration": 0.024076,
     "end_time": "2022-08-15T02:53:42.578234",
     "exception": false,
     "start_time": "2022-08-15T02:53:42.554158",
     "status": "completed"
    },
    "tags": []
   },
   "outputs": [],
   "source": [
    "oof_xgb.rename(columns={'oof_pred':'oof_xgb'},inplace=True)\n",
    "oof_xgbpy.rename(columns={'oof_pred':'oof_xgbpy'},inplace=True)\n",
    "oof_cat.rename(columns={'oof_pred_cat':'oof_cat'},inplace=True)\n",
    "oof_automl.rename(columns={'oof_pred':'oof_automl'},inplace=True)\n",
    "oof_transfer1.rename(columns={'oof_pred':'oof_transfer1'},inplace=True)\n",
    "oof_transfer2.rename(columns={'oof_pred':'oof_transfer2'},inplace=True)\n",
    "oof_cnn.rename(columns={'oof_pred':'oof_cnn'},inplace=True)\n",
    "oof_lgbm.rename(columns={'oof_pred_lgbm':'oof_lgbm'},inplace=True)\n",
    "oof_lgbmquick.rename(columns={'oof_pred':'oof_lgbmquick'},inplace=True)"
   ]
  },
  {
   "cell_type": "code",
   "execution_count": 6,
   "id": "9ff8d8c3",
   "metadata": {
    "execution": {
     "iopub.execute_input": "2022-08-15T02:53:42.596000Z",
     "iopub.status.busy": "2022-08-15T02:53:42.595705Z",
     "iopub.status.idle": "2022-08-15T02:53:42.644503Z",
     "shell.execute_reply": "2022-08-15T02:53:42.643638Z"
    },
    "papermill": {
     "duration": 0.060375,
     "end_time": "2022-08-15T02:53:42.646726",
     "exception": false,
     "start_time": "2022-08-15T02:53:42.586351",
     "status": "completed"
    },
    "tags": []
   },
   "outputs": [],
   "source": [
    "oof_df = pd.concat([oof_xgb,oof_automl.oof_automl,oof_lgbm.oof_lgbm,oof_xgbpy.oof_xgbpy,oof_cat.oof_cat,oof_lgbmquick.oof_lgbmquick,oof_cnn.oof_cnn,oof_transfer1.oof_transfer1,oof_transfer2.oof_transfer2],axis=1)"
   ]
  },
  {
   "cell_type": "code",
   "execution_count": 7,
   "id": "c491061b",
   "metadata": {
    "execution": {
     "iopub.execute_input": "2022-08-15T02:53:42.665273Z",
     "iopub.status.busy": "2022-08-15T02:53:42.664994Z",
     "iopub.status.idle": "2022-08-15T02:53:42.681822Z",
     "shell.execute_reply": "2022-08-15T02:53:42.680733Z"
    },
    "papermill": {
     "duration": 0.028526,
     "end_time": "2022-08-15T02:53:42.683822",
     "exception": false,
     "start_time": "2022-08-15T02:53:42.655296",
     "status": "completed"
    },
    "tags": []
   },
   "outputs": [
    {
     "data": {
      "text/html": [
       "<div>\n",
       "<style scoped>\n",
       "    .dataframe tbody tr th:only-of-type {\n",
       "        vertical-align: middle;\n",
       "    }\n",
       "\n",
       "    .dataframe tbody tr th {\n",
       "        vertical-align: top;\n",
       "    }\n",
       "\n",
       "    .dataframe thead th {\n",
       "        text-align: right;\n",
       "    }\n",
       "</style>\n",
       "<table border=\"1\" class=\"dataframe\">\n",
       "  <thead>\n",
       "    <tr style=\"text-align: right;\">\n",
       "      <th></th>\n",
       "      <th>target</th>\n",
       "      <th>oof_xgb</th>\n",
       "      <th>oof_automl</th>\n",
       "      <th>oof_lgbm</th>\n",
       "      <th>oof_xgbpy</th>\n",
       "      <th>oof_cat</th>\n",
       "      <th>oof_lgbmquick</th>\n",
       "      <th>oof_cnn</th>\n",
       "      <th>oof_transfer1</th>\n",
       "      <th>oof_transfer2</th>\n",
       "    </tr>\n",
       "  </thead>\n",
       "  <tbody>\n",
       "    <tr>\n",
       "      <th>0</th>\n",
       "      <td>1</td>\n",
       "      <td>1.154194</td>\n",
       "      <td>0.782662</td>\n",
       "      <td>1.056450</td>\n",
       "      <td>1.028873</td>\n",
       "      <td>0.708636</td>\n",
       "      <td>1.310415</td>\n",
       "      <td>0.611922</td>\n",
       "      <td>0.760796</td>\n",
       "      <td>0.664672</td>\n",
       "    </tr>\n",
       "    <tr>\n",
       "      <th>1</th>\n",
       "      <td>0</td>\n",
       "      <td>-7.939376</td>\n",
       "      <td>0.000712</td>\n",
       "      <td>0.000387</td>\n",
       "      <td>-8.107467</td>\n",
       "      <td>0.000534</td>\n",
       "      <td>-7.767016</td>\n",
       "      <td>0.049239</td>\n",
       "      <td>0.000401</td>\n",
       "      <td>0.000582</td>\n",
       "    </tr>\n",
       "    <tr>\n",
       "      <th>2</th>\n",
       "      <td>0</td>\n",
       "      <td>-6.199133</td>\n",
       "      <td>0.001576</td>\n",
       "      <td>0.001538</td>\n",
       "      <td>-6.588468</td>\n",
       "      <td>0.000739</td>\n",
       "      <td>-6.753305</td>\n",
       "      <td>0.069256</td>\n",
       "      <td>0.001334</td>\n",
       "      <td>0.001924</td>\n",
       "    </tr>\n",
       "    <tr>\n",
       "      <th>3</th>\n",
       "      <td>0</td>\n",
       "      <td>-3.873612</td>\n",
       "      <td>0.019122</td>\n",
       "      <td>0.022494</td>\n",
       "      <td>-3.595696</td>\n",
       "      <td>0.027202</td>\n",
       "      <td>-3.918158</td>\n",
       "      <td>0.184326</td>\n",
       "      <td>0.021304</td>\n",
       "      <td>0.030478</td>\n",
       "    </tr>\n",
       "    <tr>\n",
       "      <th>4</th>\n",
       "      <td>1</td>\n",
       "      <td>1.994368</td>\n",
       "      <td>0.918872</td>\n",
       "      <td>2.121106</td>\n",
       "      <td>2.096829</td>\n",
       "      <td>0.921224</td>\n",
       "      <td>1.792675</td>\n",
       "      <td>0.626901</td>\n",
       "      <td>0.852713</td>\n",
       "      <td>0.859151</td>\n",
       "    </tr>\n",
       "  </tbody>\n",
       "</table>\n",
       "</div>"
      ],
      "text/plain": [
       "   target   oof_xgb  oof_automl  oof_lgbm  oof_xgbpy   oof_cat  oof_lgbmquick  \\\n",
       "0       1  1.154194    0.782662  1.056450   1.028873  0.708636       1.310415   \n",
       "1       0 -7.939376    0.000712  0.000387  -8.107467  0.000534      -7.767016   \n",
       "2       0 -6.199133    0.001576  0.001538  -6.588468  0.000739      -6.753305   \n",
       "3       0 -3.873612    0.019122  0.022494  -3.595696  0.027202      -3.918158   \n",
       "4       1  1.994368    0.918872  2.121106   2.096829  0.921224       1.792675   \n",
       "\n",
       "    oof_cnn  oof_transfer1  oof_transfer2  \n",
       "0  0.611922       0.760796       0.664672  \n",
       "1  0.049239       0.000401       0.000582  \n",
       "2  0.069256       0.001334       0.001924  \n",
       "3  0.184326       0.021304       0.030478  \n",
       "4  0.626901       0.852713       0.859151  "
      ]
     },
     "execution_count": 7,
     "metadata": {},
     "output_type": "execute_result"
    }
   ],
   "source": [
    "oof_df.head(5)"
   ]
  },
  {
   "cell_type": "markdown",
   "id": "d8775ad2",
   "metadata": {
    "execution": {
     "iopub.execute_input": "2022-08-15T02:20:19.792006Z",
     "iopub.status.busy": "2022-08-15T02:20:19.791521Z",
     "iopub.status.idle": "2022-08-15T02:20:20.620581Z",
     "shell.execute_reply": "2022-08-15T02:20:20.619529Z",
     "shell.execute_reply.started": "2022-08-15T02:20:19.791962Z"
    },
    "papermill": {
     "duration": 0.008226,
     "end_time": "2022-08-15T02:53:42.700497",
     "exception": false,
     "start_time": "2022-08-15T02:53:42.692271",
     "status": "completed"
    },
    "tags": []
   },
   "source": [
    "scaler = StandardScaler()\n",
    "scaler = load(open('../input/amex9predscaler/predscaler','rb'))\n",
    "oofCols = [col for col in oof_df.columns if 'oof' in col]\n",
    "oof_df.loc[:,oofCols] =  scaler.transform(oof_df.loc[:,oofCols])"
   ]
  },
  {
   "cell_type": "code",
   "execution_count": 8,
   "id": "5bd09936",
   "metadata": {
    "execution": {
     "iopub.execute_input": "2022-08-15T02:53:42.718244Z",
     "iopub.status.busy": "2022-08-15T02:53:42.717978Z",
     "iopub.status.idle": "2022-08-15T02:53:42.726673Z",
     "shell.execute_reply": "2022-08-15T02:53:42.725648Z"
    },
    "papermill": {
     "duration": 0.020586,
     "end_time": "2022-08-15T02:53:42.729392",
     "exception": false,
     "start_time": "2022-08-15T02:53:42.708806",
     "status": "completed"
    },
    "tags": []
   },
   "outputs": [],
   "source": [
    "def amex_metric_mod(y_true, y_pred):\n",
    "\n",
    "    labels     = np.transpose(np.array([y_true, y_pred]))\n",
    "    labels     = labels[labels[:, 1].argsort()[::-1]]\n",
    "    weights    = np.where(labels[:,0]==0, 20, 1)\n",
    "    cut_vals   = labels[np.cumsum(weights) <= int(0.04 * np.sum(weights))]\n",
    "    top_four   = np.sum(cut_vals[:,0]) / np.sum(labels[:,0])\n",
    "\n",
    "    gini = [0,0]\n",
    "    for i in [1,0]:\n",
    "        labels         = np.transpose(np.array([y_true, y_pred]))\n",
    "        labels         = labels[labels[:, i].argsort()[::-1]]\n",
    "        weight         = np.where(labels[:,0]==0, 20, 1)\n",
    "        weight_random  = np.cumsum(weight / np.sum(weight))\n",
    "        total_pos      = np.sum(labels[:, 0] *  weight)\n",
    "        cum_pos_found  = np.cumsum(labels[:, 0] * weight)\n",
    "        lorentz        = cum_pos_found / total_pos\n",
    "        gini[i]        = np.sum((lorentz - weight_random) * weight)\n",
    "\n",
    "    return 0.5 * (gini[1]/gini[0] + top_four)"
   ]
  },
  {
   "cell_type": "code",
   "execution_count": 9,
   "id": "e49cb573",
   "metadata": {
    "execution": {
     "iopub.execute_input": "2022-08-15T02:53:42.747470Z",
     "iopub.status.busy": "2022-08-15T02:53:42.747211Z",
     "iopub.status.idle": "2022-08-15T02:53:42.754942Z",
     "shell.execute_reply": "2022-08-15T02:53:42.753929Z"
    },
    "papermill": {
     "duration": 0.019251,
     "end_time": "2022-08-15T02:53:42.757235",
     "exception": false,
     "start_time": "2022-08-15T02:53:42.737984",
     "status": "completed"
    },
    "tags": []
   },
   "outputs": [],
   "source": [
    "def amex_metric(y_true: np.array, y_pred: np.array) -> float:\n",
    "\n",
    "    # count of positives and negatives\n",
    "    n_pos = y_true.sum()\n",
    "    n_neg = y_true.shape[0] - n_pos\n",
    "\n",
    "    # sorting by descring prediction values\n",
    "    indices = np.argsort(y_pred)[::-1]\n",
    "    preds, target = y_pred[indices], y_true[indices]\n",
    "\n",
    "    # filter the top 4% by cumulative row weights\n",
    "    weight = 20.0 - target * 19.0\n",
    "    cum_norm_weight = (weight / weight.sum()).cumsum()\n",
    "    four_pct_filter = cum_norm_weight <= 0.04\n",
    "\n",
    "    # default rate captured at 4%\n",
    "    d = target[four_pct_filter].sum() / n_pos\n",
    "\n",
    "    # weighted gini coefficient\n",
    "    lorentz = (target / n_pos).cumsum()\n",
    "    gini = ((lorentz - cum_norm_weight) * weight).sum()\n",
    "\n",
    "    # max weighted gini coefficient\n",
    "    gini_max = 10 * n_neg * (1 - 19 / (n_pos + 20 * n_neg))\n",
    "\n",
    "    # normalized weighted gini coefficient\n",
    "    g = gini / gini_max\n",
    "\n",
    "    return 0.5 * (g + d)\n",
    "\n",
    "def lgb_amex_metric(y_true, y_pred):\n",
    "    \"\"\"The competition metric with lightgbm's calling convention\"\"\"\n",
    "    return ('amex',\n",
    "            amex_metric(y_true, y_pred),\n",
    "            True)"
   ]
  },
  {
   "cell_type": "code",
   "execution_count": 10,
   "id": "c963fb6b",
   "metadata": {
    "execution": {
     "iopub.execute_input": "2022-08-15T02:53:42.774861Z",
     "iopub.status.busy": "2022-08-15T02:53:42.774579Z",
     "iopub.status.idle": "2022-08-15T02:53:49.442030Z",
     "shell.execute_reply": "2022-08-15T02:53:49.439832Z"
    },
    "papermill": {
     "duration": 6.679473,
     "end_time": "2022-08-15T02:53:49.444915",
     "exception": false,
     "start_time": "2022-08-15T02:53:42.765442",
     "status": "completed"
    },
    "tags": []
   },
   "outputs": [
    {
     "name": "stdout",
     "output_type": "stream",
     "text": [
      "Kaggle Metric fold 0 = 0.7970596133345098 \n",
      "\n",
      "Kaggle Metric fold 1 = 0.7985678534334624 \n",
      "\n",
      "Kaggle Metric fold 2 = 0.7989722380278486 \n",
      "\n",
      "Kaggle Metric fold 3 = 0.7995280115358154 \n",
      "\n",
      "Kaggle Metric fold 4 = 0.8006704022538105 \n",
      "\n",
      "#########################\n",
      "OVERALL CV Kaggle Metric = 0.7990021439369359\n"
     ]
    }
   ],
   "source": [
    "oof_lr = np.zeros((len(oof_df),))\n",
    "oofCols = [col for col in oof_df.columns if 'oof' in col]\n",
    "skf = StratifiedKFold(n_splits=5,shuffle=True,random_state=42)\n",
    "for fold,(train_ind,val_ind) in enumerate(skf.split(oof_df, oof_df.target)):\n",
    "    tr_x, val_x = (\n",
    "        oof_df[oofCols].iloc[train_ind].reset_index(drop=True),\n",
    "        oof_df[oofCols].iloc[val_ind].reset_index(drop=True),\n",
    "    )\n",
    "    tr_y, val_y = (\n",
    "        oof_df.target.iloc[train_ind].reset_index(drop=True),\n",
    "        oof_df.target.iloc[val_ind].reset_index(drop=True),\n",
    "    )\n",
    "    \n",
    "    final_estimator = LogisticRegression(penalty='l2',solver='liblinear',C=0.002,class_weight=\"balanced\",max_iter=5000)\n",
    "    final_estimator.fit(tr_x,tr_y)\n",
    "    \n",
    "    filename = f'lr_model{fold}.sav'\n",
    "    pickle.dump(final_estimator, open(filename, 'wb'))\n",
    "    \n",
    "   # loaded_model = pickle.load(open('../input/amexlrmodel/lr_model.sav', 'rb'))\n",
    "    \n",
    "    preds = final_estimator.predict_proba(val_x)[:,1]\n",
    "    \n",
    "    acc = amex_metric_mod(val_y.values,preds)\n",
    "    print(f'Kaggle Metric fold {fold} =',acc,'\\n')\n",
    "    \n",
    "    oof_lr[val_ind] = preds\n",
    "    \n",
    "    del tr_x, val_x, tr_y, val_y,final_estimator\n",
    "    _ = gc.collect()\n",
    "    \n",
    "print('#'*25)\n",
    "acc = amex_metric_mod(oof_df.target,oof_lr)\n",
    "print('OVERALL CV Kaggle Metric =',acc)    "
   ]
  },
  {
   "cell_type": "code",
   "execution_count": 11,
   "id": "00a1d13b",
   "metadata": {
    "execution": {
     "iopub.execute_input": "2022-08-15T02:53:49.465420Z",
     "iopub.status.busy": "2022-08-15T02:53:49.465067Z",
     "iopub.status.idle": "2022-08-15T02:53:49.471452Z",
     "shell.execute_reply": "2022-08-15T02:53:49.469480Z"
    },
    "papermill": {
     "duration": 0.019575,
     "end_time": "2022-08-15T02:53:49.473818",
     "exception": false,
     "start_time": "2022-08-15T02:53:49.454243",
     "status": "completed"
    },
    "tags": []
   },
   "outputs": [],
   "source": [
    "oof_lr = pd.DataFrame(oof_lr,columns=['oof_lr'])"
   ]
  },
  {
   "cell_type": "code",
   "execution_count": 12,
   "id": "27deb1fa",
   "metadata": {
    "execution": {
     "iopub.execute_input": "2022-08-15T02:53:49.493460Z",
     "iopub.status.busy": "2022-08-15T02:53:49.493168Z",
     "iopub.status.idle": "2022-08-15T02:53:50.309678Z",
     "shell.execute_reply": "2022-08-15T02:53:50.308598Z"
    },
    "papermill": {
     "duration": 0.828744,
     "end_time": "2022-08-15T02:53:50.312310",
     "exception": false,
     "start_time": "2022-08-15T02:53:49.483566",
     "status": "completed"
    },
    "tags": []
   },
   "outputs": [],
   "source": [
    "oof_lr.to_csv('oof_lr.csv',index=False)"
   ]
  },
  {
   "cell_type": "code",
   "execution_count": 13,
   "id": "6e8ee69f",
   "metadata": {
    "execution": {
     "iopub.execute_input": "2022-08-15T02:53:50.331711Z",
     "iopub.status.busy": "2022-08-15T02:53:50.331379Z",
     "iopub.status.idle": "2022-08-15T02:58:56.614804Z",
     "shell.execute_reply": "2022-08-15T02:58:56.612528Z"
    },
    "papermill": {
     "duration": 306.295701,
     "end_time": "2022-08-15T02:58:56.617060",
     "exception": false,
     "start_time": "2022-08-15T02:53:50.321359",
     "status": "completed"
    },
    "tags": []
   },
   "outputs": [
    {
     "name": "stdout",
     "output_type": "stream",
     "text": [
      "[100]\tvalid_0's auc: 0.961947\tvalid_0's binary_logloss: 0.300459\n",
      "[200]\tvalid_0's auc: 0.962374\tvalid_0's binary_logloss: 0.239256\n",
      "[300]\tvalid_0's auc: 0.962872\tvalid_0's binary_logloss: 0.22179\n",
      "[400]\tvalid_0's auc: 0.963002\tvalid_0's binary_logloss: 0.216508\n",
      "[500]\tvalid_0's auc: 0.963063\tvalid_0's binary_logloss: 0.214783\n",
      "[600]\tvalid_0's auc: 0.963062\tvalid_0's binary_logloss: 0.214164\n",
      "[700]\tvalid_0's auc: 0.963074\tvalid_0's binary_logloss: 0.213912\n",
      "[800]\tvalid_0's auc: 0.963072\tvalid_0's binary_logloss: 0.21381\n",
      "[900]\tvalid_0's auc: 0.963062\tvalid_0's binary_logloss: 0.213767\n",
      "[1000]\tvalid_0's auc: 0.963046\tvalid_0's binary_logloss: 0.213753\n",
      "[1100]\tvalid_0's auc: 0.963034\tvalid_0's binary_logloss: 0.213753\n",
      "[1200]\tvalid_0's auc: 0.963019\tvalid_0's binary_logloss: 0.213767\n",
      "[1300]\tvalid_0's auc: 0.963004\tvalid_0's binary_logloss: 0.213784\n",
      "                Score = 0.79876\n",
      "[100]\tvalid_0's auc: 0.961412\tvalid_0's binary_logloss: 0.301245\n",
      "[200]\tvalid_0's auc: 0.96195\tvalid_0's binary_logloss: 0.24013\n",
      "[300]\tvalid_0's auc: 0.962492\tvalid_0's binary_logloss: 0.222721\n",
      "[400]\tvalid_0's auc: 0.962555\tvalid_0's binary_logloss: 0.217498\n",
      "[500]\tvalid_0's auc: 0.96258\tvalid_0's binary_logloss: 0.215811\n",
      "[600]\tvalid_0's auc: 0.962634\tvalid_0's binary_logloss: 0.215224\n",
      "[700]\tvalid_0's auc: 0.962666\tvalid_0's binary_logloss: 0.214985\n",
      "[800]\tvalid_0's auc: 0.96266\tvalid_0's binary_logloss: 0.214883\n",
      "[900]\tvalid_0's auc: 0.962652\tvalid_0's binary_logloss: 0.214841\n",
      "[1000]\tvalid_0's auc: 0.962647\tvalid_0's binary_logloss: 0.214829\n",
      "[1100]\tvalid_0's auc: 0.962638\tvalid_0's binary_logloss: 0.214828\n",
      "[1200]\tvalid_0's auc: 0.962627\tvalid_0's binary_logloss: 0.214835\n",
      "[1300]\tvalid_0's auc: 0.962618\tvalid_0's binary_logloss: 0.214841\n",
      "                Score = 0.79645\n",
      "[100]\tvalid_0's auc: 0.96168\tvalid_0's binary_logloss: 0.299963\n",
      "[200]\tvalid_0's auc: 0.962608\tvalid_0's binary_logloss: 0.238472\n",
      "[300]\tvalid_0's auc: 0.963015\tvalid_0's binary_logloss: 0.220997\n",
      "[400]\tvalid_0's auc: 0.963083\tvalid_0's binary_logloss: 0.215759\n",
      "[500]\tvalid_0's auc: 0.963126\tvalid_0's binary_logloss: 0.214077\n",
      "[600]\tvalid_0's auc: 0.96318\tvalid_0's binary_logloss: 0.213481\n",
      "[700]\tvalid_0's auc: 0.963181\tvalid_0's binary_logloss: 0.213237\n",
      "[800]\tvalid_0's auc: 0.963183\tvalid_0's binary_logloss: 0.213135\n",
      "[900]\tvalid_0's auc: 0.963183\tvalid_0's binary_logloss: 0.213088\n",
      "[1000]\tvalid_0's auc: 0.963184\tvalid_0's binary_logloss: 0.213073\n",
      "[1100]\tvalid_0's auc: 0.963174\tvalid_0's binary_logloss: 0.213073\n",
      "[1200]\tvalid_0's auc: 0.963163\tvalid_0's binary_logloss: 0.213085\n",
      "[1300]\tvalid_0's auc: 0.963152\tvalid_0's binary_logloss: 0.213101\n",
      "                Score = 0.80035\n",
      "[100]\tvalid_0's auc: 0.961614\tvalid_0's binary_logloss: 0.301216\n",
      "[200]\tvalid_0's auc: 0.962168\tvalid_0's binary_logloss: 0.239769\n",
      "[300]\tvalid_0's auc: 0.962482\tvalid_0's binary_logloss: 0.222226\n",
      "[400]\tvalid_0's auc: 0.962635\tvalid_0's binary_logloss: 0.216972\n",
      "[500]\tvalid_0's auc: 0.962701\tvalid_0's binary_logloss: 0.215322\n",
      "[600]\tvalid_0's auc: 0.96273\tvalid_0's binary_logloss: 0.214767\n",
      "[700]\tvalid_0's auc: 0.962736\tvalid_0's binary_logloss: 0.214549\n",
      "[800]\tvalid_0's auc: 0.962733\tvalid_0's binary_logloss: 0.214468\n",
      "[900]\tvalid_0's auc: 0.962725\tvalid_0's binary_logloss: 0.214439\n",
      "[1000]\tvalid_0's auc: 0.962734\tvalid_0's binary_logloss: 0.214434\n",
      "[1100]\tvalid_0's auc: 0.962722\tvalid_0's binary_logloss: 0.214444\n",
      "[1200]\tvalid_0's auc: 0.962709\tvalid_0's binary_logloss: 0.214462\n",
      "[1300]\tvalid_0's auc: 0.962699\tvalid_0's binary_logloss: 0.214483\n",
      "                Score = 0.79630\n",
      "[100]\tvalid_0's auc: 0.962508\tvalid_0's binary_logloss: 0.300586\n",
      "[200]\tvalid_0's auc: 0.963116\tvalid_0's binary_logloss: 0.238599\n",
      "[300]\tvalid_0's auc: 0.963531\tvalid_0's binary_logloss: 0.220583\n",
      "[400]\tvalid_0's auc: 0.963587\tvalid_0's binary_logloss: 0.215003\n",
      "[500]\tvalid_0's auc: 0.963613\tvalid_0's binary_logloss: 0.213129\n",
      "[600]\tvalid_0's auc: 0.963651\tvalid_0's binary_logloss: 0.212446\n",
      "[700]\tvalid_0's auc: 0.963659\tvalid_0's binary_logloss: 0.212171\n",
      "[800]\tvalid_0's auc: 0.963661\tvalid_0's binary_logloss: 0.212051\n",
      "[900]\tvalid_0's auc: 0.963652\tvalid_0's binary_logloss: 0.211999\n",
      "[1000]\tvalid_0's auc: 0.963635\tvalid_0's binary_logloss: 0.211986\n",
      "[1100]\tvalid_0's auc: 0.96362\tvalid_0's binary_logloss: 0.211987\n",
      "[1200]\tvalid_0's auc: 0.963613\tvalid_0's binary_logloss: 0.211995\n",
      "[1300]\tvalid_0's auc: 0.9636\tvalid_0's binary_logloss: 0.212011\n",
      "                Score = 0.80164\n",
      "#########################\n",
      "Amex metric: 0.7986592600170029\n"
     ]
    }
   ],
   "source": [
    "def my_booster(random_state=42, n_estimators=1300):\n",
    "    return LGBMClassifier(n_estimators=n_estimators,\n",
    "                          learning_rate=0.01, reg_lambda=300,\n",
    "                          min_child_samples=1000,\n",
    "                          num_leaves=50,\n",
    "                          colsample_bytree= 0.1,\n",
    "                          max_bins=511, random_state=random_state)\n",
    "\n",
    "score_list = []\n",
    "y_pred_list = []\n",
    "oof_lgbm = np.zeros((len(oof_df)))\n",
    "kf = StratifiedKFold(n_splits=5)\n",
    "for fold, (idx_tr, idx_va) in enumerate(kf.split(oof_df, oof_df.target)):\n",
    "    X_tr, X_va, y_tr, y_va, model = None, None, None, None, None\n",
    "    X_tr = oof_df.iloc[idx_tr][oofCols]\n",
    "    X_va = oof_df.iloc[idx_va][oofCols]\n",
    "    y_tr = oof_df.target[idx_tr]\n",
    "    y_va = oof_df.target[idx_va]\n",
    "    \n",
    "    model = my_booster()\n",
    "    with warnings.catch_warnings():\n",
    "        warnings.filterwarnings('ignore', category=UserWarning)\n",
    "        model.fit(X_tr, y_tr,\n",
    "                  eval_set = [(X_va, y_va)], \n",
    "                   eval_metric = 'AUC',\n",
    "                  callbacks=[log_evaluation(100)])\n",
    "    X_tr, y_tr = None, None\n",
    "    y_va_pred = model.predict_proba(X_va, raw_score=True)\n",
    "    score = amex_metric_mod(y_va, y_va_pred)\n",
    "    \n",
    "    joblib.dump(model, f'LGBM_stack_fold{fold}.pkl')\n",
    "    \n",
    "    # SAVE OOF\n",
    "    oof_lgbm[idx_va] = y_va_pred\n",
    "        \n",
    "    n_trees = model.best_iteration_\n",
    "    if n_trees is None: n_trees = model.n_estimators\n",
    "    print(f\"                Score = {score:.5f}\")\n",
    "    score_list.append(score)\n",
    "    \n",
    "print('#'*25)\n",
    "val_score = amex_metric(oof_df.target, oof_lgbm)\n",
    "print(f\"Amex metric: {val_score}\")    "
   ]
  },
  {
   "cell_type": "code",
   "execution_count": 14,
   "id": "15c8b188",
   "metadata": {
    "execution": {
     "iopub.execute_input": "2022-08-15T02:58:56.643836Z",
     "iopub.status.busy": "2022-08-15T02:58:56.643518Z",
     "iopub.status.idle": "2022-08-15T02:58:56.648488Z",
     "shell.execute_reply": "2022-08-15T02:58:56.647440Z"
    },
    "papermill": {
     "duration": 0.020354,
     "end_time": "2022-08-15T02:58:56.650812",
     "exception": false,
     "start_time": "2022-08-15T02:58:56.630458",
     "status": "completed"
    },
    "tags": []
   },
   "outputs": [],
   "source": [
    "oof_lgbm = pd.DataFrame(oof_lgbm,columns=['oof_lgbmstack'])"
   ]
  },
  {
   "cell_type": "code",
   "execution_count": 15,
   "id": "30007420",
   "metadata": {
    "execution": {
     "iopub.execute_input": "2022-08-15T02:58:56.676238Z",
     "iopub.status.busy": "2022-08-15T02:58:56.675970Z",
     "iopub.status.idle": "2022-08-15T02:58:57.443273Z",
     "shell.execute_reply": "2022-08-15T02:58:57.442289Z"
    },
    "papermill": {
     "duration": 0.7834,
     "end_time": "2022-08-15T02:58:57.446311",
     "exception": false,
     "start_time": "2022-08-15T02:58:56.662911",
     "status": "completed"
    },
    "tags": []
   },
   "outputs": [],
   "source": [
    "oof_lgbm.to_csv('oof_lgbmstack.csv',index=False)"
   ]
  },
  {
   "cell_type": "code",
   "execution_count": 16,
   "id": "3a3700fe",
   "metadata": {
    "execution": {
     "iopub.execute_input": "2022-08-15T02:58:57.472263Z",
     "iopub.status.busy": "2022-08-15T02:58:57.471967Z",
     "iopub.status.idle": "2022-08-15T03:03:12.938528Z",
     "shell.execute_reply": "2022-08-15T03:03:12.937279Z"
    },
    "papermill": {
     "duration": 255.482371,
     "end_time": "2022-08-15T03:03:12.941256",
     "exception": false,
     "start_time": "2022-08-15T02:58:57.458885",
     "status": "completed"
    },
    "tags": []
   },
   "outputs": [
    {
     "name": "stdout",
     "output_type": "stream",
     "text": [
      "******* Fold 0 ******* \n",
      "0:\tlearn: 0.6434994\ttest: 0.6438022\tbest: 0.6438022 (0)\ttotal: 142ms\tremaining: 36m 37s\n",
      "100:\tlearn: 0.2138704\ttest: 0.2141190\tbest: 0.2141190 (100)\ttotal: 8.49s\tremaining: 21m 34s\n",
      "200:\tlearn: 0.2128153\ttest: 0.2133126\tbest: 0.2133123 (198)\ttotal: 17.7s\tremaining: 22m 29s\n",
      "300:\tlearn: 0.2123983\ttest: 0.2132278\tbest: 0.2132278 (300)\ttotal: 25.7s\tremaining: 21m 39s\n",
      "400:\tlearn: 0.2119607\ttest: 0.2132245\tbest: 0.2132210 (397)\ttotal: 34s\tremaining: 21m 21s\n",
      "500:\tlearn: 0.2113665\ttest: 0.2132558\tbest: 0.2132210 (397)\ttotal: 42.4s\tremaining: 21m 9s\n",
      "Stopped by overfitting detector  (200 iterations wait)\n",
      "\n",
      "bestTest = 0.2132210319\n",
      "bestIteration = 397\n",
      "\n",
      "Shrink model to first 398 iterations.\n",
      "Kaggle Metric = 0.7962680777709689 \n",
      "\n",
      "******* Fold 1 ******* \n",
      "0:\tlearn: 0.6475566\ttest: 0.6476353\tbest: 0.6476353 (0)\ttotal: 84ms\tremaining: 21m 42s\n",
      "100:\tlearn: 0.2138505\ttest: 0.2143378\tbest: 0.2143378 (100)\ttotal: 8.03s\tremaining: 20m 23s\n",
      "200:\tlearn: 0.2127103\ttest: 0.2136572\tbest: 0.2136572 (200)\ttotal: 17s\tremaining: 21m 30s\n",
      "300:\tlearn: 0.2122636\ttest: 0.2136275\tbest: 0.2136238 (236)\ttotal: 25.3s\tremaining: 21m 19s\n",
      "400:\tlearn: 0.2118654\ttest: 0.2136206\tbest: 0.2136200 (395)\ttotal: 33.7s\tremaining: 21m 8s\n",
      "500:\tlearn: 0.2112946\ttest: 0.2136546\tbest: 0.2136194 (402)\ttotal: 41.7s\tremaining: 20m 47s\n",
      "600:\tlearn: 0.2106449\ttest: 0.2136875\tbest: 0.2136194 (402)\ttotal: 50.4s\tremaining: 20m 49s\n",
      "Stopped by overfitting detector  (200 iterations wait)\n",
      "\n",
      "bestTest = 0.2136194382\n",
      "bestIteration = 402\n",
      "\n",
      "Shrink model to first 403 iterations.\n",
      "Kaggle Metric = 0.7990273149597996 \n",
      "\n",
      "******* Fold 2 ******* \n",
      "0:\tlearn: 0.6432795\ttest: 0.6434849\tbest: 0.6434849 (0)\ttotal: 79.2ms\tremaining: 20m 27s\n",
      "100:\tlearn: 0.2139107\ttest: 0.2143419\tbest: 0.2143419 (100)\ttotal: 9.2s\tremaining: 23m 22s\n",
      "200:\tlearn: 0.2128519\ttest: 0.2133847\tbest: 0.2133847 (200)\ttotal: 17.6s\tremaining: 22m 22s\n",
      "300:\tlearn: 0.2124139\ttest: 0.2132837\tbest: 0.2132837 (300)\ttotal: 26s\tremaining: 21m 52s\n",
      "400:\tlearn: 0.2120132\ttest: 0.2132742\tbest: 0.2132705 (392)\ttotal: 33.9s\tremaining: 21m 17s\n",
      "500:\tlearn: 0.2113815\ttest: 0.2132806\tbest: 0.2132685 (470)\ttotal: 42.3s\tremaining: 21m 7s\n",
      "600:\tlearn: 0.2107537\ttest: 0.2132859\tbest: 0.2132685 (470)\ttotal: 50.6s\tremaining: 20m 55s\n",
      "Stopped by overfitting detector  (200 iterations wait)\n",
      "\n",
      "bestTest = 0.2132685065\n",
      "bestIteration = 470\n",
      "\n",
      "Shrink model to first 471 iterations.\n",
      "Kaggle Metric = 0.7996564605062425 \n",
      "\n",
      "******* Fold 3 ******* \n",
      "0:\tlearn: 0.6426116\ttest: 0.6426642\tbest: 0.6426642 (0)\ttotal: 79ms\tremaining: 20m 24s\n",
      "100:\tlearn: 0.2136301\ttest: 0.2149508\tbest: 0.2149508 (100)\ttotal: 8.08s\tremaining: 20m 32s\n",
      "200:\tlearn: 0.2126084\ttest: 0.2142131\tbest: 0.2142131 (200)\ttotal: 16.3s\tremaining: 20m 42s\n",
      "300:\tlearn: 0.2122097\ttest: 0.2141750\tbest: 0.2141737 (295)\ttotal: 24.7s\tremaining: 20m 46s\n",
      "400:\tlearn: 0.2118075\ttest: 0.2141664\tbest: 0.2141594 (376)\ttotal: 33.7s\tremaining: 21m 8s\n",
      "500:\tlearn: 0.2112290\ttest: 0.2141820\tbest: 0.2141594 (376)\ttotal: 41.5s\tremaining: 20m 43s\n",
      "Stopped by overfitting detector  (200 iterations wait)\n",
      "\n",
      "bestTest = 0.2141593623\n",
      "bestIteration = 376\n",
      "\n",
      "Shrink model to first 377 iterations.\n",
      "Kaggle Metric = 0.8000911170419049 \n",
      "\n",
      "******* Fold 4 ******* \n",
      "0:\tlearn: 0.6428707\ttest: 0.6426571\tbest: 0.6426571 (0)\ttotal: 77.7ms\tremaining: 20m 3s\n",
      "100:\tlearn: 0.2142663\ttest: 0.2127896\tbest: 0.2127896 (100)\ttotal: 8.37s\tremaining: 21m 16s\n",
      "200:\tlearn: 0.2132115\ttest: 0.2119362\tbest: 0.2119362 (200)\ttotal: 16.3s\tremaining: 20m 43s\n",
      "300:\tlearn: 0.2127909\ttest: 0.2118530\tbest: 0.2118504 (288)\ttotal: 25.4s\tremaining: 21m 24s\n",
      "400:\tlearn: 0.2123725\ttest: 0.2118498\tbest: 0.2118460 (342)\ttotal: 34s\tremaining: 21m 20s\n",
      "500:\tlearn: 0.2117741\ttest: 0.2118878\tbest: 0.2118460 (342)\ttotal: 42.3s\tremaining: 21m 5s\n",
      "Stopped by overfitting detector  (200 iterations wait)\n",
      "\n",
      "bestTest = 0.2118460051\n",
      "bestIteration = 342\n",
      "\n",
      "Shrink model to first 343 iterations.\n",
      "Kaggle Metric = 0.7995437029768434 \n",
      "\n",
      "#########################\n",
      "Amex metric: 0.798841224149888\n"
     ]
    }
   ],
   "source": [
    "FOLDS = 5\n",
    "SEED = 42\n",
    "skf = StratifiedKFold(n_splits=FOLDS, shuffle=True, random_state=SEED)\n",
    "ix=0\n",
    "params = {'objective': 'CrossEntropy', 'colsample_bylevel': 0.5, 'bootstrap_type': 'Bernoulli', \n",
    " 'max_depth': 7, 'l2_leaf_reg': 37, 'random_strength': 0.9, 'subsample': 0.9}\n",
    "oof_catstack = np.zeros((len(oof_df)))\n",
    "for train_ind, val_ind in skf.split(oof_df, oof_df.target):\n",
    "    \n",
    "    print(f\"******* Fold {ix} ******* \")\n",
    "    tr_x, val_x = (\n",
    "        oof_df[oofCols].iloc[train_ind].reset_index(drop=True),\n",
    "        oof_df[oofCols].iloc[val_ind].reset_index(drop=True),\n",
    "    )\n",
    "    tr_y, val_y = (\n",
    "        oof_df.target.iloc[train_ind].reset_index(drop=True),\n",
    "        oof_df.target.iloc[val_ind].reset_index(drop=True),\n",
    "    )\n",
    "\n",
    "    clf = CatBoostClassifier(**params, iterations= 15500,  random_state=SEED ,allow_writing_files=False)\n",
    "    clf.fit(tr_x, tr_y, eval_set=[(val_x, val_y)], verbose=100,early_stopping_rounds=200)\n",
    "    clf.save_model(f'cat_stacked_fold{ix}_seed{SEED}')\n",
    "    clf.load_model(f'./cat_stacked_fold{ix}_seed{SEED}')  \n",
    "    preds = clf.predict_proba(val_x)[:,1]\n",
    "    acc = amex_metric_mod(val_y.values, preds)\n",
    "    print('Kaggle Metric =',acc,'\\n')\n",
    "    \n",
    "    # SAVE OOF\n",
    "    oof_catstack[val_ind] = preds \n",
    "    \n",
    "    del clf, tr_x, val_x, tr_y, val_y\n",
    "    _ = gc.collect()\n",
    "    \n",
    "    ix = ix + 1\n",
    "    \n",
    "print('#'*25)\n",
    "val_score = amex_metric_mod(oof_df.target, oof_catstack)\n",
    "print(f\"Amex metric: {val_score}\")"
   ]
  },
  {
   "cell_type": "code",
   "execution_count": 17,
   "id": "04ccd29c",
   "metadata": {
    "execution": {
     "iopub.execute_input": "2022-08-15T03:03:12.972802Z",
     "iopub.status.busy": "2022-08-15T03:03:12.971815Z",
     "iopub.status.idle": "2022-08-15T03:03:12.977113Z",
     "shell.execute_reply": "2022-08-15T03:03:12.976199Z"
    },
    "papermill": {
     "duration": 0.022553,
     "end_time": "2022-08-15T03:03:12.979026",
     "exception": false,
     "start_time": "2022-08-15T03:03:12.956473",
     "status": "completed"
    },
    "tags": []
   },
   "outputs": [],
   "source": [
    "oof_catstack = pd.DataFrame(oof_catstack,columns=['oof_catstack'])"
   ]
  },
  {
   "cell_type": "code",
   "execution_count": 18,
   "id": "72082f8c",
   "metadata": {
    "execution": {
     "iopub.execute_input": "2022-08-15T03:03:13.008491Z",
     "iopub.status.busy": "2022-08-15T03:03:13.008210Z",
     "iopub.status.idle": "2022-08-15T03:03:13.814635Z",
     "shell.execute_reply": "2022-08-15T03:03:13.813657Z"
    },
    "papermill": {
     "duration": 0.824105,
     "end_time": "2022-08-15T03:03:13.817293",
     "exception": false,
     "start_time": "2022-08-15T03:03:12.993188",
     "status": "completed"
    },
    "tags": []
   },
   "outputs": [],
   "source": [
    "oof_catstack.to_csv('oof_catstack.csv',index=False)"
   ]
  },
  {
   "cell_type": "code",
   "execution_count": 19,
   "id": "88cac0ed",
   "metadata": {
    "execution": {
     "iopub.execute_input": "2022-08-15T03:03:13.847254Z",
     "iopub.status.busy": "2022-08-15T03:03:13.846883Z",
     "iopub.status.idle": "2022-08-15T03:03:13.852090Z",
     "shell.execute_reply": "2022-08-15T03:03:13.851113Z"
    },
    "papermill": {
     "duration": 0.022349,
     "end_time": "2022-08-15T03:03:13.854137",
     "exception": false,
     "start_time": "2022-08-15T03:03:13.831788",
     "status": "completed"
    },
    "tags": []
   },
   "outputs": [],
   "source": [
    "xgb_params = {\n",
    "            'objective': 'binary:logitraw', \n",
    "            'tree_method': 'gpu_hist',\n",
    "            'predictor':'gpu_predictor',\n",
    "            'max_depth': 5,    \n",
    "            'subsample':1,   \n",
    "            'colsample_bytree': 0.65,  \n",
    "            'gamma':5, \n",
    "            'min_child_weight':8,  \n",
    "            'random_state':42,\n",
    "            'eval_metric':'auc',\n",
    "            'learning_rate':0.25,\n",
    "            'num_parallel_tree':1,\n",
    "    }"
   ]
  },
  {
   "cell_type": "code",
   "execution_count": 20,
   "id": "5eec4a8f",
   "metadata": {
    "execution": {
     "iopub.execute_input": "2022-08-15T03:03:13.883308Z",
     "iopub.status.busy": "2022-08-15T03:03:13.883040Z",
     "iopub.status.idle": "2022-08-15T03:03:13.891423Z",
     "shell.execute_reply": "2022-08-15T03:03:13.890356Z"
    },
    "papermill": {
     "duration": 0.02563,
     "end_time": "2022-08-15T03:03:13.893681",
     "exception": false,
     "start_time": "2022-08-15T03:03:13.868051",
     "status": "completed"
    },
    "tags": []
   },
   "outputs": [],
   "source": [
    "class IterLoadForDMatrix(xgb.core.DataIter):\n",
    "    def __init__(self, df=None, features=None, target=None, batch_size=256*1024):\n",
    "        self.features = features\n",
    "        self.target = target\n",
    "        self.df = df\n",
    "        self.it = 0 # set iterator to 0\n",
    "        self.batch_size = batch_size\n",
    "        self.batches = int( np.ceil( len(df) / self.batch_size ) )\n",
    "        super().__init__()\n",
    "\n",
    "    def reset(self):\n",
    "        '''Reset the iterator'''\n",
    "        self.it = 0\n",
    "\n",
    "    def next(self, input_data):\n",
    "        '''Yield next batch of data.'''\n",
    "        if self.it == self.batches:\n",
    "            return 0 # Return 0 when there's no more batch.\n",
    "        \n",
    "        a = self.it * self.batch_size\n",
    "        b = min( (self.it + 1) * self.batch_size, len(self.df) )\n",
    "        dt = cudf.DataFrame(self.df.iloc[a:b])\n",
    "        input_data(data=dt[self.features], label=dt[self.target]) #, weight=dt['weight'])\n",
    "        self.it += 1\n",
    "        return 1"
   ]
  },
  {
   "cell_type": "code",
   "execution_count": 21,
   "id": "7bf83588",
   "metadata": {
    "execution": {
     "iopub.execute_input": "2022-08-15T03:03:13.922754Z",
     "iopub.status.busy": "2022-08-15T03:03:13.922221Z",
     "iopub.status.idle": "2022-08-15T03:03:15.381143Z",
     "shell.execute_reply": "2022-08-15T03:03:15.380174Z"
    },
    "papermill": {
     "duration": 1.475784,
     "end_time": "2022-08-15T03:03:15.383267",
     "exception": false,
     "start_time": "2022-08-15T03:03:13.907483",
     "status": "completed"
    },
    "tags": []
   },
   "outputs": [
    {
     "name": "stdout",
     "output_type": "stream",
     "text": [
      "oof_xgb : 0.7979803094946979\n",
      "oof_automl : 0.7967220922562924\n",
      "oof_lgbm : 0.7980939957511974\n",
      "oof_xgbpy : 0.7974332770983097\n",
      "oof_cat : 0.797516811438845\n",
      "oof_lgbmquick : 0.7967421462859201\n",
      "oof_cnn : 0.7938481749446653\n",
      "oof_transfer1 : 0.7915815533640204\n",
      "oof_transfer2 : 0.7918790490212578\n"
     ]
    }
   ],
   "source": [
    "oofCols = [col for col in oof_df.columns if 'oof' in col]\n",
    "\n",
    "for col in oofCols:\n",
    "    metric = amex_metric_mod(oof_df['target'], oof_df[col])\n",
    "    \n",
    "    print(f\"{col} : {metric}\")"
   ]
  },
  {
   "cell_type": "code",
   "execution_count": 22,
   "id": "7d721f9d",
   "metadata": {
    "execution": {
     "iopub.execute_input": "2022-08-15T03:03:15.414145Z",
     "iopub.status.busy": "2022-08-15T03:03:15.413843Z",
     "iopub.status.idle": "2022-08-15T03:03:24.970384Z",
     "shell.execute_reply": "2022-08-15T03:03:24.969207Z"
    },
    "papermill": {
     "duration": 9.575889,
     "end_time": "2022-08-15T03:03:24.974151",
     "exception": false,
     "start_time": "2022-08-15T03:03:15.398262",
     "status": "completed"
    },
    "tags": []
   },
   "outputs": [
    {
     "name": "stdout",
     "output_type": "stream",
     "text": [
      "#########################\n",
      "### SEED 42\n",
      "### Fold 1\n",
      "### Train size 367130 Valid size 91783\n",
      "### Training with 100% fold data...\n",
      "#########################\n",
      "[0]\ttrain-auc:0.96191\tvalid-auc:0.96196\n",
      "[100]\ttrain-auc:0.96348\tvalid-auc:0.96320\n",
      "[129]\ttrain-auc:0.96348\tvalid-auc:0.96320\n",
      "Kaggle Metric = 0.7967804843822882 \n",
      "\n",
      "#########################\n",
      "### SEED 42\n",
      "### Fold 2\n",
      "### Train size 367130 Valid size 91783\n",
      "### Training with 100% fold data...\n",
      "#########################\n",
      "[0]\ttrain-auc:0.96201\tvalid-auc:0.96127\n",
      "[100]\ttrain-auc:0.96354\tvalid-auc:0.96303\n",
      "[124]\ttrain-auc:0.96354\tvalid-auc:0.96303\n",
      "Kaggle Metric = 0.7986731106403104 \n",
      "\n",
      "#########################\n",
      "### SEED 42\n",
      "### Fold 3\n",
      "### Train size 367130 Valid size 91783\n",
      "### Training with 100% fold data...\n",
      "#########################\n",
      "[0]\ttrain-auc:0.96194\tvalid-auc:0.96186\n",
      "[100]\ttrain-auc:0.96352\tvalid-auc:0.96311\n",
      "[126]\ttrain-auc:0.96352\tvalid-auc:0.96311\n",
      "Kaggle Metric = 0.8002690299307352 \n",
      "\n",
      "#########################\n",
      "### SEED 42\n",
      "### Fold 4\n",
      "### Train size 367131 Valid size 91782\n",
      "### Training with 100% fold data...\n",
      "#########################\n",
      "[0]\ttrain-auc:0.96207\tvalid-auc:0.96130\n",
      "[100]\ttrain-auc:0.96357\tvalid-auc:0.96283\n",
      "[121]\ttrain-auc:0.96357\tvalid-auc:0.96283\n",
      "Kaggle Metric = 0.7999660780632902 \n",
      "\n",
      "#########################\n",
      "### SEED 42\n",
      "### Fold 5\n",
      "### Train size 367131 Valid size 91782\n",
      "### Training with 100% fold data...\n",
      "#########################\n",
      "[0]\ttrain-auc:0.96179\tvalid-auc:0.96226\n",
      "[100]\ttrain-auc:0.96339\tvalid-auc:0.96359\n",
      "[125]\ttrain-auc:0.96339\tvalid-auc:0.96359\n",
      "Kaggle Metric = 0.7999260210308863 \n",
      "\n",
      "#########################\n",
      "OVERALL CV Kaggle Metric = 0.7990285677210265\n"
     ]
    }
   ],
   "source": [
    "#train = train.to_pandas() # free GPU memory\n",
    "TRAIN_SUBSAMPLE = 1.0\n",
    "gc.collect() \n",
    "FOLDS = 5\n",
    "\n",
    "for SEED in [42]:\n",
    "    skf = StratifiedKFold(n_splits=FOLDS, shuffle=True, random_state=SEED)\n",
    "    oof = np.zeros((len(oof_df)))\n",
    "    for fold,(train_idx, valid_idx) in enumerate(skf.split(\n",
    "            oof_df, oof_df.target )):\n",
    "    \n",
    "    # TRAIN WITH SUBSAMPLE OF TRAIN FOLD DATA\n",
    "        if TRAIN_SUBSAMPLE<1.0:\n",
    "                np.random.seed(SEED)\n",
    "                train_idx = np.random.choice(train_idx, \n",
    "                       int(len(train_idx)*TRAIN_SUBSAMPLE), replace=False)\n",
    "                np.random.seed(None)\n",
    "    \n",
    "        print('#'*25)\n",
    "        print('### SEED',SEED)\n",
    "        print('### Fold',fold+1)\n",
    "        print('### Train size',len(train_idx),'Valid size',len(valid_idx))\n",
    "        print(f'### Training with {int(TRAIN_SUBSAMPLE*100)}% fold data...')\n",
    "        print('#'*25)\n",
    "    \n",
    "        # TRAIN, VALID, TEST FOR FOLD K\n",
    "        Xy_train = IterLoadForDMatrix(oof_df.loc[train_idx], oofCols, 'target')\n",
    "        X_valid = oof_df.loc[valid_idx, oofCols]\n",
    "        y_valid = oof_df.loc[valid_idx, 'target']\n",
    "    \n",
    "\n",
    "        dtrain = xgb.DeviceQuantileDMatrix(Xy_train, max_bin=511)\n",
    "        dvalid = xgb.DMatrix(data=X_valid, label=y_valid)\n",
    "    \n",
    "         # TRAIN MODEL FOLD K\n",
    "        model = xgb.train(xgb_params, \n",
    "                dtrain=dtrain,          \n",
    "                evals=[(dtrain,'train'),(dvalid,'valid')],\n",
    "                num_boost_round=9999,\n",
    "                early_stopping_rounds=100,\n",
    "                verbose_eval=100) \n",
    "        model.save_model(f'XGBstacked_fold{fold}.xgb')\n",
    "            \n",
    "        # INFER OOF FOLD K\n",
    "        oof_preds = model.predict(dvalid)\n",
    "        acc = amex_metric_mod(y_valid.values, oof_preds)\n",
    "        print('Kaggle Metric =',acc,'\\n')\n",
    "    \n",
    "        # SAVE OOF\n",
    "        oof[valid_idx] = oof_preds\n",
    "    \n",
    "        del dtrain, Xy_train\n",
    "        del X_valid, y_valid, dvalid, model\n",
    "        _ = gc.collect()\n",
    "    \n",
    "print('#'*25)\n",
    "acc = amex_metric_mod(oof_df.target, oof)\n",
    "print('OVERALL CV Kaggle Metric =',acc)"
   ]
  },
  {
   "cell_type": "code",
   "execution_count": 23,
   "id": "b9bc29c8",
   "metadata": {
    "execution": {
     "iopub.execute_input": "2022-08-15T03:03:25.008580Z",
     "iopub.status.busy": "2022-08-15T03:03:25.008275Z",
     "iopub.status.idle": "2022-08-15T03:03:25.013099Z",
     "shell.execute_reply": "2022-08-15T03:03:25.012129Z"
    },
    "papermill": {
     "duration": 0.024018,
     "end_time": "2022-08-15T03:03:25.015069",
     "exception": false,
     "start_time": "2022-08-15T03:03:24.991051",
     "status": "completed"
    },
    "tags": []
   },
   "outputs": [],
   "source": [
    "oof = pd.DataFrame(oof,columns=['oof_xgbstack'])"
   ]
  },
  {
   "cell_type": "code",
   "execution_count": 24,
   "id": "0110cf4d",
   "metadata": {
    "execution": {
     "iopub.execute_input": "2022-08-15T03:03:25.048092Z",
     "iopub.status.busy": "2022-08-15T03:03:25.047766Z",
     "iopub.status.idle": "2022-08-15T03:03:25.807321Z",
     "shell.execute_reply": "2022-08-15T03:03:25.806333Z"
    },
    "papermill": {
     "duration": 0.779032,
     "end_time": "2022-08-15T03:03:25.809864",
     "exception": false,
     "start_time": "2022-08-15T03:03:25.030832",
     "status": "completed"
    },
    "tags": []
   },
   "outputs": [],
   "source": [
    "oof.to_csv('oof_xgbstack.csv',index=False)"
   ]
  },
  {
   "cell_type": "code",
   "execution_count": 25,
   "id": "fec4e663",
   "metadata": {
    "execution": {
     "iopub.execute_input": "2022-08-15T03:03:25.843537Z",
     "iopub.status.busy": "2022-08-15T03:03:25.843225Z",
     "iopub.status.idle": "2022-08-15T03:03:26.477779Z",
     "shell.execute_reply": "2022-08-15T03:03:26.475228Z"
    },
    "papermill": {
     "duration": 0.65506,
     "end_time": "2022-08-15T03:03:26.481010",
     "exception": false,
     "start_time": "2022-08-15T03:03:25.825950",
     "status": "completed"
    },
    "tags": []
   },
   "outputs": [],
   "source": [
    "scaler = StandardScaler()\n",
    "scaler = load(open('../input/amex9predscaler/predscaler','rb'))\n",
    "oofCols = [col for col in oof_df.columns if 'oof' in col]\n",
    "oof_df.loc[:,oofCols] =  scaler.transform(oof_df.loc[:,oofCols])"
   ]
  },
  {
   "cell_type": "code",
   "execution_count": 26,
   "id": "83b6ed75",
   "metadata": {
    "execution": {
     "iopub.execute_input": "2022-08-15T03:03:26.515407Z",
     "iopub.status.busy": "2022-08-15T03:03:26.515075Z",
     "iopub.status.idle": "2022-08-15T03:03:26.523637Z",
     "shell.execute_reply": "2022-08-15T03:03:26.522810Z"
    },
    "papermill": {
     "duration": 0.027607,
     "end_time": "2022-08-15T03:03:26.525753",
     "exception": false,
     "start_time": "2022-08-15T03:03:26.498146",
     "status": "completed"
    },
    "tags": []
   },
   "outputs": [],
   "source": [
    "import os\n",
    "def seed_everything(seed=42):\n",
    "    random.seed(seed)\n",
    "    os.environ['PYTHONHASHSEED'] = str(seed)\n",
    "    np.random.seed(seed)\n",
    "    torch.manual_seed(seed)\n",
    "    torch.cuda.manual_seed(seed)\n",
    "    torch.backends.cudnn.deterministic = True\n",
    "    \n",
    "seed_everything(seed=42)"
   ]
  },
  {
   "cell_type": "code",
   "execution_count": 27,
   "id": "9196c545",
   "metadata": {
    "execution": {
     "iopub.execute_input": "2022-08-15T03:03:26.561014Z",
     "iopub.status.busy": "2022-08-15T03:03:26.560743Z",
     "iopub.status.idle": "2022-08-15T03:03:26.574350Z",
     "shell.execute_reply": "2022-08-15T03:03:26.573508Z"
    },
    "papermill": {
     "duration": 0.032712,
     "end_time": "2022-08-15T03:03:26.576424",
     "exception": false,
     "start_time": "2022-08-15T03:03:26.543712",
     "status": "completed"
    },
    "tags": []
   },
   "outputs": [],
   "source": [
    "class resnetModel(nn.Module):\n",
    "    def __init__(self, num_features,hidden_size,ispretrain=False):\n",
    "        super(resnetModel, self).__init__()\n",
    "        self.ispretrain=ispretrain\n",
    "        self.batch_norm1 = nn.BatchNorm1d(num_features)\n",
    "        self.dense1 = nn.utils.weight_norm(nn.Linear(num_features, hidden_size))\n",
    "        \n",
    "        \n",
    "        self.batch_norm2 = nn.BatchNorm1d(num_features+hidden_size)\n",
    "        self.dropout2 = nn.Dropout(0.5)\n",
    "        self.dense2 = nn.utils.weight_norm(nn.Linear(num_features+hidden_size, hidden_size))\n",
    "        self.batch_norm20 = nn.BatchNorm1d(hidden_size)\n",
    "        self.dropout20 = nn.Dropout(0.5)\n",
    "        self.dense20 = nn.utils.weight_norm(nn.Linear(hidden_size, hidden_size))\n",
    "        \n",
    "\n",
    "        self.batch_norm3 = nn.BatchNorm1d(2*hidden_size)\n",
    "        self.dropout3 = nn.Dropout(0.5)\n",
    "        self.dense3 = nn.utils.weight_norm(nn.Linear(2*hidden_size, hidden_size))\n",
    "        self.batch_norm30 = nn.BatchNorm1d(hidden_size)\n",
    "        self.dropout30 = nn.Dropout(0.5)\n",
    "        self.dense30 = nn.utils.weight_norm(nn.Linear(hidden_size, hidden_size))\n",
    "        \n",
    "\n",
    "        self.batch_norm4 = nn.BatchNorm1d(2*hidden_size)\n",
    "        self.dropout4 = nn.Dropout(0.5)\n",
    "        if self.ispretrain:\n",
    "          self.dense4 = nn.utils.weight_norm(nn.Linear(2*hidden_size, 1))\n",
    "        else:\n",
    "          self.dense5 = nn.utils.weight_norm(nn.Linear(2*hidden_size, 1))\n",
    "    \n",
    "    def forward(self, x):\n",
    "        x1 = self.batch_norm1(x)\n",
    "        x1 = F.elu(self.dense1(x1))\n",
    "        x = torch.cat([x,x1],1)\n",
    "        \n",
    "        x2 = self.batch_norm2(x)\n",
    "        x2 = self.dropout2(x2)\n",
    "        x2 = F.elu(self.dense2(x2))\n",
    "        x2 = self.batch_norm20(x2)\n",
    "        x2 = self.dropout20(x2)\n",
    "        x2 = F.elu(self.dense20(x2))\n",
    "        x = torch.cat([x1,x2],1)\n",
    "\n",
    "        x3 = self.batch_norm3(x)\n",
    "        x3 = self.dropout3(x3)\n",
    "        x3 = F.elu(self.dense3(x3))\n",
    "        x3 = self.batch_norm30(x3)\n",
    "        x3 = self.dropout30(x3)\n",
    "        x3 = F.elu(self.dense30(x3))\n",
    "        x3 = torch.cat([x2,x3],1)\n",
    "        \n",
    "        x3 = self.batch_norm4(x3)\n",
    "        x3 = self.dropout4(x3)\n",
    "        if self.ispretrain:\n",
    "          x3 = self.dense4(x3)\n",
    "        else:\n",
    "          x3 = self.dense5(x3)\n",
    "        return x3"
   ]
  },
  {
   "cell_type": "code",
   "execution_count": 28,
   "id": "08f2a9e8",
   "metadata": {
    "execution": {
     "iopub.execute_input": "2022-08-15T03:03:26.611926Z",
     "iopub.status.busy": "2022-08-15T03:03:26.611161Z",
     "iopub.status.idle": "2022-08-15T03:03:26.695806Z",
     "shell.execute_reply": "2022-08-15T03:03:26.694829Z"
    },
    "papermill": {
     "duration": 0.104827,
     "end_time": "2022-08-15T03:03:26.698213",
     "exception": false,
     "start_time": "2022-08-15T03:03:26.593386",
     "status": "completed"
    },
    "tags": []
   },
   "outputs": [],
   "source": [
    "skf = StratifiedKFold(n_splits=5)\n",
    "\n",
    "for f,(t_idx,v_idx) in enumerate(skf.split(X=oof_df,y=oof_df.target)):\n",
    "    oof_df.loc[v_idx,'kfold'] = int(f)\n",
    "\n",
    "oof_df['kfold'] = oof_df['kfold'].astype(int)    "
   ]
  },
  {
   "cell_type": "code",
   "execution_count": 29,
   "id": "3a5812a8",
   "metadata": {
    "execution": {
     "iopub.execute_input": "2022-08-15T03:03:26.732498Z",
     "iopub.status.busy": "2022-08-15T03:03:26.731735Z",
     "iopub.status.idle": "2022-08-15T03:03:26.738268Z",
     "shell.execute_reply": "2022-08-15T03:03:26.737385Z"
    },
    "papermill": {
     "duration": 0.025436,
     "end_time": "2022-08-15T03:03:26.740225",
     "exception": false,
     "start_time": "2022-08-15T03:03:26.714789",
     "status": "completed"
    },
    "tags": []
   },
   "outputs": [],
   "source": [
    "class AmexDataset:\n",
    "    def __init__(self,features,target,noise=0.1):\n",
    "        self.features = features\n",
    "        self.target = target\n",
    "        self.noise = noise\n",
    "        \n",
    "    def __len__(self):\n",
    "        return (self.features.shape[0])\n",
    "    \n",
    "    def __getitem__(self,idx):\n",
    "        \n",
    "        dct = {\n",
    "            'x' : torch.tensor(self.features[idx, :], dtype=torch.float),\n",
    "            'y' : torch.tensor(self.target[idx] ,dtype=torch.float)          \n",
    "        }\n",
    "        return dct"
   ]
  },
  {
   "cell_type": "code",
   "execution_count": 30,
   "id": "ac6096be",
   "metadata": {
    "execution": {
     "iopub.execute_input": "2022-08-15T03:03:26.774446Z",
     "iopub.status.busy": "2022-08-15T03:03:26.773705Z",
     "iopub.status.idle": "2022-08-15T03:03:26.782456Z",
     "shell.execute_reply": "2022-08-15T03:03:26.781633Z"
    },
    "papermill": {
     "duration": 0.028075,
     "end_time": "2022-08-15T03:03:26.784395",
     "exception": false,
     "start_time": "2022-08-15T03:03:26.756320",
     "status": "completed"
    },
    "tags": []
   },
   "outputs": [],
   "source": [
    "def train_fn(model,optimizer,scheduler,loss_fn,dataloader,device):\n",
    "    \n",
    "    model.train()\n",
    "    final_loss = 0\n",
    "    \n",
    "    for  data in dataloader:\n",
    "        optimizer.zero_grad()\n",
    "        inputs,target = data['x'].to(device),data['y'].to(device)\n",
    "        outputs = model(inputs)\n",
    "        loss = loss_fn(outputs[:,0],target.float())\n",
    "        loss.backward()\n",
    "        optimizer.step()\n",
    "        scheduler.step()\n",
    "        \n",
    "        final_loss += loss.item()\n",
    "        \n",
    "    final_loss /= len(dataloader)\n",
    "    \n",
    "    return final_loss\n",
    "\n",
    "def valid_fn(model,loss_fn,dataloader,device):\n",
    "    model.eval()\n",
    "    final_loss = 0\n",
    "    valid_preds = [] \n",
    "    \n",
    "    for data in dataloader:\n",
    "        inputs,target = data['x'].to(device),data['y'].to(device)\n",
    "        outputs = model(inputs)\n",
    "        loss = loss_fn(outputs[:,0],target.float())\n",
    "        final_loss +=loss.item()\n",
    "        valid_preds.append(outputs.sigmoid().detach().cpu().numpy())\n",
    "        \n",
    "    final_loss /= len(dataloader)\n",
    "    valid_preds = np.concatenate(valid_preds)\n",
    "    \n",
    "    return final_loss, valid_preds"
   ]
  },
  {
   "cell_type": "code",
   "execution_count": 31,
   "id": "482c719e",
   "metadata": {
    "execution": {
     "iopub.execute_input": "2022-08-15T03:03:26.818514Z",
     "iopub.status.busy": "2022-08-15T03:03:26.817142Z",
     "iopub.status.idle": "2022-08-15T03:03:26.827579Z",
     "shell.execute_reply": "2022-08-15T03:03:26.826771Z"
    },
    "papermill": {
     "duration": 0.029311,
     "end_time": "2022-08-15T03:03:26.829612",
     "exception": false,
     "start_time": "2022-08-15T03:03:26.800301",
     "status": "completed"
    },
    "tags": []
   },
   "outputs": [],
   "source": [
    "class FineTuneScheduler:\n",
    "    def __init__(self, epochs):\n",
    "        self.epochs = epochs\n",
    "        self.epochs_per_step = 0\n",
    "        self.frozen_layers = []\n",
    "\n",
    "    def copy_without_top(self, model, num_features):\n",
    "        self.frozen_layers = []\n",
    "\n",
    "        model_new = resnetModel(num_features,1024)\n",
    "        model_new.load_state_dict(model.state_dict())\n",
    "\n",
    "        # Freeze all weights\n",
    "        for name, param in model_new.named_parameters():\n",
    "            layer_index = name.split('.')[0][-1]\n",
    "\n",
    "            if layer_index == 5:\n",
    "                continue\n",
    "\n",
    "            param.requires_grad = False\n",
    "\n",
    "            # Save frozen layer names\n",
    "            if layer_index not in self.frozen_layers:\n",
    "                self.frozen_layers.append(layer_index)\n",
    "\n",
    "        self.epochs_per_step = self.epochs // len(self.frozen_layers)\n",
    "        \n",
    "        hidden_size = 1024\n",
    "        # Replace the top layers with another ones\n",
    "        model_new.batch_norm4 = nn.BatchNorm1d(2*hidden_size)\n",
    "        model_new.dropout4 = nn.Dropout(0.5)\n",
    "        model_new.dense5 = nn.utils.weight_norm(nn.Linear(2*hidden_size, 1))\n",
    "        model_new.to(DEVICE)\n",
    "        return model_new\n",
    "\n",
    "    def step(self, epoch, model):\n",
    "        if len(self.frozen_layers) == 0:\n",
    "            return\n",
    "\n",
    "        if epoch % self.epochs_per_step == 0:\n",
    "            last_frozen_index = self.frozen_layers[-1]\n",
    "            \n",
    "            # Unfreeze parameters of the last frozen layer\n",
    "            for name, param in model.named_parameters():\n",
    "                layer_index = name.split('.')[0][-1]\n",
    "\n",
    "                if layer_index == last_frozen_index:\n",
    "                    param.requires_grad = True\n",
    "\n",
    "            del self.frozen_layers[-1]  # Remove the last layer as unfrozen"
   ]
  },
  {
   "cell_type": "code",
   "execution_count": 32,
   "id": "fce529f3",
   "metadata": {
    "execution": {
     "iopub.execute_input": "2022-08-15T03:03:26.863339Z",
     "iopub.status.busy": "2022-08-15T03:03:26.862583Z",
     "iopub.status.idle": "2022-08-15T03:03:26.867128Z",
     "shell.execute_reply": "2022-08-15T03:03:26.866194Z"
    },
    "papermill": {
     "duration": 0.023361,
     "end_time": "2022-08-15T03:03:26.868998",
     "exception": false,
     "start_time": "2022-08-15T03:03:26.845637",
     "status": "completed"
    },
    "tags": []
   },
   "outputs": [],
   "source": [
    "DEVICE = 'cuda'\n",
    "EPOCHS = 15\n",
    "BATCH_SIZE = 1024\n",
    "LEARNING_RATE = 1e-3\n",
    "NFOLDS = 5           #<-- Update\n",
    "EARLY_STOPPING_STEPS = 10\n",
    "EARLY_STOP = False"
   ]
  },
  {
   "cell_type": "code",
   "execution_count": 33,
   "id": "c1935359",
   "metadata": {
    "execution": {
     "iopub.execute_input": "2022-08-15T03:03:26.903170Z",
     "iopub.status.busy": "2022-08-15T03:03:26.902439Z",
     "iopub.status.idle": "2022-08-15T03:03:26.910802Z",
     "shell.execute_reply": "2022-08-15T03:03:26.909879Z"
    },
    "papermill": {
     "duration": 0.027286,
     "end_time": "2022-08-15T03:03:26.912721",
     "exception": false,
     "start_time": "2022-08-15T03:03:26.885435",
     "status": "completed"
    },
    "tags": []
   },
   "outputs": [],
   "source": [
    "import torch\n",
    "from torch.nn.modules.loss import _WeightedLoss\n",
    "import torch.nn.functional as F\n",
    "\n",
    "class SmoothBCEwLogits(_WeightedLoss):\n",
    "    def __init__(self, weight=None, reduction='mean', smoothing=0.0):\n",
    "        super().__init__(weight=weight, reduction=reduction)\n",
    "        self.smoothing = smoothing\n",
    "        self.weight = weight\n",
    "        self.reduction = reduction\n",
    "\n",
    "    @staticmethod\n",
    "    def _smooth(targets:torch.Tensor, n_labels:int, smoothing=0.0):\n",
    "        assert 0 <= smoothing < 1\n",
    "\n",
    "        with torch.no_grad():\n",
    "            targets = targets * (1.0 - smoothing) + 0.5 * smoothing\n",
    "            \n",
    "        return targets\n",
    "\n",
    "    def forward(self, inputs, targets):\n",
    "        targets = SmoothBCEwLogits._smooth(targets, inputs.size(-1),\n",
    "            self.smoothing)\n",
    "        loss = F.binary_cross_entropy_with_logits(inputs, targets,self.weight)\n",
    "\n",
    "        if  self.reduction == 'sum':\n",
    "            loss = loss.sum()\n",
    "        elif  self.reduction == 'mean':\n",
    "            loss = loss.mean()\n",
    "\n",
    "        return loss"
   ]
  },
  {
   "cell_type": "code",
   "execution_count": 34,
   "id": "478a085b",
   "metadata": {
    "execution": {
     "iopub.execute_input": "2022-08-15T03:03:26.946111Z",
     "iopub.status.busy": "2022-08-15T03:03:26.945782Z",
     "iopub.status.idle": "2022-08-15T03:03:26.959422Z",
     "shell.execute_reply": "2022-08-15T03:03:26.958491Z"
    },
    "papermill": {
     "duration": 0.032836,
     "end_time": "2022-08-15T03:03:26.961348",
     "exception": false,
     "start_time": "2022-08-15T03:03:26.928512",
     "status": "completed"
    },
    "tags": []
   },
   "outputs": [],
   "source": [
    "def run_training(fold,seed):\n",
    "    seed_everything(seed)\n",
    "    \n",
    "    trn_idx = oof_df[oof_df['kfold'] != fold].index\n",
    "    val_idx = oof_df[oof_df['kfold'] == fold].index\n",
    "    \n",
    "    train_df = oof_df[oof_df['kfold'] != fold].reset_index(drop=True)\n",
    "    valid_df = oof_df[oof_df['kfold'] == fold].reset_index(drop=True)\n",
    "    \n",
    "    def train_model(model,fine_tune_scheduler=None):\n",
    "    \n",
    "        x_train,y_train = train_df[oofCols].values,train_df['target'].values\n",
    "        x_valid,y_valid = valid_df[oofCols].values,valid_df['target'].values\n",
    "        \n",
    "      #  scaler = StandardScaler()\n",
    "        \n",
    "      #  x_train =  scaler.fit_transform(x_train)\n",
    "      #  x_valid = scaler.transform(x_valid)\n",
    "        \n",
    "        train_dataset = AmexDataset(x_train,y_train)\n",
    "        valid_dataset = AmexDataset(x_valid,y_valid)\n",
    "\n",
    "        trainloader = torch.utils.data.DataLoader(train_dataset, batch_size=BATCH_SIZE, shuffle=True)\n",
    "        validloader = torch.utils.data.DataLoader(valid_dataset, batch_size=BATCH_SIZE, shuffle=False)\n",
    "        \n",
    "        optimizer = torch.optim.Adam(model.parameters())\n",
    "        scheduler = torch.optim.lr_scheduler.OneCycleLR(optimizer=optimizer, pct_start=0.1, div_factor=1e3, \n",
    "                                              max_lr=1e-2, epochs=EPOCHS, steps_per_epoch=len(trainloader))\n",
    "        \n",
    "        loss_fn = nn.BCEWithLogitsLoss()\n",
    "        loss_tr = SmoothBCEwLogits(smoothing=0.001)\n",
    "\n",
    "        oof = np.zeros((len(oof_df),1))\n",
    "        best_loss = np.inf\n",
    "        \n",
    "        for epoch in range(EPOCHS):\n",
    "            if fine_tune_scheduler is not None:\n",
    "                fine_tune_scheduler.step(epoch, model)\n",
    "\n",
    "            train_loss = train_fn(model, optimizer, scheduler, loss_tr, trainloader, DEVICE)\n",
    "            valid_loss, valid_preds = valid_fn(model, loss_fn, validloader, DEVICE)\n",
    "            print(f\"SEED: {seed}, FOLD: {fold}, EPOCH: {epoch}, train_loss: {train_loss:.6f}, valid_loss: {valid_loss:.6f}\")\n",
    "\n",
    "            if np.isnan(valid_loss):\n",
    "                break\n",
    "            \n",
    "            if valid_loss < best_loss:\n",
    "                best_loss = valid_loss\n",
    "                oof[val_idx] = valid_preds\n",
    "                torch.save(model.state_dict(), f\"MLP_stack_SEED{seed}_FOLD{fold}_.pth\")\n",
    "       \n",
    "        return oof\n",
    "\n",
    "    fine_tune_scheduler = FineTuneScheduler(EPOCHS)\n",
    "    \n",
    "    pretrained_model = resnetModel(len(oofCols),1024)\n",
    "    pretrained_model.to(DEVICE)\n",
    "    \n",
    "    print('1st Stage')\n",
    "    \n",
    "    # Train on scored + nonscored targets\n",
    "    train_model(pretrained_model)\n",
    "    \n",
    "    # Load the pretrained model with the best loss\n",
    "    pretrained_model = resnetModel(len(oofCols),1024)\n",
    "    pretrained_model.load_state_dict(torch.load(f\"MLP_stack_SEED{seed}_FOLD{fold}_.pth\"))\n",
    "    pretrained_model.to(DEVICE)\n",
    "                                     \n",
    "    # Copy model without the top layer\n",
    "    final_model = fine_tune_scheduler.copy_without_top(pretrained_model,len(oofCols))     \n",
    "    \n",
    "    print('2nd Stage / Fine Tuning....')\n",
    "                                     \n",
    "    oof = train_model(final_model,fine_tune_scheduler)       \n",
    "                                    \n",
    "    return oof                                 "
   ]
  },
  {
   "cell_type": "code",
   "execution_count": 35,
   "id": "33aa86dd",
   "metadata": {
    "execution": {
     "iopub.execute_input": "2022-08-15T03:03:26.996436Z",
     "iopub.status.busy": "2022-08-15T03:03:26.995639Z",
     "iopub.status.idle": "2022-08-15T03:03:27.000713Z",
     "shell.execute_reply": "2022-08-15T03:03:26.999586Z"
    },
    "papermill": {
     "duration": 0.024685,
     "end_time": "2022-08-15T03:03:27.002756",
     "exception": false,
     "start_time": "2022-08-15T03:03:26.978071",
     "status": "completed"
    },
    "tags": []
   },
   "outputs": [],
   "source": [
    "def run_k_fold(NFOLDS, seed):\n",
    "    oof = np.zeros((len(oof_df),1))\n",
    "    \n",
    "    for fold in range(NFOLDS):\n",
    "        oof_ = run_training(fold, seed)\n",
    "        oof += oof_\n",
    "    return oof"
   ]
  },
  {
   "cell_type": "code",
   "execution_count": 36,
   "id": "93bdabb9",
   "metadata": {
    "execution": {
     "iopub.execute_input": "2022-08-15T03:03:27.037566Z",
     "iopub.status.busy": "2022-08-15T03:03:27.037309Z",
     "iopub.status.idle": "2022-08-15T03:25:45.799306Z",
     "shell.execute_reply": "2022-08-15T03:25:45.795164Z"
    },
    "papermill": {
     "duration": 1338.80414,
     "end_time": "2022-08-15T03:25:45.823860",
     "exception": false,
     "start_time": "2022-08-15T03:03:27.019720",
     "status": "completed"
    },
    "tags": []
   },
   "outputs": [
    {
     "name": "stdout",
     "output_type": "stream",
     "text": [
      "1st Stage\n",
      "SEED: 42, FOLD: 0, EPOCH: 0, train_loss: 0.265219, valid_loss: 0.221917\n",
      "SEED: 42, FOLD: 0, EPOCH: 1, train_loss: 0.219787, valid_loss: 0.215331\n",
      "SEED: 42, FOLD: 0, EPOCH: 2, train_loss: 0.217899, valid_loss: 0.215224\n",
      "SEED: 42, FOLD: 0, EPOCH: 3, train_loss: 0.217430, valid_loss: 0.213348\n",
      "SEED: 42, FOLD: 0, EPOCH: 4, train_loss: 0.217137, valid_loss: 0.214621\n",
      "SEED: 42, FOLD: 0, EPOCH: 5, train_loss: 0.216841, valid_loss: 0.213249\n",
      "SEED: 42, FOLD: 0, EPOCH: 6, train_loss: 0.216904, valid_loss: 0.213605\n",
      "SEED: 42, FOLD: 0, EPOCH: 7, train_loss: 0.216590, valid_loss: 0.213341\n",
      "SEED: 42, FOLD: 0, EPOCH: 8, train_loss: 0.216676, valid_loss: 0.213450\n",
      "SEED: 42, FOLD: 0, EPOCH: 9, train_loss: 0.216597, valid_loss: 0.213344\n",
      "SEED: 42, FOLD: 0, EPOCH: 10, train_loss: 0.216319, valid_loss: 0.213782\n",
      "SEED: 42, FOLD: 0, EPOCH: 11, train_loss: 0.216018, valid_loss: 0.213315\n",
      "SEED: 42, FOLD: 0, EPOCH: 12, train_loss: 0.216265, valid_loss: 0.213313\n",
      "SEED: 42, FOLD: 0, EPOCH: 13, train_loss: 0.216148, valid_loss: 0.213174\n",
      "SEED: 42, FOLD: 0, EPOCH: 14, train_loss: 0.215898, valid_loss: 0.213227\n",
      "2nd Stage / Fine Tuning....\n",
      "SEED: 42, FOLD: 0, EPOCH: 0, train_loss: 0.293649, valid_loss: 0.214469\n",
      "SEED: 42, FOLD: 0, EPOCH: 1, train_loss: 0.218841, valid_loss: 0.214363\n",
      "SEED: 42, FOLD: 0, EPOCH: 2, train_loss: 0.217827, valid_loss: 0.214663\n",
      "SEED: 42, FOLD: 0, EPOCH: 3, train_loss: 0.216934, valid_loss: 0.213430\n",
      "SEED: 42, FOLD: 0, EPOCH: 4, train_loss: 0.217432, valid_loss: 0.213849\n",
      "SEED: 42, FOLD: 0, EPOCH: 5, train_loss: 0.216937, valid_loss: 0.213507\n",
      "SEED: 42, FOLD: 0, EPOCH: 6, train_loss: 0.217731, valid_loss: 0.213495\n",
      "SEED: 42, FOLD: 0, EPOCH: 7, train_loss: 0.216728, valid_loss: 0.213231\n",
      "SEED: 42, FOLD: 0, EPOCH: 8, train_loss: 0.216758, valid_loss: 0.213624\n",
      "SEED: 42, FOLD: 0, EPOCH: 9, train_loss: 0.216764, valid_loss: 0.213213\n",
      "SEED: 42, FOLD: 0, EPOCH: 10, train_loss: 0.216577, valid_loss: 0.213126\n",
      "SEED: 42, FOLD: 0, EPOCH: 11, train_loss: 0.216385, valid_loss: 0.213615\n",
      "SEED: 42, FOLD: 0, EPOCH: 12, train_loss: 0.216314, valid_loss: 0.213165\n",
      "SEED: 42, FOLD: 0, EPOCH: 13, train_loss: 0.216036, valid_loss: 0.213199\n",
      "SEED: 42, FOLD: 0, EPOCH: 14, train_loss: 0.215904, valid_loss: 0.213392\n",
      "1st Stage\n",
      "SEED: 42, FOLD: 1, EPOCH: 0, train_loss: 0.264221, valid_loss: 0.217167\n",
      "SEED: 42, FOLD: 1, EPOCH: 1, train_loss: 0.219407, valid_loss: 0.215891\n",
      "SEED: 42, FOLD: 1, EPOCH: 2, train_loss: 0.217838, valid_loss: 0.216126\n",
      "SEED: 42, FOLD: 1, EPOCH: 3, train_loss: 0.217020, valid_loss: 0.214534\n",
      "SEED: 42, FOLD: 1, EPOCH: 4, train_loss: 0.217030, valid_loss: 0.216947\n",
      "SEED: 42, FOLD: 1, EPOCH: 5, train_loss: 0.216449, valid_loss: 0.214794\n",
      "SEED: 42, FOLD: 1, EPOCH: 6, train_loss: 0.216775, valid_loss: 0.214605\n",
      "SEED: 42, FOLD: 1, EPOCH: 7, train_loss: 0.216269, valid_loss: 0.214782\n",
      "SEED: 42, FOLD: 1, EPOCH: 8, train_loss: 0.216366, valid_loss: 0.214522\n",
      "SEED: 42, FOLD: 1, EPOCH: 9, train_loss: 0.216197, valid_loss: 0.214449\n",
      "SEED: 42, FOLD: 1, EPOCH: 10, train_loss: 0.216041, valid_loss: 0.214980\n",
      "SEED: 42, FOLD: 1, EPOCH: 11, train_loss: 0.215968, valid_loss: 0.214478\n",
      "SEED: 42, FOLD: 1, EPOCH: 12, train_loss: 0.215840, valid_loss: 0.214584\n",
      "SEED: 42, FOLD: 1, EPOCH: 13, train_loss: 0.215903, valid_loss: 0.214407\n",
      "SEED: 42, FOLD: 1, EPOCH: 14, train_loss: 0.215648, valid_loss: 0.214369\n",
      "2nd Stage / Fine Tuning....\n",
      "SEED: 42, FOLD: 1, EPOCH: 0, train_loss: 0.278710, valid_loss: 0.215796\n",
      "SEED: 42, FOLD: 1, EPOCH: 1, train_loss: 0.218492, valid_loss: 0.214745\n",
      "SEED: 42, FOLD: 1, EPOCH: 2, train_loss: 0.217480, valid_loss: 0.215121\n",
      "SEED: 42, FOLD: 1, EPOCH: 3, train_loss: 0.216679, valid_loss: 0.215057\n",
      "SEED: 42, FOLD: 1, EPOCH: 4, train_loss: 0.216881, valid_loss: 0.215323\n",
      "SEED: 42, FOLD: 1, EPOCH: 5, train_loss: 0.216566, valid_loss: 0.214463\n",
      "SEED: 42, FOLD: 1, EPOCH: 6, train_loss: 0.217251, valid_loss: 0.214592\n",
      "SEED: 42, FOLD: 1, EPOCH: 7, train_loss: 0.216526, valid_loss: 0.214773\n",
      "SEED: 42, FOLD: 1, EPOCH: 8, train_loss: 0.216697, valid_loss: 0.214441\n",
      "SEED: 42, FOLD: 1, EPOCH: 9, train_loss: 0.216329, valid_loss: 0.214501\n",
      "SEED: 42, FOLD: 1, EPOCH: 10, train_loss: 0.216063, valid_loss: 0.214482\n",
      "SEED: 42, FOLD: 1, EPOCH: 11, train_loss: 0.216140, valid_loss: 0.214494\n",
      "SEED: 42, FOLD: 1, EPOCH: 12, train_loss: 0.215837, valid_loss: 0.214383\n",
      "SEED: 42, FOLD: 1, EPOCH: 13, train_loss: 0.215755, valid_loss: 0.214521\n",
      "SEED: 42, FOLD: 1, EPOCH: 14, train_loss: 0.215854, valid_loss: 0.214586\n",
      "1st Stage\n",
      "SEED: 42, FOLD: 2, EPOCH: 0, train_loss: 0.265331, valid_loss: 0.216164\n",
      "SEED: 42, FOLD: 2, EPOCH: 1, train_loss: 0.219553, valid_loss: 0.213411\n",
      "SEED: 42, FOLD: 2, EPOCH: 2, train_loss: 0.218286, valid_loss: 0.213945\n",
      "SEED: 42, FOLD: 2, EPOCH: 3, train_loss: 0.217514, valid_loss: 0.212945\n",
      "SEED: 42, FOLD: 2, EPOCH: 4, train_loss: 0.217486, valid_loss: 0.216899\n",
      "SEED: 42, FOLD: 2, EPOCH: 5, train_loss: 0.216778, valid_loss: 0.213015\n",
      "SEED: 42, FOLD: 2, EPOCH: 6, train_loss: 0.217050, valid_loss: 0.212627\n",
      "SEED: 42, FOLD: 2, EPOCH: 7, train_loss: 0.216872, valid_loss: 0.212730\n",
      "SEED: 42, FOLD: 2, EPOCH: 8, train_loss: 0.216848, valid_loss: 0.213541\n",
      "SEED: 42, FOLD: 2, EPOCH: 9, train_loss: 0.216590, valid_loss: 0.212622\n",
      "SEED: 42, FOLD: 2, EPOCH: 10, train_loss: 0.216686, valid_loss: 0.212835\n",
      "SEED: 42, FOLD: 2, EPOCH: 11, train_loss: 0.216421, valid_loss: 0.212483\n",
      "SEED: 42, FOLD: 2, EPOCH: 12, train_loss: 0.216184, valid_loss: 0.212674\n",
      "SEED: 42, FOLD: 2, EPOCH: 13, train_loss: 0.216325, valid_loss: 0.212538\n",
      "SEED: 42, FOLD: 2, EPOCH: 14, train_loss: 0.216019, valid_loss: 0.212482\n",
      "2nd Stage / Fine Tuning....\n",
      "SEED: 42, FOLD: 2, EPOCH: 0, train_loss: 0.271633, valid_loss: 0.214347\n",
      "SEED: 42, FOLD: 2, EPOCH: 1, train_loss: 0.219081, valid_loss: 0.213654\n",
      "SEED: 42, FOLD: 2, EPOCH: 2, train_loss: 0.217954, valid_loss: 0.213398\n",
      "SEED: 42, FOLD: 2, EPOCH: 3, train_loss: 0.217100, valid_loss: 0.213329\n",
      "SEED: 42, FOLD: 2, EPOCH: 4, train_loss: 0.217355, valid_loss: 0.213166\n",
      "SEED: 42, FOLD: 2, EPOCH: 5, train_loss: 0.217141, valid_loss: 0.212676\n",
      "SEED: 42, FOLD: 2, EPOCH: 6, train_loss: 0.217784, valid_loss: 0.213672\n",
      "SEED: 42, FOLD: 2, EPOCH: 7, train_loss: 0.217094, valid_loss: 0.212484\n",
      "SEED: 42, FOLD: 2, EPOCH: 8, train_loss: 0.216835, valid_loss: 0.212593\n",
      "SEED: 42, FOLD: 2, EPOCH: 9, train_loss: 0.216858, valid_loss: 0.212706\n",
      "SEED: 42, FOLD: 2, EPOCH: 10, train_loss: 0.216532, valid_loss: 0.212518\n",
      "SEED: 42, FOLD: 2, EPOCH: 11, train_loss: 0.216489, valid_loss: 0.212571\n",
      "SEED: 42, FOLD: 2, EPOCH: 12, train_loss: 0.216365, valid_loss: 0.212455\n",
      "SEED: 42, FOLD: 2, EPOCH: 13, train_loss: 0.216080, valid_loss: 0.212502\n",
      "SEED: 42, FOLD: 2, EPOCH: 14, train_loss: 0.216456, valid_loss: 0.212547\n",
      "1st Stage\n",
      "SEED: 42, FOLD: 3, EPOCH: 0, train_loss: 0.264808, valid_loss: 0.220891\n",
      "SEED: 42, FOLD: 3, EPOCH: 1, train_loss: 0.219757, valid_loss: 0.214409\n",
      "SEED: 42, FOLD: 3, EPOCH: 2, train_loss: 0.217561, valid_loss: 0.218456\n",
      "SEED: 42, FOLD: 3, EPOCH: 3, train_loss: 0.217428, valid_loss: 0.215662\n",
      "SEED: 42, FOLD: 3, EPOCH: 4, train_loss: 0.217183, valid_loss: 0.215018\n",
      "SEED: 42, FOLD: 3, EPOCH: 5, train_loss: 0.216674, valid_loss: 0.213999\n",
      "SEED: 42, FOLD: 3, EPOCH: 6, train_loss: 0.216689, valid_loss: 0.214331\n",
      "SEED: 42, FOLD: 3, EPOCH: 7, train_loss: 0.216672, valid_loss: 0.214035\n",
      "SEED: 42, FOLD: 3, EPOCH: 8, train_loss: 0.216219, valid_loss: 0.214179\n",
      "SEED: 42, FOLD: 3, EPOCH: 9, train_loss: 0.216172, valid_loss: 0.213888\n",
      "SEED: 42, FOLD: 3, EPOCH: 10, train_loss: 0.216052, valid_loss: 0.213906\n",
      "SEED: 42, FOLD: 3, EPOCH: 11, train_loss: 0.215881, valid_loss: 0.213906\n",
      "SEED: 42, FOLD: 3, EPOCH: 12, train_loss: 0.215917, valid_loss: 0.213999\n",
      "SEED: 42, FOLD: 3, EPOCH: 13, train_loss: 0.215964, valid_loss: 0.213999\n",
      "SEED: 42, FOLD: 3, EPOCH: 14, train_loss: 0.215727, valid_loss: 0.213938\n",
      "2nd Stage / Fine Tuning....\n",
      "SEED: 42, FOLD: 3, EPOCH: 0, train_loss: 0.264851, valid_loss: 0.221450\n",
      "SEED: 42, FOLD: 3, EPOCH: 1, train_loss: 0.219374, valid_loss: 0.215045\n",
      "SEED: 42, FOLD: 3, EPOCH: 2, train_loss: 0.217316, valid_loss: 0.214179\n",
      "SEED: 42, FOLD: 3, EPOCH: 3, train_loss: 0.216869, valid_loss: 0.213975\n",
      "SEED: 42, FOLD: 3, EPOCH: 4, train_loss: 0.216602, valid_loss: 0.214209\n",
      "SEED: 42, FOLD: 3, EPOCH: 5, train_loss: 0.216691, valid_loss: 0.215772\n",
      "SEED: 42, FOLD: 3, EPOCH: 6, train_loss: 0.217294, valid_loss: 0.214122\n",
      "SEED: 42, FOLD: 3, EPOCH: 7, train_loss: 0.216540, valid_loss: 0.214478\n",
      "SEED: 42, FOLD: 3, EPOCH: 8, train_loss: 0.216761, valid_loss: 0.214019\n",
      "SEED: 42, FOLD: 3, EPOCH: 9, train_loss: 0.216434, valid_loss: 0.214240\n",
      "SEED: 42, FOLD: 3, EPOCH: 10, train_loss: 0.216023, valid_loss: 0.214047\n",
      "SEED: 42, FOLD: 3, EPOCH: 11, train_loss: 0.215968, valid_loss: 0.214072\n",
      "SEED: 42, FOLD: 3, EPOCH: 12, train_loss: 0.216103, valid_loss: 0.213878\n",
      "SEED: 42, FOLD: 3, EPOCH: 13, train_loss: 0.215979, valid_loss: 0.214001\n",
      "SEED: 42, FOLD: 3, EPOCH: 14, train_loss: 0.215730, valid_loss: 0.213917\n",
      "1st Stage\n",
      "SEED: 42, FOLD: 4, EPOCH: 0, train_loss: 0.265162, valid_loss: 0.218146\n",
      "SEED: 42, FOLD: 4, EPOCH: 1, train_loss: 0.219915, valid_loss: 0.211885\n",
      "SEED: 42, FOLD: 4, EPOCH: 2, train_loss: 0.218363, valid_loss: 0.214710\n",
      "SEED: 42, FOLD: 4, EPOCH: 3, train_loss: 0.217961, valid_loss: 0.212637\n",
      "SEED: 42, FOLD: 4, EPOCH: 4, train_loss: 0.217720, valid_loss: 0.212120\n",
      "SEED: 42, FOLD: 4, EPOCH: 5, train_loss: 0.217264, valid_loss: 0.211511\n",
      "SEED: 42, FOLD: 4, EPOCH: 6, train_loss: 0.217412, valid_loss: 0.211476\n",
      "SEED: 42, FOLD: 4, EPOCH: 7, train_loss: 0.217308, valid_loss: 0.212584\n",
      "SEED: 42, FOLD: 4, EPOCH: 8, train_loss: 0.216968, valid_loss: 0.211479\n",
      "SEED: 42, FOLD: 4, EPOCH: 9, train_loss: 0.216893, valid_loss: 0.211631\n",
      "SEED: 42, FOLD: 4, EPOCH: 10, train_loss: 0.216612, valid_loss: 0.211488\n",
      "SEED: 42, FOLD: 4, EPOCH: 11, train_loss: 0.216537, valid_loss: 0.211651\n",
      "SEED: 42, FOLD: 4, EPOCH: 12, train_loss: 0.216511, valid_loss: 0.211499\n",
      "SEED: 42, FOLD: 4, EPOCH: 13, train_loss: 0.216589, valid_loss: 0.211515\n",
      "SEED: 42, FOLD: 4, EPOCH: 14, train_loss: 0.216381, valid_loss: 0.211543\n",
      "2nd Stage / Fine Tuning....\n",
      "SEED: 42, FOLD: 4, EPOCH: 0, train_loss: 0.271153, valid_loss: 0.213990\n",
      "SEED: 42, FOLD: 4, EPOCH: 1, train_loss: 0.220018, valid_loss: 0.212177\n",
      "SEED: 42, FOLD: 4, EPOCH: 2, train_loss: 0.218183, valid_loss: 0.211726\n",
      "SEED: 42, FOLD: 4, EPOCH: 3, train_loss: 0.217558, valid_loss: 0.211516\n",
      "SEED: 42, FOLD: 4, EPOCH: 4, train_loss: 0.217568, valid_loss: 0.211738\n",
      "SEED: 42, FOLD: 4, EPOCH: 5, train_loss: 0.217470, valid_loss: 0.212348\n",
      "SEED: 42, FOLD: 4, EPOCH: 6, train_loss: 0.218051, valid_loss: 0.211685\n",
      "SEED: 42, FOLD: 4, EPOCH: 7, train_loss: 0.217204, valid_loss: 0.211645\n",
      "SEED: 42, FOLD: 4, EPOCH: 8, train_loss: 0.217546, valid_loss: 0.211999\n",
      "SEED: 42, FOLD: 4, EPOCH: 9, train_loss: 0.217099, valid_loss: 0.211795\n",
      "SEED: 42, FOLD: 4, EPOCH: 10, train_loss: 0.216629, valid_loss: 0.211493\n",
      "SEED: 42, FOLD: 4, EPOCH: 11, train_loss: 0.216596, valid_loss: 0.211600\n",
      "SEED: 42, FOLD: 4, EPOCH: 12, train_loss: 0.216782, valid_loss: 0.211472\n",
      "SEED: 42, FOLD: 4, EPOCH: 13, train_loss: 0.216654, valid_loss: 0.211792\n",
      "SEED: 42, FOLD: 4, EPOCH: 14, train_loss: 0.216347, valid_loss: 0.211543\n"
     ]
    }
   ],
   "source": [
    "SEED = [42]  #<-- Update\n",
    "oof = np.zeros((len(oof_df),1))\n",
    "\n",
    "for seed in SEED:\n",
    "    \n",
    "    oof_ = run_k_fold(NFOLDS, seed)\n",
    "    oof += oof_ / len(SEED)"
   ]
  },
  {
   "cell_type": "code",
   "execution_count": 37,
   "id": "4027dfbe",
   "metadata": {
    "execution": {
     "iopub.execute_input": "2022-08-15T03:25:45.875679Z",
     "iopub.status.busy": "2022-08-15T03:25:45.875260Z",
     "iopub.status.idle": "2022-08-15T03:25:46.067036Z",
     "shell.execute_reply": "2022-08-15T03:25:46.065806Z"
    },
    "papermill": {
     "duration": 0.221026,
     "end_time": "2022-08-15T03:25:46.069855",
     "exception": false,
     "start_time": "2022-08-15T03:25:45.848829",
     "status": "completed"
    },
    "tags": []
   },
   "outputs": [
    {
     "data": {
      "text/plain": [
       "0.7994078694513771"
      ]
     },
     "execution_count": 37,
     "metadata": {},
     "output_type": "execute_result"
    }
   ],
   "source": [
    "my_ap = amex_metric_mod(oof_df.target,oof[:,0])\n",
    "my_ap"
   ]
  },
  {
   "cell_type": "code",
   "execution_count": 38,
   "id": "26c892e8",
   "metadata": {
    "execution": {
     "iopub.execute_input": "2022-08-15T03:25:46.122299Z",
     "iopub.status.busy": "2022-08-15T03:25:46.121586Z",
     "iopub.status.idle": "2022-08-15T03:25:46.126975Z",
     "shell.execute_reply": "2022-08-15T03:25:46.125813Z"
    },
    "papermill": {
     "duration": 0.033645,
     "end_time": "2022-08-15T03:25:46.129286",
     "exception": false,
     "start_time": "2022-08-15T03:25:46.095641",
     "status": "completed"
    },
    "tags": []
   },
   "outputs": [],
   "source": [
    "oof_mlpstack = pd.DataFrame(oof[:,0],columns=['oof_mlpstack'])"
   ]
  },
  {
   "cell_type": "code",
   "execution_count": 39,
   "id": "2557a618",
   "metadata": {
    "execution": {
     "iopub.execute_input": "2022-08-15T03:25:46.180810Z",
     "iopub.status.busy": "2022-08-15T03:25:46.180429Z",
     "iopub.status.idle": "2022-08-15T03:25:47.042650Z",
     "shell.execute_reply": "2022-08-15T03:25:47.041659Z"
    },
    "papermill": {
     "duration": 0.890808,
     "end_time": "2022-08-15T03:25:47.045311",
     "exception": false,
     "start_time": "2022-08-15T03:25:46.154503",
     "status": "completed"
    },
    "tags": []
   },
   "outputs": [],
   "source": [
    "oof_mlpstack.to_csv('oof_mlpstack.csv',index=False)"
   ]
  },
  {
   "cell_type": "markdown",
   "id": "7885041d",
   "metadata": {
    "papermill": {
     "duration": 0.023809,
     "end_time": "2022-08-15T03:25:47.095103",
     "exception": false,
     "start_time": "2022-08-15T03:25:47.071294",
     "status": "completed"
    },
    "tags": []
   },
   "source": [
    "## Manual Weights"
   ]
  },
  {
   "cell_type": "code",
   "execution_count": 40,
   "id": "fad264bd",
   "metadata": {
    "execution": {
     "iopub.execute_input": "2022-08-15T03:25:47.146473Z",
     "iopub.status.busy": "2022-08-15T03:25:47.146094Z",
     "iopub.status.idle": "2022-08-15T03:25:47.150442Z",
     "shell.execute_reply": "2022-08-15T03:25:47.149419Z"
    },
    "papermill": {
     "duration": 0.032124,
     "end_time": "2022-08-15T03:25:47.152649",
     "exception": false,
     "start_time": "2022-08-15T03:25:47.120525",
     "status": "completed"
    },
    "tags": []
   },
   "outputs": [],
   "source": [
    "# 11 models\n",
    "# manual_preds = 0.0089*oof_xgb.oof_xgb + 0.1*oof_automl.oof_automl + 0.0078*oof_xgbpy.oof_xgbpy + 0.6*oof_cat.oof_cat + 0.39*oof_lgbm.oof_lgbm + 0.076*oof_lgbmquick.oof_lgbmquick + 0.2*oof_cnn.oof_cnn + 0.085*oof_transfer1.oof_transfer1 + 0.3*oof_transfer2.oof_transfer2 + 0.6*oof_lr.oof_lr"
   ]
  },
  {
   "cell_type": "code",
   "execution_count": 41,
   "id": "d744f07a",
   "metadata": {
    "execution": {
     "iopub.execute_input": "2022-08-15T03:25:47.208436Z",
     "iopub.status.busy": "2022-08-15T03:25:47.208003Z",
     "iopub.status.idle": "2022-08-15T03:25:47.212574Z",
     "shell.execute_reply": "2022-08-15T03:25:47.211631Z"
    },
    "papermill": {
     "duration": 0.036977,
     "end_time": "2022-08-15T03:25:47.214994",
     "exception": false,
     "start_time": "2022-08-15T03:25:47.178017",
     "status": "completed"
    },
    "tags": []
   },
   "outputs": [],
   "source": [
    "# amex_metric_mod(oof_df.target.values, manual_preds)"
   ]
  },
  {
   "cell_type": "code",
   "execution_count": null,
   "id": "33c87ea9",
   "metadata": {
    "papermill": {
     "duration": 0.024536,
     "end_time": "2022-08-15T03:25:47.264834",
     "exception": false,
     "start_time": "2022-08-15T03:25:47.240298",
     "status": "completed"
    },
    "tags": []
   },
   "outputs": [],
   "source": []
  },
  {
   "cell_type": "code",
   "execution_count": null,
   "id": "d9c1ee6b",
   "metadata": {
    "papermill": {
     "duration": 0.023876,
     "end_time": "2022-08-15T03:25:47.312874",
     "exception": false,
     "start_time": "2022-08-15T03:25:47.288998",
     "status": "completed"
    },
    "tags": []
   },
   "outputs": [],
   "source": []
  }
 ],
 "metadata": {
  "kernelspec": {
   "display_name": "Python 3",
   "language": "python",
   "name": "python3"
  },
  "language_info": {
   "codemirror_mode": {
    "name": "ipython",
    "version": 3
   },
   "file_extension": ".py",
   "mimetype": "text/x-python",
   "name": "python",
   "nbconvert_exporter": "python",
   "pygments_lexer": "ipython3",
   "version": "3.7.12"
  },
  "papermill": {
   "default_parameters": {},
   "duration": 1946.162295,
   "end_time": "2022-08-15T03:25:49.167797",
   "environment_variables": {},
   "exception": null,
   "input_path": "__notebook__.ipynb",
   "output_path": "__notebook__.ipynb",
   "parameters": {},
   "start_time": "2022-08-15T02:53:23.005502",
   "version": "2.3.4"
  }
 },
 "nbformat": 4,
 "nbformat_minor": 5
}
